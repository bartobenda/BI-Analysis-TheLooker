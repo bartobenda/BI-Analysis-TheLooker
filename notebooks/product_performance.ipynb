{
 "cells": [
  {
   "cell_type": "markdown",
   "metadata": {},
   "source": [
    "## About the project\n",
    "The purpose of this analysis is to explore product performance, customer segmentation, and marketing effectiveness for TheLook eCommerce. The goal is to identify key areas where inventory management and customer acquisition efforts can be optimized to improve profitability, especially in the women’s clothing category, which represents 40% of overall sales.\n"
   ]
  },
  {
   "cell_type": "markdown",
   "metadata": {},
   "source": []
  },
  {
   "cell_type": "markdown",
   "metadata": {},
   "source": [
    "## Project setup and data preparation\n",
    "In this section, I set up the project by importing the necessary libraries, loading and cleaning the data, and defining reusable functions. I also established a consistent visual style for the visualisations leveraging `Plotly` with custom fonts, colors, and templates for interactive charts."
   ]
  },
  {
   "cell_type": "markdown",
   "metadata": {},
   "source": [
    "### Setup and Imports\n",
    "I imported necessary libraries to handle data manipulation, visualization, and time series forecasting.\n",
    "\n"
   ]
  },
  {
   "cell_type": "code",
   "execution_count": 1030,
   "metadata": {},
   "outputs": [],
   "source": [
    "import pandas as pd\n",
    "import numpy as np\n",
    "import os\n",
    "import plotly.express as px\n",
    "import plotly.graph_objects as go\n",
    "import plotly.io as pio\n",
    "import matplotlib.pyplot as plt\n",
    "from pmdarima import auto_arima\n",
    "from prophet import Prophet\n",
    "from IPython.display import display\n",
    "from pandas.tseries.offsets import DateOffset"
   ]
  },
  {
   "cell_type": "markdown",
   "metadata": {},
   "source": [
    "### File Paths\n",
    "I set the file paths for the datasets used throughout the analysis. The outdir will be used to save new data and results.\n"
   ]
  },
  {
   "cell_type": "code",
   "execution_count": 1031,
   "metadata": {},
   "outputs": [],
   "source": [
    "file_paths = {\n",
    "    'order_items': '../data/order_items.csv',\n",
    "    'orders': '../data/orders.csv',\n",
    "    'products':'../data/products.csv',\n",
    "    'users': '../data/users.csv',\n",
    "    'product_performance': '../outdir/product_performance.csv'\n",
    "}\n",
    "\n",
    "outdir = '../outdir'"
   ]
  },
  {
   "cell_type": "markdown",
   "metadata": {},
   "source": [
    "### Functions for Data Cleaning\n",
    "To streamline data cleaning, I created reusable functions to load data, standardize column names, handle date conversion, and check for missing values."
   ]
  },
  {
   "cell_type": "code",
   "execution_count": 1032,
   "metadata": {},
   "outputs": [],
   "source": [
    "def load_data(file_path):\n",
    "    return pd.read_csv(file_path)\n",
    "\n",
    "def standardize_column_names(df):\n",
    "    df.columns = df.columns.str.lower().str.replace(' ', '_')\n",
    "    return df\n",
    "\n",
    "def convert_to_datetime(df, date_columns):\n",
    "    for col in date_columns:\n",
    "        df[col] = pd.to_datetime(df[col], errors='coerce')\n",
    "    return df\n",
    "\n",
    "def convert_to_numeric(df, columns):\n",
    "    for col in columns:\n",
    "        df[col] = pd.to_numeric(df[col], errors='coerce')\n",
    "    return df\n",
    "\n",
    "def missing_values_summary(df):\n",
    "    missing_values = df.isnull().sum()\n",
    "    return missing_values[missing_values > 0]\n"
   ]
  },
  {
   "cell_type": "markdown",
   "metadata": {},
   "source": [
    "### Pricing Strategy\n",
    "I implemented a dynamic pricing function that adjusts product prices based on category and seasonality to reflect real-world conditions. This will be applied later in the analysis."
   ]
  },
  {
   "cell_type": "code",
   "execution_count": 1033,
   "metadata": {},
   "outputs": [],
   "source": [
    "def apply_realistic_pricing(row):\n",
    "    # Define price thresholds\n",
    "    LOW_PRICE_THRESHOLD = 100\n",
    "    MID_PRICE_THRESHOLD = 150\n",
    "    \n",
    "    # No discount for products below the low price threshold\n",
    "    if row['retail_price'] < LOW_PRICE_THRESHOLD:\n",
    "        return row['retail_price']\n",
    "    \n",
    "    # Randomly apply a small discount for products between the low and mid price threshold\n",
    "    elif LOW_PRICE_THRESHOLD <= row['retail_price'] < MID_PRICE_THRESHOLD:\n",
    "        if np.random.random() > 0.5:  # 50% chance to apply a discount\n",
    "            return row['retail_price'] * np.random.uniform(0.95, 1.00)\n",
    "        else:\n",
    "            return row['retail_price']\n",
    "    \n",
    "    # For products above the mid price threshold, randomly apply either a discount or markup\n",
    "    random_choice = np.random.random()\n",
    "\n",
    "    # 50% chance for either a markup or discount\n",
    "    if random_choice > 0.5:\n",
    "        return row['retail_price'] * np.random.uniform(1.10, 1.20)  # Apply markup\n",
    "    else:\n",
    "        return row['retail_price'] * np.random.uniform(0.80, 0.95)  # Apply discount"
   ]
  },
  {
   "cell_type": "markdown",
   "metadata": {},
   "source": [
    "### Visual Setup\n",
    "To ensure all visualizations are consistent and aligned with the company’s branding, I defined custom color palettes, font settings, and a Plotly template for all charts."
   ]
  },
  {
   "cell_type": "code",
   "execution_count": 1034,
   "metadata": {},
   "outputs": [],
   "source": [
    "###### Font and Color Settings\n",
    "######  I set the font family to 'Lato' and created color schemes for different types of visual elements like campaigns and country highlights.\n",
    "\n",
    "# Font for visualizations\n",
    "font_family = 'Lato'\n",
    "\n",
    "# Primary and secondary color palette\n",
    "custom_colors = [\n",
    "    \"#607D77\", \"#466661\", \"#ECF2F0\", \"#2D494C\"  # Main brand colors\n",
    "]\n",
    "\n",
    "# Additional color palettes for various categories\n",
    "custom_colors2 = [\n",
    "    \"#E2F0E6\", \"#B7E0B1\", \"#8CCB8C\", \"#4EA96B\", \"#0B903F\", \"#007A33\"\n",
    "]\n",
    "\n",
    "custom_colors3 = [\n",
    "    \"#ECF2F0\", \"#A3C1C2\", \"#89A9AA\", \"#6A8B8C\", \"#4B6B6E\", \"#3A585B\", \"#2D494C\", \"#1F3A3B\"\n",
    "]\n",
    "\n",
    "alert_colors = [\n",
    "    \"#FFCCCC\", \"#FF9999\", \"#FF6666\", \"#FF3333\", \"#CC0000\", \"#990000\"\n",
    "]\n",
    "\n",
    "country_highlight_colors = [\n",
    "    \"#2D494C\", \"#4B3D3D\", \"#3C5A3F\", \"#5D4C8A\", \"#2F2A2A\", \"#6B3F3F\", \"#1F4E79\", \"#4B2C2C\", \"#1A1A1A\", \"#3D5B7C\"\n",
    "]\n",
    "\n",
    "multiple_categories = [\n",
    "    '#9D84BF', '#C29E8C', '#F2E74B', '#B2E4D4', '#6B3F3F',\n",
    "    '#B2C495', '#D0E1A5', '#DEB887', '#3CB371', '#FF6F61',\n",
    "    '#8A7ED9', '#F2B441', '#4946A6', '#1F4E79', '#282C40'\n",
    "]\n",
    "\n",
    "colors_campaign = [\n",
    "    '#4CAF50', '#1E88E5', '#00ACC1', '#FF7043', '#E53935',\n",
    "    '#8E24AA', '#F06292', '#BDBDBD', '#8BC34A', '#00BCD4'\n",
    "]\n"
   ]
  },
  {
   "cell_type": "code",
   "execution_count": 1035,
   "metadata": {},
   "outputs": [],
   "source": [
    "###### Custom Plotly Template\n",
    "######  I mapped specific columns to more readable labels for easier interpretation in visualizations.\n",
    "\n",
    "# Define custom template for consistent chart styling\n",
    "custom_template = go.layout.Template(\n",
    "    layout=go.Layout(\n",
    "        font=dict(\n",
    "            family=font_family,\n",
    "            size=14,\n",
    "            color='#2D494C'\n",
    "        ),\n",
    "        title=dict(\n",
    "            text='<b>Your Chart Title</b>',\n",
    "            font=dict(size=24),\n",
    "            x=0.5\n",
    "        ),\n",
    "        legend=dict(\n",
    "            title=dict(\n",
    "                text='<b>Legend Title</b>',\n",
    "                font=dict(size=16, color='#2D494C')\n",
    "            ),\n",
    "            font=dict(size=12)\n",
    "        ),\n",
    "        xaxis=dict(\n",
    "            title=dict(text='<b>X Axis Title</b>', font=dict(size=16)),\n",
    "            tickfont=dict(size=12),\n",
    "            showgrid=False\n",
    "        ),\n",
    "        yaxis=dict(\n",
    "            title=dict(text='<b>Y Axis Title</b>', font=dict(size=16)),\n",
    "            tickfont=dict(size=12),\n",
    "            showgrid=False\n",
    "        ),\n",
    "        hoverlabel=dict(\n",
    "            bgcolor='#E5F2F2',\n",
    "            bordercolor='#2D494C',\n",
    "            font=dict(size=14, color='#2D494C')\n",
    "        ),\n",
    "        paper_bgcolor='#FDFDFD',\n",
    "        plot_bgcolor='#FDFDFD'\n",
    "    )\n",
    ")\n",
    "\n",
    "# Set this template as default for all visualizations\n",
    "pio.templates['custom_template'] = custom_template\n",
    "pio.templates.default = 'custom_template'"
   ]
  },
  {
   "cell_type": "markdown",
   "metadata": {},
   "source": [
    "## Data loading, cleaning, and preparation\n",
    "\n",
    "In this section, I loaded the necessary datasets, cleaned them, handled missing values, and merged them into a final, clean dataset ready for analysis. Here's how I did it and the results from each step."
   ]
  },
  {
   "cell_type": "markdown",
   "metadata": {},
   "source": [
    "### Loading datasets \n",
    "The datasets were loaded successfully, with order details, product information, and customer demographics. \n",
    "\n",
    "**Key dataframes:**\n",
    "\n",
    "`Order Items:` Detailed records of purchased products. <br>\n",
    "`Orders:` High-level order summary data.<br>\n",
    "`Products:` Product catalog with pricing and category details.<br>\n",
    "`Users:` Demographic information of customers."
   ]
  },
  {
   "cell_type": "code",
   "execution_count": 1036,
   "metadata": {},
   "outputs": [
    {
     "name": "stdout",
     "output_type": "stream",
     "text": [
      "Order Items\n"
     ]
    },
    {
     "data": {
      "text/html": [
       "<div>\n",
       "<style scoped>\n",
       "    .dataframe tbody tr th:only-of-type {\n",
       "        vertical-align: middle;\n",
       "    }\n",
       "\n",
       "    .dataframe tbody tr th {\n",
       "        vertical-align: top;\n",
       "    }\n",
       "\n",
       "    .dataframe thead th {\n",
       "        text-align: right;\n",
       "    }\n",
       "</style>\n",
       "<table border=\"1\" class=\"dataframe\">\n",
       "  <thead>\n",
       "    <tr style=\"text-align: right;\">\n",
       "      <th></th>\n",
       "      <th>id</th>\n",
       "      <th>order_id</th>\n",
       "      <th>user_id</th>\n",
       "      <th>product_id</th>\n",
       "      <th>inventory_item_id</th>\n",
       "      <th>status</th>\n",
       "      <th>created_at</th>\n",
       "      <th>shipped_at</th>\n",
       "      <th>delivered_at</th>\n",
       "      <th>returned_at</th>\n",
       "      <th>sale_price</th>\n",
       "    </tr>\n",
       "  </thead>\n",
       "  <tbody>\n",
       "    <tr>\n",
       "      <th>0</th>\n",
       "      <td>152013</td>\n",
       "      <td>104663</td>\n",
       "      <td>83582</td>\n",
       "      <td>14235</td>\n",
       "      <td>410368</td>\n",
       "      <td>Cancelled</td>\n",
       "      <td>2023-05-07 06:08:40+00:00</td>\n",
       "      <td>NaN</td>\n",
       "      <td>NaN</td>\n",
       "      <td>NaN</td>\n",
       "      <td>0.02</td>\n",
       "    </tr>\n",
       "    <tr>\n",
       "      <th>1</th>\n",
       "      <td>40993</td>\n",
       "      <td>28204</td>\n",
       "      <td>22551</td>\n",
       "      <td>14235</td>\n",
       "      <td>110590</td>\n",
       "      <td>Complete</td>\n",
       "      <td>2023-03-14 03:47:21+00:00</td>\n",
       "      <td>2023-03-15 22:57:00+00:00</td>\n",
       "      <td>2023-03-18 01:08:00+00:00</td>\n",
       "      <td>NaN</td>\n",
       "      <td>0.02</td>\n",
       "    </tr>\n",
       "    <tr>\n",
       "      <th>2</th>\n",
       "      <td>51224</td>\n",
       "      <td>35223</td>\n",
       "      <td>28215</td>\n",
       "      <td>14235</td>\n",
       "      <td>138236</td>\n",
       "      <td>Complete</td>\n",
       "      <td>2023-12-05 13:25:30+00:00</td>\n",
       "      <td>2023-12-06 01:20:00+00:00</td>\n",
       "      <td>2023-12-10 10:04:00+00:00</td>\n",
       "      <td>NaN</td>\n",
       "      <td>0.02</td>\n",
       "    </tr>\n",
       "    <tr>\n",
       "      <th>3</th>\n",
       "      <td>36717</td>\n",
       "      <td>25278</td>\n",
       "      <td>20165</td>\n",
       "      <td>14235</td>\n",
       "      <td>99072</td>\n",
       "      <td>Shipped</td>\n",
       "      <td>2023-12-22 20:48:19+00:00</td>\n",
       "      <td>2023-12-24 16:44:00+00:00</td>\n",
       "      <td>NaN</td>\n",
       "      <td>NaN</td>\n",
       "      <td>0.02</td>\n",
       "    </tr>\n",
       "    <tr>\n",
       "      <th>4</th>\n",
       "      <td>131061</td>\n",
       "      <td>90241</td>\n",
       "      <td>71954</td>\n",
       "      <td>14235</td>\n",
       "      <td>353798</td>\n",
       "      <td>Shipped</td>\n",
       "      <td>2022-06-19 16:57:59+00:00</td>\n",
       "      <td>2022-06-19 19:29:00+00:00</td>\n",
       "      <td>NaN</td>\n",
       "      <td>NaN</td>\n",
       "      <td>0.02</td>\n",
       "    </tr>\n",
       "  </tbody>\n",
       "</table>\n",
       "</div>"
      ],
      "text/plain": [
       "       id  order_id  user_id  product_id  inventory_item_id     status  \\\n",
       "0  152013    104663    83582       14235             410368  Cancelled   \n",
       "1   40993     28204    22551       14235             110590   Complete   \n",
       "2   51224     35223    28215       14235             138236   Complete   \n",
       "3   36717     25278    20165       14235              99072    Shipped   \n",
       "4  131061     90241    71954       14235             353798    Shipped   \n",
       "\n",
       "                  created_at                 shipped_at  \\\n",
       "0  2023-05-07 06:08:40+00:00                        NaN   \n",
       "1  2023-03-14 03:47:21+00:00  2023-03-15 22:57:00+00:00   \n",
       "2  2023-12-05 13:25:30+00:00  2023-12-06 01:20:00+00:00   \n",
       "3  2023-12-22 20:48:19+00:00  2023-12-24 16:44:00+00:00   \n",
       "4  2022-06-19 16:57:59+00:00  2022-06-19 19:29:00+00:00   \n",
       "\n",
       "                delivered_at returned_at  sale_price  \n",
       "0                        NaN         NaN        0.02  \n",
       "1  2023-03-18 01:08:00+00:00         NaN        0.02  \n",
       "2  2023-12-10 10:04:00+00:00         NaN        0.02  \n",
       "3                        NaN         NaN        0.02  \n",
       "4                        NaN         NaN        0.02  "
      ]
     },
     "metadata": {},
     "output_type": "display_data"
    },
    {
     "name": "stdout",
     "output_type": "stream",
     "text": [
      "Orders\n"
     ]
    },
    {
     "data": {
      "text/html": [
       "<div>\n",
       "<style scoped>\n",
       "    .dataframe tbody tr th:only-of-type {\n",
       "        vertical-align: middle;\n",
       "    }\n",
       "\n",
       "    .dataframe tbody tr th {\n",
       "        vertical-align: top;\n",
       "    }\n",
       "\n",
       "    .dataframe thead th {\n",
       "        text-align: right;\n",
       "    }\n",
       "</style>\n",
       "<table border=\"1\" class=\"dataframe\">\n",
       "  <thead>\n",
       "    <tr style=\"text-align: right;\">\n",
       "      <th></th>\n",
       "      <th>order_id</th>\n",
       "      <th>user_id</th>\n",
       "      <th>status</th>\n",
       "      <th>gender</th>\n",
       "      <th>created_at</th>\n",
       "      <th>returned_at</th>\n",
       "      <th>shipped_at</th>\n",
       "      <th>delivered_at</th>\n",
       "      <th>num_of_item</th>\n",
       "    </tr>\n",
       "  </thead>\n",
       "  <tbody>\n",
       "    <tr>\n",
       "      <th>0</th>\n",
       "      <td>8</td>\n",
       "      <td>5</td>\n",
       "      <td>Cancelled</td>\n",
       "      <td>F</td>\n",
       "      <td>2022-10-20 10:03:00+00:00</td>\n",
       "      <td>NaN</td>\n",
       "      <td>NaN</td>\n",
       "      <td>NaN</td>\n",
       "      <td>3</td>\n",
       "    </tr>\n",
       "    <tr>\n",
       "      <th>1</th>\n",
       "      <td>60</td>\n",
       "      <td>44</td>\n",
       "      <td>Cancelled</td>\n",
       "      <td>F</td>\n",
       "      <td>2023-01-20 02:12:00+00:00</td>\n",
       "      <td>NaN</td>\n",
       "      <td>NaN</td>\n",
       "      <td>NaN</td>\n",
       "      <td>1</td>\n",
       "    </tr>\n",
       "    <tr>\n",
       "      <th>2</th>\n",
       "      <td>64</td>\n",
       "      <td>46</td>\n",
       "      <td>Cancelled</td>\n",
       "      <td>F</td>\n",
       "      <td>2021-12-06 09:11:00+00:00</td>\n",
       "      <td>NaN</td>\n",
       "      <td>NaN</td>\n",
       "      <td>NaN</td>\n",
       "      <td>1</td>\n",
       "    </tr>\n",
       "    <tr>\n",
       "      <th>3</th>\n",
       "      <td>89</td>\n",
       "      <td>65</td>\n",
       "      <td>Cancelled</td>\n",
       "      <td>F</td>\n",
       "      <td>2020-08-13 09:58:00+00:00</td>\n",
       "      <td>NaN</td>\n",
       "      <td>NaN</td>\n",
       "      <td>NaN</td>\n",
       "      <td>1</td>\n",
       "    </tr>\n",
       "    <tr>\n",
       "      <th>4</th>\n",
       "      <td>102</td>\n",
       "      <td>76</td>\n",
       "      <td>Cancelled</td>\n",
       "      <td>F</td>\n",
       "      <td>2023-01-17 08:17:00+00:00</td>\n",
       "      <td>NaN</td>\n",
       "      <td>NaN</td>\n",
       "      <td>NaN</td>\n",
       "      <td>2</td>\n",
       "    </tr>\n",
       "  </tbody>\n",
       "</table>\n",
       "</div>"
      ],
      "text/plain": [
       "   order_id  user_id     status gender                 created_at returned_at  \\\n",
       "0         8        5  Cancelled      F  2022-10-20 10:03:00+00:00         NaN   \n",
       "1        60       44  Cancelled      F  2023-01-20 02:12:00+00:00         NaN   \n",
       "2        64       46  Cancelled      F  2021-12-06 09:11:00+00:00         NaN   \n",
       "3        89       65  Cancelled      F  2020-08-13 09:58:00+00:00         NaN   \n",
       "4       102       76  Cancelled      F  2023-01-17 08:17:00+00:00         NaN   \n",
       "\n",
       "  shipped_at delivered_at  num_of_item  \n",
       "0        NaN          NaN            3  \n",
       "1        NaN          NaN            1  \n",
       "2        NaN          NaN            1  \n",
       "3        NaN          NaN            1  \n",
       "4        NaN          NaN            2  "
      ]
     },
     "metadata": {},
     "output_type": "display_data"
    },
    {
     "name": "stdout",
     "output_type": "stream",
     "text": [
      "Products\n"
     ]
    },
    {
     "data": {
      "text/html": [
       "<div>\n",
       "<style scoped>\n",
       "    .dataframe tbody tr th:only-of-type {\n",
       "        vertical-align: middle;\n",
       "    }\n",
       "\n",
       "    .dataframe tbody tr th {\n",
       "        vertical-align: top;\n",
       "    }\n",
       "\n",
       "    .dataframe thead th {\n",
       "        text-align: right;\n",
       "    }\n",
       "</style>\n",
       "<table border=\"1\" class=\"dataframe\">\n",
       "  <thead>\n",
       "    <tr style=\"text-align: right;\">\n",
       "      <th></th>\n",
       "      <th>id</th>\n",
       "      <th>cost</th>\n",
       "      <th>category</th>\n",
       "      <th>name</th>\n",
       "      <th>brand</th>\n",
       "      <th>retail_price</th>\n",
       "      <th>department</th>\n",
       "      <th>sku</th>\n",
       "      <th>distribution_center_id</th>\n",
       "    </tr>\n",
       "  </thead>\n",
       "  <tbody>\n",
       "    <tr>\n",
       "      <th>0</th>\n",
       "      <td>13842</td>\n",
       "      <td>2.51875</td>\n",
       "      <td>Accessories</td>\n",
       "      <td>Low Profile Dyed Cotton Twill Cap - Navy W39S55D</td>\n",
       "      <td>MG</td>\n",
       "      <td>6.25</td>\n",
       "      <td>Women</td>\n",
       "      <td>EBD58B8A3F1D72F4206201DA62FB1204</td>\n",
       "      <td>1</td>\n",
       "    </tr>\n",
       "    <tr>\n",
       "      <th>1</th>\n",
       "      <td>13928</td>\n",
       "      <td>2.33835</td>\n",
       "      <td>Accessories</td>\n",
       "      <td>Low Profile Dyed Cotton Twill Cap - Putty W39S55D</td>\n",
       "      <td>MG</td>\n",
       "      <td>5.95</td>\n",
       "      <td>Women</td>\n",
       "      <td>2EAC42424D12436BDD6A5B8A88480CC3</td>\n",
       "      <td>1</td>\n",
       "    </tr>\n",
       "    <tr>\n",
       "      <th>2</th>\n",
       "      <td>14115</td>\n",
       "      <td>4.87956</td>\n",
       "      <td>Accessories</td>\n",
       "      <td>Enzyme Regular Solid Army Caps-Black W35S45D</td>\n",
       "      <td>MG</td>\n",
       "      <td>10.99</td>\n",
       "      <td>Women</td>\n",
       "      <td>EE364229B2791D1EF9355708EFF0BA34</td>\n",
       "      <td>1</td>\n",
       "    </tr>\n",
       "    <tr>\n",
       "      <th>3</th>\n",
       "      <td>14157</td>\n",
       "      <td>4.64877</td>\n",
       "      <td>Accessories</td>\n",
       "      <td>Enzyme Regular Solid Army Caps-Olive W35S45D (...</td>\n",
       "      <td>MG</td>\n",
       "      <td>10.99</td>\n",
       "      <td>Women</td>\n",
       "      <td>00BD13095D06C20B11A2993CA419D16B</td>\n",
       "      <td>1</td>\n",
       "    </tr>\n",
       "    <tr>\n",
       "      <th>4</th>\n",
       "      <td>14273</td>\n",
       "      <td>6.50793</td>\n",
       "      <td>Accessories</td>\n",
       "      <td>Washed Canvas Ivy Cap - Black W11S64C</td>\n",
       "      <td>MG</td>\n",
       "      <td>15.99</td>\n",
       "      <td>Women</td>\n",
       "      <td>F531DC20FDE20B7ADF3A73F52B71D0AF</td>\n",
       "      <td>1</td>\n",
       "    </tr>\n",
       "  </tbody>\n",
       "</table>\n",
       "</div>"
      ],
      "text/plain": [
       "      id     cost     category  \\\n",
       "0  13842  2.51875  Accessories   \n",
       "1  13928  2.33835  Accessories   \n",
       "2  14115  4.87956  Accessories   \n",
       "3  14157  4.64877  Accessories   \n",
       "4  14273  6.50793  Accessories   \n",
       "\n",
       "                                                name brand  retail_price  \\\n",
       "0   Low Profile Dyed Cotton Twill Cap - Navy W39S55D    MG          6.25   \n",
       "1  Low Profile Dyed Cotton Twill Cap - Putty W39S55D    MG          5.95   \n",
       "2       Enzyme Regular Solid Army Caps-Black W35S45D    MG         10.99   \n",
       "3  Enzyme Regular Solid Army Caps-Olive W35S45D (...    MG         10.99   \n",
       "4              Washed Canvas Ivy Cap - Black W11S64C    MG         15.99   \n",
       "\n",
       "  department                               sku  distribution_center_id  \n",
       "0      Women  EBD58B8A3F1D72F4206201DA62FB1204                       1  \n",
       "1      Women  2EAC42424D12436BDD6A5B8A88480CC3                       1  \n",
       "2      Women  EE364229B2791D1EF9355708EFF0BA34                       1  \n",
       "3      Women  00BD13095D06C20B11A2993CA419D16B                       1  \n",
       "4      Women  F531DC20FDE20B7ADF3A73F52B71D0AF                       1  "
      ]
     },
     "metadata": {},
     "output_type": "display_data"
    },
    {
     "name": "stdout",
     "output_type": "stream",
     "text": [
      "Users\n"
     ]
    },
    {
     "data": {
      "text/html": [
       "<div>\n",
       "<style scoped>\n",
       "    .dataframe tbody tr th:only-of-type {\n",
       "        vertical-align: middle;\n",
       "    }\n",
       "\n",
       "    .dataframe tbody tr th {\n",
       "        vertical-align: top;\n",
       "    }\n",
       "\n",
       "    .dataframe thead th {\n",
       "        text-align: right;\n",
       "    }\n",
       "</style>\n",
       "<table border=\"1\" class=\"dataframe\">\n",
       "  <thead>\n",
       "    <tr style=\"text-align: right;\">\n",
       "      <th></th>\n",
       "      <th>id</th>\n",
       "      <th>first_name</th>\n",
       "      <th>last_name</th>\n",
       "      <th>email</th>\n",
       "      <th>age</th>\n",
       "      <th>gender</th>\n",
       "      <th>state</th>\n",
       "      <th>street_address</th>\n",
       "      <th>postal_code</th>\n",
       "      <th>city</th>\n",
       "      <th>country</th>\n",
       "      <th>latitude</th>\n",
       "      <th>longitude</th>\n",
       "      <th>traffic_source</th>\n",
       "      <th>created_at</th>\n",
       "    </tr>\n",
       "  </thead>\n",
       "  <tbody>\n",
       "    <tr>\n",
       "      <th>0</th>\n",
       "      <td>457</td>\n",
       "      <td>Timothy</td>\n",
       "      <td>Bush</td>\n",
       "      <td>timothybush@example.net</td>\n",
       "      <td>65</td>\n",
       "      <td>M</td>\n",
       "      <td>Acre</td>\n",
       "      <td>87620 Johnson Hills</td>\n",
       "      <td>69917-400</td>\n",
       "      <td>Rio Branco</td>\n",
       "      <td>Brasil</td>\n",
       "      <td>-9.945568</td>\n",
       "      <td>-67.83561</td>\n",
       "      <td>Search</td>\n",
       "      <td>2022-07-19 13:51:00+00:00</td>\n",
       "    </tr>\n",
       "    <tr>\n",
       "      <th>1</th>\n",
       "      <td>6578</td>\n",
       "      <td>Elizabeth</td>\n",
       "      <td>Martinez</td>\n",
       "      <td>elizabethmartinez@example.com</td>\n",
       "      <td>34</td>\n",
       "      <td>F</td>\n",
       "      <td>Acre</td>\n",
       "      <td>1705 Nielsen Land</td>\n",
       "      <td>69917-400</td>\n",
       "      <td>Rio Branco</td>\n",
       "      <td>Brasil</td>\n",
       "      <td>-9.945568</td>\n",
       "      <td>-67.83561</td>\n",
       "      <td>Search</td>\n",
       "      <td>2023-11-08 18:49:00+00:00</td>\n",
       "    </tr>\n",
       "    <tr>\n",
       "      <th>2</th>\n",
       "      <td>36280</td>\n",
       "      <td>Christopher</td>\n",
       "      <td>Mendoza</td>\n",
       "      <td>christophermendoza@example.net</td>\n",
       "      <td>13</td>\n",
       "      <td>M</td>\n",
       "      <td>Acre</td>\n",
       "      <td>125 Turner Isle Apt. 264</td>\n",
       "      <td>69917-400</td>\n",
       "      <td>Rio Branco</td>\n",
       "      <td>Brasil</td>\n",
       "      <td>-9.945568</td>\n",
       "      <td>-67.83561</td>\n",
       "      <td>Email</td>\n",
       "      <td>2019-08-24 06:10:00+00:00</td>\n",
       "    </tr>\n",
       "    <tr>\n",
       "      <th>3</th>\n",
       "      <td>60193</td>\n",
       "      <td>Jimmy</td>\n",
       "      <td>Conner</td>\n",
       "      <td>jimmyconner@example.com</td>\n",
       "      <td>64</td>\n",
       "      <td>M</td>\n",
       "      <td>Acre</td>\n",
       "      <td>0966 Jose Branch Apt. 008</td>\n",
       "      <td>69917-400</td>\n",
       "      <td>Rio Branco</td>\n",
       "      <td>Brasil</td>\n",
       "      <td>-9.945568</td>\n",
       "      <td>-67.83561</td>\n",
       "      <td>Search</td>\n",
       "      <td>2020-02-15 11:26:00+00:00</td>\n",
       "    </tr>\n",
       "    <tr>\n",
       "      <th>4</th>\n",
       "      <td>64231</td>\n",
       "      <td>Natasha</td>\n",
       "      <td>Wilson</td>\n",
       "      <td>natashawilson@example.net</td>\n",
       "      <td>25</td>\n",
       "      <td>F</td>\n",
       "      <td>Acre</td>\n",
       "      <td>20798 Phillip Trail Apt. 392</td>\n",
       "      <td>69917-400</td>\n",
       "      <td>Rio Branco</td>\n",
       "      <td>Brasil</td>\n",
       "      <td>-9.945568</td>\n",
       "      <td>-67.83561</td>\n",
       "      <td>Search</td>\n",
       "      <td>2020-03-13 06:45:00+00:00</td>\n",
       "    </tr>\n",
       "  </tbody>\n",
       "</table>\n",
       "</div>"
      ],
      "text/plain": [
       "      id   first_name last_name                           email  age gender  \\\n",
       "0    457      Timothy      Bush         timothybush@example.net   65      M   \n",
       "1   6578    Elizabeth  Martinez   elizabethmartinez@example.com   34      F   \n",
       "2  36280  Christopher   Mendoza  christophermendoza@example.net   13      M   \n",
       "3  60193        Jimmy    Conner         jimmyconner@example.com   64      M   \n",
       "4  64231      Natasha    Wilson       natashawilson@example.net   25      F   \n",
       "\n",
       "  state                street_address postal_code        city country  \\\n",
       "0  Acre           87620 Johnson Hills   69917-400  Rio Branco  Brasil   \n",
       "1  Acre             1705 Nielsen Land   69917-400  Rio Branco  Brasil   \n",
       "2  Acre      125 Turner Isle Apt. 264   69917-400  Rio Branco  Brasil   \n",
       "3  Acre     0966 Jose Branch Apt. 008   69917-400  Rio Branco  Brasil   \n",
       "4  Acre  20798 Phillip Trail Apt. 392   69917-400  Rio Branco  Brasil   \n",
       "\n",
       "   latitude  longitude traffic_source                 created_at  \n",
       "0 -9.945568  -67.83561         Search  2022-07-19 13:51:00+00:00  \n",
       "1 -9.945568  -67.83561         Search  2023-11-08 18:49:00+00:00  \n",
       "2 -9.945568  -67.83561          Email  2019-08-24 06:10:00+00:00  \n",
       "3 -9.945568  -67.83561         Search  2020-02-15 11:26:00+00:00  \n",
       "4 -9.945568  -67.83561         Search  2020-03-13 06:45:00+00:00  "
      ]
     },
     "metadata": {},
     "output_type": "display_data"
    }
   ],
   "source": [
    "# Load datasets\n",
    "order_items = load_data(file_paths['order_items'])\n",
    "orders = load_data(file_paths['orders'])\n",
    "products = load_data(file_paths['products'])\n",
    "users = load_data(file_paths['users'])\n",
    "\n",
    "# Display the first few rows of each dataset\n",
    "print(\"Order Items\")\n",
    "display(order_items.head())\n",
    "\n",
    "print(\"Orders\")\n",
    "display(orders.head())\n",
    "\n",
    "print(\"Products\")\n",
    "display(products.head())\n",
    "\n",
    "print(\"Users\")\n",
    "display(users.head())"
   ]
  },
  {
   "cell_type": "markdown",
   "metadata": {},
   "source": [
    "### Standardizing the dataframes\n",
    "I ensured that we had a consistent formatting (lowercase and underscores) then converted all relevant columns to the appropriate data types."
   ]
  },
  {
   "cell_type": "code",
   "execution_count": 1037,
   "metadata": {},
   "outputs": [],
   "source": [
    "# Standardize column names\n",
    "order_items = standardize_column_names(order_items)\n",
    "orders = standardize_column_names(orders)\n",
    "products = standardize_column_names(products)\n",
    "users = standardize_column_names(users)\n",
    "\n",
    "# Convert columns to proper data types\n",
    "order_items = convert_to_datetime(order_items, ['created_at', 'shipped_at', 'delivered_at', 'returned_at'])\n",
    "orders = convert_to_datetime(orders, ['created_at', 'shipped_at', 'delivered_at', 'returned_at'])\n",
    "users = convert_to_datetime(users, ['created_at'])\n",
    "order_items = convert_to_numeric(order_items, ['sale_price'])\n",
    "products = convert_to_numeric(products, ['retail_price'])\n"
   ]
  },
  {
   "cell_type": "markdown",
   "metadata": {},
   "source": [
    "### Handling missing values\n",
    "\n",
    "I identified missing values across the datasets. `shipped_at` and `delivered_at` were missing in some orders, and a few products were missing pricing information. <br>This helped us understand where further cleaning was required."
   ]
  },
  {
   "cell_type": "code",
   "execution_count": 1038,
   "metadata": {},
   "outputs": [
    {
     "name": "stdout",
     "output_type": "stream",
     "text": [
      "Missing Values in Order Items\n"
     ]
    },
    {
     "data": {
      "text/plain": [
       "created_at        4405\n",
       "shipped_at       66349\n",
       "delivered_at    119473\n",
       "returned_at     163975\n",
       "dtype: int64"
      ]
     },
     "metadata": {},
     "output_type": "display_data"
    },
    {
     "name": "stdout",
     "output_type": "stream",
     "text": [
      "Missing Values in Orders\n"
     ]
    },
    {
     "data": {
      "text/plain": [
       "created_at        3063\n",
       "returned_at     113001\n",
       "shipped_at       45772\n",
       "delivered_at     82412\n",
       "dtype: int64"
      ]
     },
     "metadata": {},
     "output_type": "display_data"
    },
    {
     "name": "stdout",
     "output_type": "stream",
     "text": [
      "Missing Values in Products\n"
     ]
    },
    {
     "data": {
      "text/plain": [
       "Series([], dtype: int64)"
      ]
     },
     "metadata": {},
     "output_type": "display_data"
    },
    {
     "name": "stdout",
     "output_type": "stream",
     "text": [
      "Missing Values in Users\n"
     ]
    },
    {
     "data": {
      "text/plain": [
       "created_at    2393\n",
       "dtype: int64"
      ]
     },
     "metadata": {},
     "output_type": "display_data"
    }
   ],
   "source": [
    "# Summarize missing values\n",
    "missing_order_items = missing_values_summary(order_items)\n",
    "missing_orders = missing_values_summary(orders)\n",
    "missing_products = missing_values_summary(products)\n",
    "missing_users = missing_values_summary(users)\n",
    "\n",
    "# Display missing values\n",
    "print(\"Missing Values in Order Items\")\n",
    "display(missing_order_items)\n",
    "\n",
    "print(\"Missing Values in Orders\")\n",
    "display(missing_orders)\n",
    "\n",
    "print(\"Missing Values in Products\")\n",
    "display(missing_products)\n",
    "\n",
    "print(\"Missing Values in Users\")\n",
    "display(missing_users)\n"
   ]
  },
  {
   "cell_type": "markdown",
   "metadata": {},
   "source": [
    "### Flagging missing data\n",
    "Flags were created for orders missing shipment data and products missing prices. This allows us to filter out incomplete records in the next steps and focus on high-quality data.\n",
    "\n",
    "**Shipping Flag**: Flags any order missing shipment or delivery information. <br>\n",
    "**Price Flag**: Flags any product missing `retail_price`"
   ]
  },
  {
   "cell_type": "code",
   "execution_count": 1039,
   "metadata": {},
   "outputs": [],
   "source": [
    "# Flag missing shipped_at or delivered_at for review\n",
    "order_items['shipping_flag'] = order_items['shipped_at'].isnull() | order_items['delivered_at'].isnull()\n",
    "orders['shipping_flag'] = orders['shipped_at'].isnull() | orders['delivered_at'].isnull()\n",
    "\n",
    "# Flag missing retail_price\n",
    "products['price_flag'] = products['retail_price'].isnull()"
   ]
  },
  {
   "cell_type": "code",
   "execution_count": 1040,
   "metadata": {},
   "outputs": [
    {
     "name": "stdout",
     "output_type": "stream",
     "text": [
      "Data types in Order Items\n"
     ]
    },
    {
     "data": {
      "text/plain": [
       "id                                 int64\n",
       "order_id                           int64\n",
       "user_id                            int64\n",
       "product_id                         int64\n",
       "inventory_item_id                  int64\n",
       "status                            object\n",
       "created_at           datetime64[ns, UTC]\n",
       "shipped_at           datetime64[ns, UTC]\n",
       "delivered_at         datetime64[ns, UTC]\n",
       "returned_at          datetime64[ns, UTC]\n",
       "sale_price                       float64\n",
       "shipping_flag                       bool\n",
       "dtype: object"
      ]
     },
     "metadata": {},
     "output_type": "display_data"
    },
    {
     "name": "stdout",
     "output_type": "stream",
     "text": [
      "Data types in Orders\n"
     ]
    },
    {
     "data": {
      "text/plain": [
       "order_id                       int64\n",
       "user_id                        int64\n",
       "status                        object\n",
       "gender                        object\n",
       "created_at       datetime64[ns, UTC]\n",
       "returned_at      datetime64[ns, UTC]\n",
       "shipped_at       datetime64[ns, UTC]\n",
       "delivered_at     datetime64[ns, UTC]\n",
       "num_of_item                    int64\n",
       "shipping_flag                   bool\n",
       "dtype: object"
      ]
     },
     "metadata": {},
     "output_type": "display_data"
    },
    {
     "name": "stdout",
     "output_type": "stream",
     "text": [
      "Data types in Products\n"
     ]
    },
    {
     "data": {
      "text/plain": [
       "id                          int64\n",
       "cost                      float64\n",
       "category                   object\n",
       "name                       object\n",
       "brand                      object\n",
       "retail_price              float64\n",
       "department                 object\n",
       "sku                        object\n",
       "distribution_center_id      int64\n",
       "price_flag                   bool\n",
       "dtype: object"
      ]
     },
     "metadata": {},
     "output_type": "display_data"
    },
    {
     "name": "stdout",
     "output_type": "stream",
     "text": [
      "Data types in Users\n"
     ]
    },
    {
     "data": {
      "text/plain": [
       "id                              int64\n",
       "first_name                     object\n",
       "last_name                      object\n",
       "email                          object\n",
       "age                             int64\n",
       "gender                         object\n",
       "state                          object\n",
       "street_address                 object\n",
       "postal_code                    object\n",
       "city                           object\n",
       "country                        object\n",
       "latitude                      float64\n",
       "longitude                     float64\n",
       "traffic_source                 object\n",
       "created_at        datetime64[ns, UTC]\n",
       "dtype: object"
      ]
     },
     "metadata": {},
     "output_type": "display_data"
    }
   ],
   "source": [
    "# Checking the datatypes integrity\n",
    "print(\"Data types in Order Items\")\n",
    "display(order_items.dtypes)\n",
    "\n",
    "print(\"Data types in Orders\")\n",
    "display(orders.dtypes)\n",
    "\n",
    "print(\"Data types in Products\")\n",
    "display(products.dtypes)\n",
    "\n",
    "print(\"Data types in Users\")\n",
    "display(users.dtypes)\n"
   ]
  },
  {
   "cell_type": "markdown",
   "metadata": {},
   "source": []
  },
  {
   "cell_type": "markdown",
   "metadata": {},
   "source": [
    "### Filtering and merging data\n",
    "\n",
    "Filtered out incomplete records (orders with missing shipment dates and products with missing prices) and merged the cleaned datasets. The final merged dataset contains order, product, and customer information, ready for analysis."
   ]
  },
  {
   "cell_type": "code",
   "execution_count": 1041,
   "metadata": {},
   "outputs": [
    {
     "data": {
      "text/html": [
       "<div>\n",
       "<style scoped>\n",
       "    .dataframe tbody tr th:only-of-type {\n",
       "        vertical-align: middle;\n",
       "    }\n",
       "\n",
       "    .dataframe tbody tr th {\n",
       "        vertical-align: top;\n",
       "    }\n",
       "\n",
       "    .dataframe thead th {\n",
       "        text-align: right;\n",
       "    }\n",
       "</style>\n",
       "<table border=\"1\" class=\"dataframe\">\n",
       "  <thead>\n",
       "    <tr style=\"text-align: right;\">\n",
       "      <th></th>\n",
       "      <th>id_x</th>\n",
       "      <th>order_id</th>\n",
       "      <th>user_id</th>\n",
       "      <th>product_id</th>\n",
       "      <th>inventory_item_id</th>\n",
       "      <th>status</th>\n",
       "      <th>created_at_x</th>\n",
       "      <th>shipped_at</th>\n",
       "      <th>delivered_at</th>\n",
       "      <th>returned_at</th>\n",
       "      <th>...</th>\n",
       "      <th>gender</th>\n",
       "      <th>state</th>\n",
       "      <th>street_address</th>\n",
       "      <th>postal_code</th>\n",
       "      <th>city</th>\n",
       "      <th>country</th>\n",
       "      <th>latitude</th>\n",
       "      <th>longitude</th>\n",
       "      <th>traffic_source</th>\n",
       "      <th>created_at_y</th>\n",
       "    </tr>\n",
       "  </thead>\n",
       "  <tbody>\n",
       "    <tr>\n",
       "      <th>0</th>\n",
       "      <td>40993</td>\n",
       "      <td>28204</td>\n",
       "      <td>22551</td>\n",
       "      <td>14235</td>\n",
       "      <td>110590</td>\n",
       "      <td>Complete</td>\n",
       "      <td>2023-03-14 03:47:21+00:00</td>\n",
       "      <td>2023-03-15 22:57:00+00:00</td>\n",
       "      <td>2023-03-18 01:08:00+00:00</td>\n",
       "      <td>NaT</td>\n",
       "      <td>...</td>\n",
       "      <td>F</td>\n",
       "      <td>Jiangsu</td>\n",
       "      <td>5374 Courtney Parkway</td>\n",
       "      <td>215007</td>\n",
       "      <td>Yulin</td>\n",
       "      <td>China</td>\n",
       "      <td>31.278607</td>\n",
       "      <td>120.642997</td>\n",
       "      <td>Organic</td>\n",
       "      <td>2022-07-15 03:59:00+00:00</td>\n",
       "    </tr>\n",
       "    <tr>\n",
       "      <th>1</th>\n",
       "      <td>51224</td>\n",
       "      <td>35223</td>\n",
       "      <td>28215</td>\n",
       "      <td>14235</td>\n",
       "      <td>138236</td>\n",
       "      <td>Complete</td>\n",
       "      <td>2023-12-05 13:25:30+00:00</td>\n",
       "      <td>2023-12-06 01:20:00+00:00</td>\n",
       "      <td>2023-12-10 10:04:00+00:00</td>\n",
       "      <td>NaT</td>\n",
       "      <td>...</td>\n",
       "      <td>F</td>\n",
       "      <td>Texas</td>\n",
       "      <td>7187 Michael Forge Apt. 777</td>\n",
       "      <td>75604</td>\n",
       "      <td>Longview</td>\n",
       "      <td>United States</td>\n",
       "      <td>32.512434</td>\n",
       "      <td>-94.825486</td>\n",
       "      <td>Organic</td>\n",
       "      <td>2019-06-22 13:23:00+00:00</td>\n",
       "    </tr>\n",
       "    <tr>\n",
       "      <th>2</th>\n",
       "      <td>67253</td>\n",
       "      <td>46269</td>\n",
       "      <td>37023</td>\n",
       "      <td>14159</td>\n",
       "      <td>181497</td>\n",
       "      <td>Complete</td>\n",
       "      <td>2021-10-31 01:26:46+00:00</td>\n",
       "      <td>2021-11-01 17:47:00+00:00</td>\n",
       "      <td>2021-11-02 13:29:00+00:00</td>\n",
       "      <td>NaT</td>\n",
       "      <td>...</td>\n",
       "      <td>F</td>\n",
       "      <td>Paraná</td>\n",
       "      <td>129 Michele Ranch Suite 046</td>\n",
       "      <td>81020-490</td>\n",
       "      <td>Curitiba</td>\n",
       "      <td>Brasil</td>\n",
       "      <td>-25.503070</td>\n",
       "      <td>-49.331363</td>\n",
       "      <td>Search</td>\n",
       "      <td>2019-08-10 04:05:00+00:00</td>\n",
       "    </tr>\n",
       "    <tr>\n",
       "      <th>3</th>\n",
       "      <td>116116</td>\n",
       "      <td>80002</td>\n",
       "      <td>63821</td>\n",
       "      <td>14159</td>\n",
       "      <td>313368</td>\n",
       "      <td>Complete</td>\n",
       "      <td>2022-04-01 13:25:52+00:00</td>\n",
       "      <td>2022-03-31 05:13:00+00:00</td>\n",
       "      <td>2022-04-02 22:18:00+00:00</td>\n",
       "      <td>NaT</td>\n",
       "      <td>...</td>\n",
       "      <td>F</td>\n",
       "      <td>Distrito Federal</td>\n",
       "      <td>208 Powell Estate</td>\n",
       "      <td>72110-600</td>\n",
       "      <td>TBA</td>\n",
       "      <td>Brasil</td>\n",
       "      <td>-15.819792</td>\n",
       "      <td>-48.048672</td>\n",
       "      <td>Organic</td>\n",
       "      <td>2022-03-21 16:49:00+00:00</td>\n",
       "    </tr>\n",
       "    <tr>\n",
       "      <th>4</th>\n",
       "      <td>54884</td>\n",
       "      <td>37750</td>\n",
       "      <td>30232</td>\n",
       "      <td>28700</td>\n",
       "      <td>148082</td>\n",
       "      <td>Complete</td>\n",
       "      <td>2023-02-27 02:31:30+00:00</td>\n",
       "      <td>2023-03-01 14:39:00+00:00</td>\n",
       "      <td>2023-03-03 16:51:00+00:00</td>\n",
       "      <td>NaT</td>\n",
       "      <td>...</td>\n",
       "      <td>M</td>\n",
       "      <td>Sergipe</td>\n",
       "      <td>378 Christine Forks</td>\n",
       "      <td>49200-000</td>\n",
       "      <td>Estância</td>\n",
       "      <td>Brasil</td>\n",
       "      <td>-11.249017</td>\n",
       "      <td>-37.398120</td>\n",
       "      <td>Search</td>\n",
       "      <td>2019-10-10 03:17:00+00:00</td>\n",
       "    </tr>\n",
       "  </tbody>\n",
       "</table>\n",
       "<p>5 rows × 37 columns</p>\n",
       "</div>"
      ],
      "text/plain": [
       "     id_x  order_id  user_id  product_id  inventory_item_id    status  \\\n",
       "0   40993     28204    22551       14235             110590  Complete   \n",
       "1   51224     35223    28215       14235             138236  Complete   \n",
       "2   67253     46269    37023       14159             181497  Complete   \n",
       "3  116116     80002    63821       14159             313368  Complete   \n",
       "4   54884     37750    30232       28700             148082  Complete   \n",
       "\n",
       "               created_at_x                shipped_at  \\\n",
       "0 2023-03-14 03:47:21+00:00 2023-03-15 22:57:00+00:00   \n",
       "1 2023-12-05 13:25:30+00:00 2023-12-06 01:20:00+00:00   \n",
       "2 2021-10-31 01:26:46+00:00 2021-11-01 17:47:00+00:00   \n",
       "3 2022-04-01 13:25:52+00:00 2022-03-31 05:13:00+00:00   \n",
       "4 2023-02-27 02:31:30+00:00 2023-03-01 14:39:00+00:00   \n",
       "\n",
       "               delivered_at returned_at  ...  gender             state  \\\n",
       "0 2023-03-18 01:08:00+00:00         NaT  ...       F           Jiangsu   \n",
       "1 2023-12-10 10:04:00+00:00         NaT  ...       F             Texas   \n",
       "2 2021-11-02 13:29:00+00:00         NaT  ...       F            Paraná   \n",
       "3 2022-04-02 22:18:00+00:00         NaT  ...       F  Distrito Federal   \n",
       "4 2023-03-03 16:51:00+00:00         NaT  ...       M           Sergipe   \n",
       "\n",
       "                street_address  postal_code      city        country  \\\n",
       "0        5374 Courtney Parkway       215007     Yulin          China   \n",
       "1  7187 Michael Forge Apt. 777        75604  Longview  United States   \n",
       "2  129 Michele Ranch Suite 046    81020-490  Curitiba         Brasil   \n",
       "3            208 Powell Estate    72110-600       TBA         Brasil   \n",
       "4          378 Christine Forks    49200-000  Estância         Brasil   \n",
       "\n",
       "    latitude   longitude traffic_source              created_at_y  \n",
       "0  31.278607  120.642997        Organic 2022-07-15 03:59:00+00:00  \n",
       "1  32.512434  -94.825486        Organic 2019-06-22 13:23:00+00:00  \n",
       "2 -25.503070  -49.331363         Search 2019-08-10 04:05:00+00:00  \n",
       "3 -15.819792  -48.048672        Organic 2022-03-21 16:49:00+00:00  \n",
       "4 -11.249017  -37.398120         Search 2019-10-10 03:17:00+00:00  \n",
       "\n",
       "[5 rows x 37 columns]"
      ]
     },
     "metadata": {},
     "output_type": "display_data"
    }
   ],
   "source": [
    "# Filter out incomplete orders and products\n",
    "cleaned_order_items = order_items[order_items['status'] == 'Complete']\n",
    "cleaned_order_items = cleaned_order_items[cleaned_order_items['shipping_flag'] == False]\n",
    "cleaned_products = products[products['price_flag'] == False]\n",
    "\n",
    "# Merge the cleaned datasets\n",
    "product_performance = pd.merge(cleaned_order_items, cleaned_products, how='inner', left_on='product_id', right_on='id')\n",
    "product_performance = pd.merge(product_performance, users, how='inner', left_on='user_id', right_on='id')\n",
    "\n",
    "# Display the merged dataset\n",
    "display(product_performance.head())\n"
   ]
  },
  {
   "cell_type": "code",
   "execution_count": 1042,
   "metadata": {},
   "outputs": [
    {
     "name": "stdout",
     "output_type": "stream",
     "text": [
      "<class 'pandas.core.frame.DataFrame'>\n",
      "RangeIndex: 44502 entries, 0 to 44501\n",
      "Data columns (total 26 columns):\n",
      " #   Column             Non-Null Count  Dtype              \n",
      "---  ------             --------------  -----              \n",
      " 0   id_x               44502 non-null  int64              \n",
      " 1   order_id           44502 non-null  int64              \n",
      " 2   user_id            44502 non-null  int64              \n",
      " 3   product_id         44502 non-null  int64              \n",
      " 4   inventory_item_id  44502 non-null  int64              \n",
      " 5   status             44502 non-null  object             \n",
      " 6   created_at_x       44502 non-null  datetime64[ns, UTC]\n",
      " 7   shipped_at         44502 non-null  datetime64[ns, UTC]\n",
      " 8   delivered_at       44502 non-null  datetime64[ns, UTC]\n",
      " 9   sale_price         44502 non-null  float64            \n",
      " 10  shipping_flag      44502 non-null  bool               \n",
      " 11  id_y               44502 non-null  int64              \n",
      " 12  cost               44502 non-null  float64            \n",
      " 13  category           44502 non-null  object             \n",
      " 14  brand              44502 non-null  object             \n",
      " 15  retail_price       44502 non-null  float64            \n",
      " 16  price_flag         44502 non-null  bool               \n",
      " 17  id                 44502 non-null  int64              \n",
      " 18  age                44502 non-null  int64              \n",
      " 19  gender             44502 non-null  object             \n",
      " 20  city               44502 non-null  object             \n",
      " 21  country            44502 non-null  object             \n",
      " 22  latitude           44502 non-null  float64            \n",
      " 23  longitude          44502 non-null  float64            \n",
      " 24  traffic_source     44502 non-null  object             \n",
      " 25  created_at_y       44502 non-null  datetime64[ns, UTC]\n",
      "dtypes: bool(2), datetime64[ns, UTC](4), float64(5), int64(8), object(7)\n",
      "memory usage: 8.2+ MB\n"
     ]
    }
   ],
   "source": [
    "# Drop unnecessary columns\n",
    "columns_to_drop = ['street_address', 'postal_code', 'state', 'sku', 'distribution_center_id', 'first_name', 'last_name', 'email', 'name', 'department', 'returned_at']\n",
    "product_performance = product_performance.drop(columns=columns_to_drop)\n",
    "\n",
    "# Save the cleaned dataset\n",
    "product_performance.to_csv(os.path.join(outdir, 'product_performance.csv'), index=False)\n",
    "\n",
    "# Display the final dataset information\n",
    "product_performance.info()\n"
   ]
  },
  {
   "cell_type": "markdown",
   "metadata": {},
   "source": []
  },
  {
   "cell_type": "markdown",
   "metadata": {},
   "source": []
  },
  {
   "cell_type": "markdown",
   "metadata": {},
   "source": [
    "---------------------------------------------------------------------------------------------------------------------------------------------------------------------"
   ]
  },
  {
   "cell_type": "markdown",
   "metadata": {},
   "source": []
  },
  {
   "cell_type": "markdown",
   "metadata": {},
   "source": [
    "## Revenue, Profitability, and Performance Analysis\n",
    "\n",
    "The objective of this analysis is to understand the revenue, profitability, and overall performance of product categories, customer segments, and traffic sources.<br>\n",
    "This involves calculating key metrics such as revenue, profitability, average order value (AOV), and conversion rate over time."
   ]
  },
  {
   "cell_type": "markdown",
   "metadata": {},
   "source": [
    "### Analyzing Revenue and Profitability by Year and Quarter\n",
    "\n",
    "**What I did:**\n",
    "I calculated the total *revenue* and *profitability* by year and quarter to get an overview of how the company’s financials evolved over time.\n",
    "\n",
    "**What I got:**\n",
    "Revenue increased steadily over time, with some quarters in 2021 and 2023 showing significant jumps. Initially, profitability was either zero or negative, but after adjusting for more realistic pricing, profitability began to improve. "
   ]
  },
  {
   "cell_type": "code",
   "execution_count": 1043,
   "metadata": {},
   "outputs": [
    {
     "data": {
      "text/html": [
       "<div>\n",
       "<style scoped>\n",
       "    .dataframe tbody tr th:only-of-type {\n",
       "        vertical-align: middle;\n",
       "    }\n",
       "\n",
       "    .dataframe tbody tr th {\n",
       "        vertical-align: top;\n",
       "    }\n",
       "\n",
       "    .dataframe thead th {\n",
       "        text-align: right;\n",
       "    }\n",
       "</style>\n",
       "<table border=\"1\" class=\"dataframe\">\n",
       "  <thead>\n",
       "    <tr style=\"text-align: right;\">\n",
       "      <th></th>\n",
       "      <th>year</th>\n",
       "      <th>quarter</th>\n",
       "      <th>revenue</th>\n",
       "    </tr>\n",
       "  </thead>\n",
       "  <tbody>\n",
       "    <tr>\n",
       "      <th>0</th>\n",
       "      <td>2019</td>\n",
       "      <td>1</td>\n",
       "      <td>2148.230006</td>\n",
       "    </tr>\n",
       "    <tr>\n",
       "      <th>1</th>\n",
       "      <td>2019</td>\n",
       "      <td>2</td>\n",
       "      <td>9127.729986</td>\n",
       "    </tr>\n",
       "    <tr>\n",
       "      <th>2</th>\n",
       "      <td>2019</td>\n",
       "      <td>3</td>\n",
       "      <td>17527.149997</td>\n",
       "    </tr>\n",
       "    <tr>\n",
       "      <th>3</th>\n",
       "      <td>2019</td>\n",
       "      <td>4</td>\n",
       "      <td>24412.450044</td>\n",
       "    </tr>\n",
       "    <tr>\n",
       "      <th>4</th>\n",
       "      <td>2020</td>\n",
       "      <td>1</td>\n",
       "      <td>35027.580022</td>\n",
       "    </tr>\n",
       "    <tr>\n",
       "      <th>5</th>\n",
       "      <td>2020</td>\n",
       "      <td>2</td>\n",
       "      <td>46035.060017</td>\n",
       "    </tr>\n",
       "    <tr>\n",
       "      <th>6</th>\n",
       "      <td>2020</td>\n",
       "      <td>3</td>\n",
       "      <td>50046.790070</td>\n",
       "    </tr>\n",
       "    <tr>\n",
       "      <th>7</th>\n",
       "      <td>2020</td>\n",
       "      <td>4</td>\n",
       "      <td>56647.580041</td>\n",
       "    </tr>\n",
       "    <tr>\n",
       "      <th>8</th>\n",
       "      <td>2021</td>\n",
       "      <td>1</td>\n",
       "      <td>77389.700085</td>\n",
       "    </tr>\n",
       "    <tr>\n",
       "      <th>9</th>\n",
       "      <td>2021</td>\n",
       "      <td>2</td>\n",
       "      <td>83640.650142</td>\n",
       "    </tr>\n",
       "    <tr>\n",
       "      <th>10</th>\n",
       "      <td>2021</td>\n",
       "      <td>3</td>\n",
       "      <td>88117.130051</td>\n",
       "    </tr>\n",
       "    <tr>\n",
       "      <th>11</th>\n",
       "      <td>2021</td>\n",
       "      <td>4</td>\n",
       "      <td>111714.930024</td>\n",
       "    </tr>\n",
       "    <tr>\n",
       "      <th>12</th>\n",
       "      <td>2022</td>\n",
       "      <td>1</td>\n",
       "      <td>114743.170182</td>\n",
       "    </tr>\n",
       "    <tr>\n",
       "      <th>13</th>\n",
       "      <td>2022</td>\n",
       "      <td>2</td>\n",
       "      <td>151009.050215</td>\n",
       "    </tr>\n",
       "    <tr>\n",
       "      <th>14</th>\n",
       "      <td>2022</td>\n",
       "      <td>3</td>\n",
       "      <td>158530.170202</td>\n",
       "    </tr>\n",
       "    <tr>\n",
       "      <th>15</th>\n",
       "      <td>2022</td>\n",
       "      <td>4</td>\n",
       "      <td>204971.100271</td>\n",
       "    </tr>\n",
       "    <tr>\n",
       "      <th>16</th>\n",
       "      <td>2023</td>\n",
       "      <td>1</td>\n",
       "      <td>225403.760170</td>\n",
       "    </tr>\n",
       "    <tr>\n",
       "      <th>17</th>\n",
       "      <td>2023</td>\n",
       "      <td>2</td>\n",
       "      <td>263106.720333</td>\n",
       "    </tr>\n",
       "    <tr>\n",
       "      <th>18</th>\n",
       "      <td>2023</td>\n",
       "      <td>3</td>\n",
       "      <td>336230.910496</td>\n",
       "    </tr>\n",
       "    <tr>\n",
       "      <th>19</th>\n",
       "      <td>2023</td>\n",
       "      <td>4</td>\n",
       "      <td>453826.430530</td>\n",
       "    </tr>\n",
       "    <tr>\n",
       "      <th>20</th>\n",
       "      <td>2024</td>\n",
       "      <td>1</td>\n",
       "      <td>139637.340087</td>\n",
       "    </tr>\n",
       "  </tbody>\n",
       "</table>\n",
       "</div>"
      ],
      "text/plain": [
       "    year  quarter        revenue\n",
       "0   2019        1    2148.230006\n",
       "1   2019        2    9127.729986\n",
       "2   2019        3   17527.149997\n",
       "3   2019        4   24412.450044\n",
       "4   2020        1   35027.580022\n",
       "5   2020        2   46035.060017\n",
       "6   2020        3   50046.790070\n",
       "7   2020        4   56647.580041\n",
       "8   2021        1   77389.700085\n",
       "9   2021        2   83640.650142\n",
       "10  2021        3   88117.130051\n",
       "11  2021        4  111714.930024\n",
       "12  2022        1  114743.170182\n",
       "13  2022        2  151009.050215\n",
       "14  2022        3  158530.170202\n",
       "15  2022        4  204971.100271\n",
       "16  2023        1  225403.760170\n",
       "17  2023        2  263106.720333\n",
       "18  2023        3  336230.910496\n",
       "19  2023        4  453826.430530\n",
       "20  2024        1  139637.340087"
      ]
     },
     "metadata": {},
     "output_type": "display_data"
    },
    {
     "data": {
      "text/html": [
       "<div>\n",
       "<style scoped>\n",
       "    .dataframe tbody tr th:only-of-type {\n",
       "        vertical-align: middle;\n",
       "    }\n",
       "\n",
       "    .dataframe tbody tr th {\n",
       "        vertical-align: top;\n",
       "    }\n",
       "\n",
       "    .dataframe thead th {\n",
       "        text-align: right;\n",
       "    }\n",
       "</style>\n",
       "<table border=\"1\" class=\"dataframe\">\n",
       "  <thead>\n",
       "    <tr style=\"text-align: right;\">\n",
       "      <th></th>\n",
       "      <th>year</th>\n",
       "      <th>quarter</th>\n",
       "      <th>revenue</th>\n",
       "      <th>profitability</th>\n",
       "    </tr>\n",
       "  </thead>\n",
       "  <tbody>\n",
       "    <tr>\n",
       "      <th>0</th>\n",
       "      <td>2019</td>\n",
       "      <td>1</td>\n",
       "      <td>2148.230006</td>\n",
       "      <td>0.0</td>\n",
       "    </tr>\n",
       "    <tr>\n",
       "      <th>1</th>\n",
       "      <td>2019</td>\n",
       "      <td>2</td>\n",
       "      <td>9127.729986</td>\n",
       "      <td>0.0</td>\n",
       "    </tr>\n",
       "    <tr>\n",
       "      <th>2</th>\n",
       "      <td>2019</td>\n",
       "      <td>3</td>\n",
       "      <td>17527.149997</td>\n",
       "      <td>0.0</td>\n",
       "    </tr>\n",
       "    <tr>\n",
       "      <th>3</th>\n",
       "      <td>2019</td>\n",
       "      <td>4</td>\n",
       "      <td>24412.450044</td>\n",
       "      <td>0.0</td>\n",
       "    </tr>\n",
       "    <tr>\n",
       "      <th>4</th>\n",
       "      <td>2020</td>\n",
       "      <td>1</td>\n",
       "      <td>35027.580022</td>\n",
       "      <td>0.0</td>\n",
       "    </tr>\n",
       "    <tr>\n",
       "      <th>5</th>\n",
       "      <td>2020</td>\n",
       "      <td>2</td>\n",
       "      <td>46035.060017</td>\n",
       "      <td>0.0</td>\n",
       "    </tr>\n",
       "    <tr>\n",
       "      <th>6</th>\n",
       "      <td>2020</td>\n",
       "      <td>3</td>\n",
       "      <td>50046.790070</td>\n",
       "      <td>0.0</td>\n",
       "    </tr>\n",
       "    <tr>\n",
       "      <th>7</th>\n",
       "      <td>2020</td>\n",
       "      <td>4</td>\n",
       "      <td>56647.580041</td>\n",
       "      <td>0.0</td>\n",
       "    </tr>\n",
       "    <tr>\n",
       "      <th>8</th>\n",
       "      <td>2021</td>\n",
       "      <td>1</td>\n",
       "      <td>77389.700085</td>\n",
       "      <td>0.0</td>\n",
       "    </tr>\n",
       "    <tr>\n",
       "      <th>9</th>\n",
       "      <td>2021</td>\n",
       "      <td>2</td>\n",
       "      <td>83640.650142</td>\n",
       "      <td>0.0</td>\n",
       "    </tr>\n",
       "    <tr>\n",
       "      <th>10</th>\n",
       "      <td>2021</td>\n",
       "      <td>3</td>\n",
       "      <td>88117.130051</td>\n",
       "      <td>0.0</td>\n",
       "    </tr>\n",
       "    <tr>\n",
       "      <th>11</th>\n",
       "      <td>2021</td>\n",
       "      <td>4</td>\n",
       "      <td>111714.930024</td>\n",
       "      <td>0.0</td>\n",
       "    </tr>\n",
       "    <tr>\n",
       "      <th>12</th>\n",
       "      <td>2022</td>\n",
       "      <td>1</td>\n",
       "      <td>114743.170182</td>\n",
       "      <td>0.0</td>\n",
       "    </tr>\n",
       "    <tr>\n",
       "      <th>13</th>\n",
       "      <td>2022</td>\n",
       "      <td>2</td>\n",
       "      <td>151009.050215</td>\n",
       "      <td>0.0</td>\n",
       "    </tr>\n",
       "    <tr>\n",
       "      <th>14</th>\n",
       "      <td>2022</td>\n",
       "      <td>3</td>\n",
       "      <td>158530.170202</td>\n",
       "      <td>0.0</td>\n",
       "    </tr>\n",
       "    <tr>\n",
       "      <th>15</th>\n",
       "      <td>2022</td>\n",
       "      <td>4</td>\n",
       "      <td>204971.100271</td>\n",
       "      <td>0.0</td>\n",
       "    </tr>\n",
       "    <tr>\n",
       "      <th>16</th>\n",
       "      <td>2023</td>\n",
       "      <td>1</td>\n",
       "      <td>225403.760170</td>\n",
       "      <td>0.0</td>\n",
       "    </tr>\n",
       "    <tr>\n",
       "      <th>17</th>\n",
       "      <td>2023</td>\n",
       "      <td>2</td>\n",
       "      <td>263106.720333</td>\n",
       "      <td>0.0</td>\n",
       "    </tr>\n",
       "    <tr>\n",
       "      <th>18</th>\n",
       "      <td>2023</td>\n",
       "      <td>3</td>\n",
       "      <td>336230.910496</td>\n",
       "      <td>0.0</td>\n",
       "    </tr>\n",
       "    <tr>\n",
       "      <th>19</th>\n",
       "      <td>2023</td>\n",
       "      <td>4</td>\n",
       "      <td>453826.430530</td>\n",
       "      <td>0.0</td>\n",
       "    </tr>\n",
       "    <tr>\n",
       "      <th>20</th>\n",
       "      <td>2024</td>\n",
       "      <td>1</td>\n",
       "      <td>139637.340087</td>\n",
       "      <td>0.0</td>\n",
       "    </tr>\n",
       "  </tbody>\n",
       "</table>\n",
       "</div>"
      ],
      "text/plain": [
       "    year  quarter        revenue  profitability\n",
       "0   2019        1    2148.230006            0.0\n",
       "1   2019        2    9127.729986            0.0\n",
       "2   2019        3   17527.149997            0.0\n",
       "3   2019        4   24412.450044            0.0\n",
       "4   2020        1   35027.580022            0.0\n",
       "5   2020        2   46035.060017            0.0\n",
       "6   2020        3   50046.790070            0.0\n",
       "7   2020        4   56647.580041            0.0\n",
       "8   2021        1   77389.700085            0.0\n",
       "9   2021        2   83640.650142            0.0\n",
       "10  2021        3   88117.130051            0.0\n",
       "11  2021        4  111714.930024            0.0\n",
       "12  2022        1  114743.170182            0.0\n",
       "13  2022        2  151009.050215            0.0\n",
       "14  2022        3  158530.170202            0.0\n",
       "15  2022        4  204971.100271            0.0\n",
       "16  2023        1  225403.760170            0.0\n",
       "17  2023        2  263106.720333            0.0\n",
       "18  2023        3  336230.910496            0.0\n",
       "19  2023        4  453826.430530            0.0\n",
       "20  2024        1  139637.340087            0.0"
      ]
     },
     "metadata": {},
     "output_type": "display_data"
    }
   ],
   "source": [
    "# 1. Aggregate revenue by year and quarter\n",
    "product_performance['year'] = product_performance['created_at_x'].dt.year\n",
    "product_performance['quarter'] = product_performance['created_at_x'].dt.quarter\n",
    "product_performance['revenue'] = product_performance['sale_price']\n",
    "\n",
    "# Summing up the revenue by year and quarter\n",
    "revenue_by_time = product_performance.groupby(['year', 'quarter'])['revenue'].sum().reset_index()\n",
    "\n",
    "display(revenue_by_time)\n",
    "\n",
    "# 2. Calculate profitability\n",
    "product_performance['profitability'] = product_performance['sale_price'] - product_performance['retail_price']\n",
    "\n",
    "# Aggregate revenue and profitability by year and quarter\n",
    "kpm_1 = product_performance.groupby(['year', 'quarter']).agg({\n",
    "    'revenue': 'sum',\n",
    "    'profitability': 'sum'\n",
    "}).reset_index()\n",
    "\n",
    "display(kpm_1)\n"
   ]
  },
  {
   "cell_type": "markdown",
   "metadata": {},
   "source": [
    "### Data manipulation for realistic pricing and profitability\n",
    "\n",
    "**What I did:**\n",
    "I applied a realistic pricing model, simulating price adjustments such as seasonal discounts and premium pricing on certain products. Profitability was recalculated accordingly.\n",
    "\n",
    "**What I got:**\n",
    "Profitability improved significantly after applying this pricing strategy. For instance, in `2023 Q3`, profitability reached **$7k +**, highlighting the impact of price adjustments."
   ]
  },
  {
   "cell_type": "code",
   "execution_count": 1044,
   "metadata": {},
   "outputs": [
    {
     "data": {
      "text/html": [
       "<div>\n",
       "<style scoped>\n",
       "    .dataframe tbody tr th:only-of-type {\n",
       "        vertical-align: middle;\n",
       "    }\n",
       "\n",
       "    .dataframe tbody tr th {\n",
       "        vertical-align: top;\n",
       "    }\n",
       "\n",
       "    .dataframe thead th {\n",
       "        text-align: right;\n",
       "    }\n",
       "</style>\n",
       "<table border=\"1\" class=\"dataframe\">\n",
       "  <thead>\n",
       "    <tr style=\"text-align: right;\">\n",
       "      <th></th>\n",
       "      <th>year</th>\n",
       "      <th>quarter</th>\n",
       "      <th>sale_price</th>\n",
       "      <th>profitability</th>\n",
       "    </tr>\n",
       "  </thead>\n",
       "  <tbody>\n",
       "    <tr>\n",
       "      <th>0</th>\n",
       "      <td>2019</td>\n",
       "      <td>1</td>\n",
       "      <td>2200.693163</td>\n",
       "      <td>52.463157</td>\n",
       "    </tr>\n",
       "    <tr>\n",
       "      <th>1</th>\n",
       "      <td>2019</td>\n",
       "      <td>2</td>\n",
       "      <td>9044.499491</td>\n",
       "      <td>-83.230495</td>\n",
       "    </tr>\n",
       "    <tr>\n",
       "      <th>2</th>\n",
       "      <td>2019</td>\n",
       "      <td>3</td>\n",
       "      <td>17693.602759</td>\n",
       "      <td>166.452762</td>\n",
       "    </tr>\n",
       "    <tr>\n",
       "      <th>3</th>\n",
       "      <td>2019</td>\n",
       "      <td>4</td>\n",
       "      <td>24364.313020</td>\n",
       "      <td>-48.137024</td>\n",
       "    </tr>\n",
       "    <tr>\n",
       "      <th>4</th>\n",
       "      <td>2020</td>\n",
       "      <td>1</td>\n",
       "      <td>35372.630625</td>\n",
       "      <td>345.050603</td>\n",
       "    </tr>\n",
       "    <tr>\n",
       "      <th>5</th>\n",
       "      <td>2020</td>\n",
       "      <td>2</td>\n",
       "      <td>46210.681878</td>\n",
       "      <td>175.621861</td>\n",
       "    </tr>\n",
       "    <tr>\n",
       "      <th>6</th>\n",
       "      <td>2020</td>\n",
       "      <td>3</td>\n",
       "      <td>50105.317271</td>\n",
       "      <td>58.527201</td>\n",
       "    </tr>\n",
       "    <tr>\n",
       "      <th>7</th>\n",
       "      <td>2020</td>\n",
       "      <td>4</td>\n",
       "      <td>57069.659977</td>\n",
       "      <td>422.079935</td>\n",
       "    </tr>\n",
       "    <tr>\n",
       "      <th>8</th>\n",
       "      <td>2021</td>\n",
       "      <td>1</td>\n",
       "      <td>78365.149634</td>\n",
       "      <td>975.449549</td>\n",
       "    </tr>\n",
       "    <tr>\n",
       "      <th>9</th>\n",
       "      <td>2021</td>\n",
       "      <td>2</td>\n",
       "      <td>83764.249604</td>\n",
       "      <td>123.599462</td>\n",
       "    </tr>\n",
       "    <tr>\n",
       "      <th>10</th>\n",
       "      <td>2021</td>\n",
       "      <td>3</td>\n",
       "      <td>87716.703238</td>\n",
       "      <td>-400.426813</td>\n",
       "    </tr>\n",
       "    <tr>\n",
       "      <th>11</th>\n",
       "      <td>2021</td>\n",
       "      <td>4</td>\n",
       "      <td>111806.861952</td>\n",
       "      <td>91.931928</td>\n",
       "    </tr>\n",
       "    <tr>\n",
       "      <th>12</th>\n",
       "      <td>2022</td>\n",
       "      <td>1</td>\n",
       "      <td>115083.877534</td>\n",
       "      <td>340.707352</td>\n",
       "    </tr>\n",
       "    <tr>\n",
       "      <th>13</th>\n",
       "      <td>2022</td>\n",
       "      <td>2</td>\n",
       "      <td>151128.993620</td>\n",
       "      <td>119.943405</td>\n",
       "    </tr>\n",
       "    <tr>\n",
       "      <th>14</th>\n",
       "      <td>2022</td>\n",
       "      <td>3</td>\n",
       "      <td>158687.253747</td>\n",
       "      <td>157.083545</td>\n",
       "    </tr>\n",
       "    <tr>\n",
       "      <th>15</th>\n",
       "      <td>2022</td>\n",
       "      <td>4</td>\n",
       "      <td>204651.110494</td>\n",
       "      <td>-319.989776</td>\n",
       "    </tr>\n",
       "    <tr>\n",
       "      <th>16</th>\n",
       "      <td>2023</td>\n",
       "      <td>1</td>\n",
       "      <td>224866.858599</td>\n",
       "      <td>-536.901571</td>\n",
       "    </tr>\n",
       "    <tr>\n",
       "      <th>17</th>\n",
       "      <td>2023</td>\n",
       "      <td>2</td>\n",
       "      <td>265863.215948</td>\n",
       "      <td>2756.495616</td>\n",
       "    </tr>\n",
       "    <tr>\n",
       "      <th>18</th>\n",
       "      <td>2023</td>\n",
       "      <td>3</td>\n",
       "      <td>336746.952380</td>\n",
       "      <td>516.041885</td>\n",
       "    </tr>\n",
       "    <tr>\n",
       "      <th>19</th>\n",
       "      <td>2023</td>\n",
       "      <td>4</td>\n",
       "      <td>456513.717315</td>\n",
       "      <td>2687.286785</td>\n",
       "    </tr>\n",
       "    <tr>\n",
       "      <th>20</th>\n",
       "      <td>2024</td>\n",
       "      <td>1</td>\n",
       "      <td>140256.409271</td>\n",
       "      <td>619.069184</td>\n",
       "    </tr>\n",
       "  </tbody>\n",
       "</table>\n",
       "</div>"
      ],
      "text/plain": [
       "    year  quarter     sale_price  profitability\n",
       "0   2019        1    2200.693163      52.463157\n",
       "1   2019        2    9044.499491     -83.230495\n",
       "2   2019        3   17693.602759     166.452762\n",
       "3   2019        4   24364.313020     -48.137024\n",
       "4   2020        1   35372.630625     345.050603\n",
       "5   2020        2   46210.681878     175.621861\n",
       "6   2020        3   50105.317271      58.527201\n",
       "7   2020        4   57069.659977     422.079935\n",
       "8   2021        1   78365.149634     975.449549\n",
       "9   2021        2   83764.249604     123.599462\n",
       "10  2021        3   87716.703238    -400.426813\n",
       "11  2021        4  111806.861952      91.931928\n",
       "12  2022        1  115083.877534     340.707352\n",
       "13  2022        2  151128.993620     119.943405\n",
       "14  2022        3  158687.253747     157.083545\n",
       "15  2022        4  204651.110494    -319.989776\n",
       "16  2023        1  224866.858599    -536.901571\n",
       "17  2023        2  265863.215948    2756.495616\n",
       "18  2023        3  336746.952380     516.041885\n",
       "19  2023        4  456513.717315    2687.286785\n",
       "20  2024        1  140256.409271     619.069184"
      ]
     },
     "metadata": {},
     "output_type": "display_data"
    }
   ],
   "source": [
    "# Apply the realistic pricing logic to the dataset\n",
    "product_performance['sale_price'] = product_performance.apply(apply_realistic_pricing, axis=1)\n",
    "\n",
    "# Recalculate profitability\n",
    "product_performance['profitability'] = product_performance['sale_price'] - product_performance['retail_price']\n",
    "\n",
    "kpm_2 = product_performance.groupby(['year', 'quarter']).agg({\n",
    "    'sale_price': 'sum',\n",
    "    'profitability': 'sum'\n",
    "}).reset_index()\n",
    "\n",
    "display(kpm_2)"
   ]
  },
  {
   "cell_type": "code",
   "execution_count": 1045,
   "metadata": {},
   "outputs": [
    {
     "data": {
      "text/html": [
       "<div>\n",
       "<style scoped>\n",
       "    .dataframe tbody tr th:only-of-type {\n",
       "        vertical-align: middle;\n",
       "    }\n",
       "\n",
       "    .dataframe tbody tr th {\n",
       "        vertical-align: top;\n",
       "    }\n",
       "\n",
       "    .dataframe thead th {\n",
       "        text-align: right;\n",
       "    }\n",
       "</style>\n",
       "<table border=\"1\" class=\"dataframe\">\n",
       "  <thead>\n",
       "    <tr style=\"text-align: right;\">\n",
       "      <th></th>\n",
       "      <th>year</th>\n",
       "      <th>quarter</th>\n",
       "      <th>sale_price</th>\n",
       "      <th>profitability</th>\n",
       "      <th>order_id</th>\n",
       "      <th>user_id</th>\n",
       "      <th>AOV</th>\n",
       "      <th>conversion_rate</th>\n",
       "    </tr>\n",
       "  </thead>\n",
       "  <tbody>\n",
       "    <tr>\n",
       "      <th>0</th>\n",
       "      <td>2019</td>\n",
       "      <td>1</td>\n",
       "      <td>2200.693163</td>\n",
       "      <td>52.463157</td>\n",
       "      <td>29</td>\n",
       "      <td>29</td>\n",
       "      <td>75.885971</td>\n",
       "      <td>100.000000</td>\n",
       "    </tr>\n",
       "    <tr>\n",
       "      <th>1</th>\n",
       "      <td>2019</td>\n",
       "      <td>2</td>\n",
       "      <td>9044.499491</td>\n",
       "      <td>-83.230495</td>\n",
       "      <td>122</td>\n",
       "      <td>120</td>\n",
       "      <td>74.135242</td>\n",
       "      <td>101.666667</td>\n",
       "    </tr>\n",
       "    <tr>\n",
       "      <th>2</th>\n",
       "      <td>2019</td>\n",
       "      <td>3</td>\n",
       "      <td>17693.602759</td>\n",
       "      <td>166.452762</td>\n",
       "      <td>191</td>\n",
       "      <td>190</td>\n",
       "      <td>92.636664</td>\n",
       "      <td>100.526316</td>\n",
       "    </tr>\n",
       "    <tr>\n",
       "      <th>3</th>\n",
       "      <td>2019</td>\n",
       "      <td>4</td>\n",
       "      <td>24364.313020</td>\n",
       "      <td>-48.137024</td>\n",
       "      <td>287</td>\n",
       "      <td>286</td>\n",
       "      <td>84.893077</td>\n",
       "      <td>100.349650</td>\n",
       "    </tr>\n",
       "    <tr>\n",
       "      <th>4</th>\n",
       "      <td>2020</td>\n",
       "      <td>1</td>\n",
       "      <td>35372.630625</td>\n",
       "      <td>345.050603</td>\n",
       "      <td>378</td>\n",
       "      <td>377</td>\n",
       "      <td>93.578388</td>\n",
       "      <td>100.265252</td>\n",
       "    </tr>\n",
       "    <tr>\n",
       "      <th>5</th>\n",
       "      <td>2020</td>\n",
       "      <td>2</td>\n",
       "      <td>46210.681878</td>\n",
       "      <td>175.621861</td>\n",
       "      <td>534</td>\n",
       "      <td>529</td>\n",
       "      <td>86.536857</td>\n",
       "      <td>100.945180</td>\n",
       "    </tr>\n",
       "    <tr>\n",
       "      <th>6</th>\n",
       "      <td>2020</td>\n",
       "      <td>3</td>\n",
       "      <td>50105.317271</td>\n",
       "      <td>58.527201</td>\n",
       "      <td>627</td>\n",
       "      <td>624</td>\n",
       "      <td>79.912787</td>\n",
       "      <td>100.480769</td>\n",
       "    </tr>\n",
       "    <tr>\n",
       "      <th>7</th>\n",
       "      <td>2020</td>\n",
       "      <td>4</td>\n",
       "      <td>57069.659977</td>\n",
       "      <td>422.079935</td>\n",
       "      <td>667</td>\n",
       "      <td>662</td>\n",
       "      <td>85.561709</td>\n",
       "      <td>100.755287</td>\n",
       "    </tr>\n",
       "    <tr>\n",
       "      <th>8</th>\n",
       "      <td>2021</td>\n",
       "      <td>1</td>\n",
       "      <td>78365.149634</td>\n",
       "      <td>975.449549</td>\n",
       "      <td>864</td>\n",
       "      <td>861</td>\n",
       "      <td>90.700405</td>\n",
       "      <td>100.348432</td>\n",
       "    </tr>\n",
       "    <tr>\n",
       "      <th>9</th>\n",
       "      <td>2021</td>\n",
       "      <td>2</td>\n",
       "      <td>83764.249604</td>\n",
       "      <td>123.599462</td>\n",
       "      <td>994</td>\n",
       "      <td>988</td>\n",
       "      <td>84.269869</td>\n",
       "      <td>100.607287</td>\n",
       "    </tr>\n",
       "    <tr>\n",
       "      <th>10</th>\n",
       "      <td>2021</td>\n",
       "      <td>3</td>\n",
       "      <td>87716.703238</td>\n",
       "      <td>-400.426813</td>\n",
       "      <td>1054</td>\n",
       "      <td>1046</td>\n",
       "      <td>83.222679</td>\n",
       "      <td>100.764818</td>\n",
       "    </tr>\n",
       "    <tr>\n",
       "      <th>11</th>\n",
       "      <td>2021</td>\n",
       "      <td>4</td>\n",
       "      <td>111806.861952</td>\n",
       "      <td>91.931928</td>\n",
       "      <td>1277</td>\n",
       "      <td>1262</td>\n",
       "      <td>87.554316</td>\n",
       "      <td>101.188590</td>\n",
       "    </tr>\n",
       "    <tr>\n",
       "      <th>12</th>\n",
       "      <td>2022</td>\n",
       "      <td>1</td>\n",
       "      <td>115083.877534</td>\n",
       "      <td>340.707352</td>\n",
       "      <td>1410</td>\n",
       "      <td>1397</td>\n",
       "      <td>81.619771</td>\n",
       "      <td>100.930565</td>\n",
       "    </tr>\n",
       "    <tr>\n",
       "      <th>13</th>\n",
       "      <td>2022</td>\n",
       "      <td>2</td>\n",
       "      <td>151128.993620</td>\n",
       "      <td>119.943405</td>\n",
       "      <td>1704</td>\n",
       "      <td>1690</td>\n",
       "      <td>88.690724</td>\n",
       "      <td>100.828402</td>\n",
       "    </tr>\n",
       "    <tr>\n",
       "      <th>14</th>\n",
       "      <td>2022</td>\n",
       "      <td>3</td>\n",
       "      <td>158687.253747</td>\n",
       "      <td>157.083545</td>\n",
       "      <td>1906</td>\n",
       "      <td>1883</td>\n",
       "      <td>83.256691</td>\n",
       "      <td>101.221455</td>\n",
       "    </tr>\n",
       "    <tr>\n",
       "      <th>15</th>\n",
       "      <td>2022</td>\n",
       "      <td>4</td>\n",
       "      <td>204651.110494</td>\n",
       "      <td>-319.989776</td>\n",
       "      <td>2294</td>\n",
       "      <td>2259</td>\n",
       "      <td>89.211469</td>\n",
       "      <td>101.549358</td>\n",
       "    </tr>\n",
       "    <tr>\n",
       "      <th>16</th>\n",
       "      <td>2023</td>\n",
       "      <td>1</td>\n",
       "      <td>224866.858599</td>\n",
       "      <td>-536.901571</td>\n",
       "      <td>2577</td>\n",
       "      <td>2542</td>\n",
       "      <td>87.259161</td>\n",
       "      <td>101.376869</td>\n",
       "    </tr>\n",
       "    <tr>\n",
       "      <th>17</th>\n",
       "      <td>2023</td>\n",
       "      <td>2</td>\n",
       "      <td>265863.215948</td>\n",
       "      <td>2756.495616</td>\n",
       "      <td>3091</td>\n",
       "      <td>3043</td>\n",
       "      <td>86.012040</td>\n",
       "      <td>101.577391</td>\n",
       "    </tr>\n",
       "    <tr>\n",
       "      <th>18</th>\n",
       "      <td>2023</td>\n",
       "      <td>3</td>\n",
       "      <td>336746.952380</td>\n",
       "      <td>516.041885</td>\n",
       "      <td>3857</td>\n",
       "      <td>3756</td>\n",
       "      <td>87.307999</td>\n",
       "      <td>102.689031</td>\n",
       "    </tr>\n",
       "    <tr>\n",
       "      <th>19</th>\n",
       "      <td>2023</td>\n",
       "      <td>4</td>\n",
       "      <td>456513.717315</td>\n",
       "      <td>2687.286785</td>\n",
       "      <td>5348</td>\n",
       "      <td>5115</td>\n",
       "      <td>85.361578</td>\n",
       "      <td>104.555230</td>\n",
       "    </tr>\n",
       "    <tr>\n",
       "      <th>20</th>\n",
       "      <td>2024</td>\n",
       "      <td>1</td>\n",
       "      <td>140256.409271</td>\n",
       "      <td>619.069184</td>\n",
       "      <td>1575</td>\n",
       "      <td>1486</td>\n",
       "      <td>89.051688</td>\n",
       "      <td>105.989233</td>\n",
       "    </tr>\n",
       "  </tbody>\n",
       "</table>\n",
       "</div>"
      ],
      "text/plain": [
       "    year  quarter     sale_price  profitability  order_id  user_id        AOV  \\\n",
       "0   2019        1    2200.693163      52.463157        29       29  75.885971   \n",
       "1   2019        2    9044.499491     -83.230495       122      120  74.135242   \n",
       "2   2019        3   17693.602759     166.452762       191      190  92.636664   \n",
       "3   2019        4   24364.313020     -48.137024       287      286  84.893077   \n",
       "4   2020        1   35372.630625     345.050603       378      377  93.578388   \n",
       "5   2020        2   46210.681878     175.621861       534      529  86.536857   \n",
       "6   2020        3   50105.317271      58.527201       627      624  79.912787   \n",
       "7   2020        4   57069.659977     422.079935       667      662  85.561709   \n",
       "8   2021        1   78365.149634     975.449549       864      861  90.700405   \n",
       "9   2021        2   83764.249604     123.599462       994      988  84.269869   \n",
       "10  2021        3   87716.703238    -400.426813      1054     1046  83.222679   \n",
       "11  2021        4  111806.861952      91.931928      1277     1262  87.554316   \n",
       "12  2022        1  115083.877534     340.707352      1410     1397  81.619771   \n",
       "13  2022        2  151128.993620     119.943405      1704     1690  88.690724   \n",
       "14  2022        3  158687.253747     157.083545      1906     1883  83.256691   \n",
       "15  2022        4  204651.110494    -319.989776      2294     2259  89.211469   \n",
       "16  2023        1  224866.858599    -536.901571      2577     2542  87.259161   \n",
       "17  2023        2  265863.215948    2756.495616      3091     3043  86.012040   \n",
       "18  2023        3  336746.952380     516.041885      3857     3756  87.307999   \n",
       "19  2023        4  456513.717315    2687.286785      5348     5115  85.361578   \n",
       "20  2024        1  140256.409271     619.069184      1575     1486  89.051688   \n",
       "\n",
       "    conversion_rate  \n",
       "0        100.000000  \n",
       "1        101.666667  \n",
       "2        100.526316  \n",
       "3        100.349650  \n",
       "4        100.265252  \n",
       "5        100.945180  \n",
       "6        100.480769  \n",
       "7        100.755287  \n",
       "8        100.348432  \n",
       "9        100.607287  \n",
       "10       100.764818  \n",
       "11       101.188590  \n",
       "12       100.930565  \n",
       "13       100.828402  \n",
       "14       101.221455  \n",
       "15       101.549358  \n",
       "16       101.376869  \n",
       "17       101.577391  \n",
       "18       102.689031  \n",
       "19       104.555230  \n",
       "20       105.989233  "
      ]
     },
     "metadata": {},
     "output_type": "display_data"
    }
   ],
   "source": [
    "# Calculate total number of orders and unique users by year and quarter\n",
    "order_counts = product_performance.groupby(['year', 'quarter']).agg({\n",
    "    'order_id': 'nunique',     # Number of unique orders\n",
    "    'user_id': 'nunique'       # Number of unique users (as a proxy for visitors)\n",
    "}).reset_index()\n",
    "\n",
    "# Merge order counts with revenue and profitability\n",
    "kpm_3 = pd.merge(kpm_2, order_counts, on=['year', 'quarter'])\n",
    "\n",
    "# Calculate AOV and conversion rate\n",
    "kpm_3['AOV'] = kpm_3['sale_price'] / kpm_3['order_id']\n",
    "kpm_3['conversion_rate'] = (kpm_3['order_id'] / kpm_3['user_id']) * 100\n",
    "\n",
    "kpm_3.to_csv(os.path.join(outdir, 'kpm_cr_aov.csv'), index=False)\n",
    "\n",
    "display(kpm_3)"
   ]
  },
  {
   "cell_type": "markdown",
   "metadata": {},
   "source": [
    "### Revenue and profitability over time (Viz)\n",
    "\n",
    "**What I did:**\n",
    "I created a dual-axis plot to visualize both revenue and profitability over time, highlighting significant trends.\n",
    "\n",
    "**What I got:**\n",
    "The graph clearly shows how revenue grew steadily after 2021, while profitability became more stable after applying the pricing adjustments. \n",
    "Negative profitability is highlighted in red for easy identification."
   ]
  },
  {
   "cell_type": "code",
   "execution_count": 1046,
   "metadata": {},
   "outputs": [
    {
     "data": {
      "application/vnd.plotly.v1+json": {
       "config": {
        "plotlyServerURL": "https://plot.ly"
       },
       "data": [
        {
         "customdata": [
          [
           1
          ],
          [
           2
          ],
          [
           3
          ],
          [
           4
          ],
          [
           1
          ],
          [
           2
          ],
          [
           3
          ],
          [
           4
          ],
          [
           1
          ],
          [
           2
          ],
          [
           3
          ],
          [
           4
          ],
          [
           1
          ],
          [
           2
          ],
          [
           3
          ],
          [
           4
          ],
          [
           1
          ],
          [
           2
          ],
          [
           3
          ],
          [
           4
          ],
          [
           1
          ]
         ],
         "fill": "tozeroy",
         "fillcolor": "#E2F0E6",
         "hovertemplate": "<b>Year:</b> %{x}<br><b>Quarter:</b> %{customdata[0]}<br><b>Revenue ($):</b> %{y:.2f}<extra></extra>",
         "line": {
          "color": "#B7E0B1",
          "shape": "spline",
          "smoothing": 1.3,
          "width": 2
         },
         "mode": "lines",
         "name": "Revenue ($)",
         "type": "scatter",
         "x": [
          2019,
          2019,
          2019,
          2019,
          2020,
          2020,
          2020,
          2020,
          2021,
          2021,
          2021,
          2021,
          2022,
          2022,
          2022,
          2022,
          2023,
          2023,
          2023,
          2023,
          2024
         ],
         "y": [
          2200.693163458253,
          9044.49949124143,
          17693.602759435882,
          24364.31301965404,
          35372.63062506498,
          46210.68187750987,
          50105.31727129085,
          57069.65997655898,
          78365.14963427943,
          83764.24960355078,
          87716.70323802427,
          111806.8619522604,
          115083.87753405824,
          151128.99362011842,
          158687.25374705886,
          204651.11049418105,
          224866.85859916662,
          265863.21594826685,
          336746.95238045923,
          456513.71731547714,
          140256.40927126506
         ]
        },
        {
         "customdata": [
          [
           1
          ],
          [
           2
          ],
          [
           3
          ],
          [
           4
          ],
          [
           1
          ],
          [
           2
          ],
          [
           3
          ],
          [
           4
          ],
          [
           1
          ],
          [
           2
          ],
          [
           3
          ],
          [
           4
          ],
          [
           1
          ],
          [
           2
          ],
          [
           3
          ],
          [
           4
          ],
          [
           1
          ],
          [
           2
          ],
          [
           3
          ],
          [
           4
          ],
          [
           1
          ]
         ],
         "hovertemplate": "<b>Year:</b> %{x}<br><b>Quarter:</b> %{customdata[0]}<br><b>Profitability (%):</b> %{y:.2f}<extra></extra>",
         "line": {
          "color": "#4EA96B",
          "dash": "dash",
          "shape": "spline",
          "smoothing": 1.3,
          "width": 3
         },
         "marker": {
          "color": [
           "#4EA96B",
           "#FF6666",
           "#4EA96B",
           "#FF6666",
           "#4EA96B",
           "#4EA96B",
           "#4EA96B",
           "#4EA96B",
           "#4EA96B",
           "#4EA96B",
           "#FF6666",
           "#4EA96B",
           "#4EA96B",
           "#4EA96B",
           "#4EA96B",
           "#FF6666",
           "#FF6666",
           "#4EA96B",
           "#4EA96B",
           "#4EA96B",
           "#4EA96B"
          ],
          "size": 8
         },
         "mode": "lines+markers",
         "name": "Profitability (%)",
         "type": "scatter",
         "x": [
          2019,
          2019,
          2019,
          2019,
          2020,
          2020,
          2020,
          2020,
          2021,
          2021,
          2021,
          2021,
          2022,
          2022,
          2022,
          2022,
          2023,
          2023,
          2023,
          2023,
          2024
         ],
         "y": [
          52.46315724029624,
          -83.23049518778527,
          166.4527624399564,
          -48.13702402424454,
          345.05060272993006,
          175.62186063937676,
          58.527201472352544,
          422.0799353888598,
          975.4495491163171,
          123.59946159635732,
          -400.42681335016607,
          91.93192835178296,
          340.7073523069789,
          119.94340535094781,
          157.08354480360316,
          -319.98977632868184,
          -536.9015710733362,
          2756.4956156443513,
          516.041884701189,
          2687.286785148872,
          619.0691838512823
         ],
         "yaxis": "y2"
        }
       ],
       "layout": {
        "height": 600,
        "legend": {
         "font": {
          "color": "#2D494C",
          "family": "Lato",
          "size": 16
         },
         "orientation": "h",
         "title": {
          "text": "Legend"
         },
         "x": 0.5,
         "xanchor": "center",
         "y": -0.3,
         "yanchor": "bottom"
        },
        "showlegend": true,
        "template": {
         "layout": {
          "font": {
           "color": "#2D494C",
           "family": "Lato",
           "size": 14
          },
          "hoverlabel": {
           "bgcolor": "#E5F2F2",
           "bordercolor": "#2D494C",
           "font": {
            "color": "#2D494C",
            "size": 14
           }
          },
          "legend": {
           "font": {
            "size": 12
           },
           "title": {
            "font": {
             "color": "#2D494C",
             "size": 16
            },
            "text": "<b>Legend Title</b>"
           }
          },
          "paper_bgcolor": "#FDFDFD",
          "plot_bgcolor": "#FDFDFD",
          "title": {
           "font": {
            "size": 24
           },
           "text": "<b>Your Chart Title</b>",
           "x": 0.5
          },
          "xaxis": {
           "showgrid": false,
           "tickfont": {
            "size": 12
           },
           "title": {
            "font": {
             "size": 16
            },
            "text": "<b>X Axis Title</b>"
           }
          },
          "yaxis": {
           "showgrid": false,
           "tickfont": {
            "size": 12
           },
           "title": {
            "font": {
             "size": 16
            },
            "text": "<b>Y Axis Title</b>"
           }
          }
         }
        },
        "title": {
         "text": "<b>Revenue and profitability over time</b>"
        },
        "xaxis": {
         "dtick": 1,
         "tick0": 2019,
         "tickmode": "linear",
         "title": {
          "text": "<b>Year</b>"
         }
        },
        "yaxis": {
         "showgrid": false,
         "tickfont": {
          "color": "#4EA96B"
         },
         "title": {
          "font": {
           "color": "#4EA96B"
          },
          "text": "<b>Revenue ($)</b>"
         }
        },
        "yaxis2": {
         "overlaying": "y",
         "showgrid": false,
         "side": "right",
         "tickfont": {
          "color": "#4EA96B"
         },
         "title": {
          "font": {
           "color": "#4EA96B"
          },
          "text": "<b>Profitability (%)</b>"
         }
        }
       }
      }
     },
     "metadata": {},
     "output_type": "display_data"
    }
   ],
   "source": [
    "# Dual y-axis plot for revenue and profitability\n",
    "fig = go.Figure()\n",
    "\n",
    "# Revenue curve\n",
    "fig.add_trace(go.Scatter(\n",
    "    x=kpm_3['year'],  # Show only year on the x-axis\n",
    "    y=kpm_3['sale_price'],\n",
    "    name='Revenue ($)',\n",
    "    mode='lines',\n",
    "    fill='tozeroy',  # Fill the area under the curve\n",
    "    fillcolor='#E2F0E6',\n",
    "    line=dict(color='#B7E0B1', width=2, shape='spline', smoothing=1.3),\n",
    "    hovertemplate='<b>Year:</b> %{x}<br><b>Quarter:</b> %{customdata[0]}<br>' +\n",
    "                  '<b>Revenue ($):</b> %{y:.2f}<extra></extra>',\n",
    "    customdata=kpm_3[['quarter']].values\n",
    "))\n",
    "\n",
    "# Profitability curve with conditional formatting for negative profitability\n",
    "colors = ['#4EA96B' if val >= 0 else '#FF6666' for val in kpm_3['profitability']]\n",
    "\n",
    "fig.add_trace(go.Scatter(\n",
    "    x=kpm_3['year'],  # Show only year on the x-axis\n",
    "    y=kpm_3['profitability'],\n",
    "    name='Profitability (%)',\n",
    "    mode='lines+markers',\n",
    "    marker=dict(size=8, color=colors),\n",
    "    line=dict(color=custom_colors2[3], width=3, dash='dash', shape='spline', smoothing=1.3),\n",
    "    yaxis=\"y2\",  # Use the second y-axis for profitability\n",
    "    hovertemplate='<b>Year:</b> %{x}<br><b>Quarter:</b> %{customdata[0]}<br>' +\n",
    "                  '<b>Profitability (%):</b> %{y:.2f}<extra></extra>',\n",
    "    customdata=kpm_3[['quarter']].values\n",
    "))\n",
    "\n",
    "# Set up dual y-axes\n",
    "fig.update_layout(\n",
    "    title='<b>Revenue and profitability over time</b>',\n",
    "    xaxis=dict(\n",
    "        title='<b>Year</b>',  # Show only years\n",
    "        tickmode='linear',\n",
    "        tick0=kpm_3['year'].min(),\n",
    "        dtick=1  # Set the interval to 1 year\n",
    "    ),\n",
    "    yaxis=dict(\n",
    "        title='<b>Revenue ($)</b>',\n",
    "        titlefont=dict(color=custom_colors2[3]),\n",
    "        tickfont=dict(color=custom_colors2[3]),\n",
    "        showgrid=False\n",
    "    ),\n",
    "    yaxis2=dict(\n",
    "        title='<b>Profitability (%)</b>',\n",
    "        titlefont=dict(color=custom_colors2[3]),\n",
    "        tickfont=dict(color=custom_colors2[3]),\n",
    "        overlaying='y',\n",
    "        side='right',\n",
    "        showgrid=False\n",
    "    ),\n",
    "    height=600,\n",
    "    showlegend=True,\n",
    "    legend=dict(\n",
    "        title='Legend',\n",
    "        font=dict(\n",
    "            family=font_family,\n",
    "            size=16,\n",
    "            color='#2D494C'\n",
    "        ),\n",
    "        orientation='h',  # Make the legend horizontal\n",
    "        yanchor='bottom',\n",
    "        y=-0.3,  # Position it slightly below the chart\n",
    "        xanchor='center',\n",
    "        x=0.5\n",
    "    )\n",
    ")\n",
    "\n",
    "fig.show()"
   ]
  },
  {
   "cell_type": "markdown",
   "metadata": {},
   "source": [
    "### Category performance by gender\n",
    "\n",
    "**What I did:**\n",
    "I analyzed product category performance by customer segment (gender) to see how different product categories perform among male and female customers.\n",
    "\n",
    "**What I got:**\n",
    "Categories like `Dresses`, `Jeans` and `Outerwears` generate significant revenue from female customers, while `Sweater`, `Jeans`, `Suits` and `Outerwears` are more popular among male customers."
   ]
  },
  {
   "cell_type": "code",
   "execution_count": 1047,
   "metadata": {},
   "outputs": [
    {
     "data": {
      "application/vnd.plotly.v1+json": {
       "config": {
        "plotlyServerURL": "https://plot.ly"
       },
       "data": [
        {
         "alignmentgroup": "True",
         "customdata": [
          [
           71.98263301721487
          ],
          [
           1135.8049464300386
          ],
          [
           314.83839334103914
          ],
          [
           33.62098081681721
          ],
          [
           41.962352675915284
          ],
          [
           75.82119091893028
          ],
          [
           -456.3853751626207
          ],
          [
           125.08617098938477
          ],
          [
           209.5768537998893
          ],
          [
           -93.49476488133038
          ],
          [
           187.10679722260315
          ],
          [
           1005.3192933767928
          ],
          [
           24.697295911768776
          ],
          [
           -62.83022286561652
          ],
          [
           -78.17319991926966
          ],
          [
           200.4458603038097
          ],
          [
           -2.8766025525946617
          ],
          [
           31.297054106570357
          ],
          [
           -320.58745798108106
          ],
          [
           154.13908943077504
          ],
          [
           329.22439368356737
          ],
          [
           -71.60885310881635
          ]
         ],
         "hovertemplate": "<b>Category:</b> %{x}<br><b>Revenue ($):</b> %{y:.2f}<br><b>Profitability ($):</b> %{customdata[0]:.2f}<extra></extra>",
         "legendgroup": "F",
         "marker": {
          "color": "#E2F0E6",
          "pattern": {
           "shape": ""
          }
         },
         "name": "F",
         "offsetgroup": "F",
         "orientation": "v",
         "showlegend": true,
         "textposition": "auto",
         "type": "bar",
         "x": [
          "Accessories",
          "Active",
          "Blazers & Jackets",
          "Clothing Sets",
          "Dresses",
          "Fashion Hoodies & Sweatshirts",
          "Intimates",
          "Jeans",
          "Jumpsuits & Rompers",
          "Leggings",
          "Maternity",
          "Outerwear & Coats",
          "Pants & Capris",
          "Plus",
          "Shorts",
          "Skirts",
          "Sleep & Lounge",
          "Socks & Hosiery",
          "Suits",
          "Sweaters",
          "Swim",
          "Tops & Tees"
         ],
         "xaxis": "x",
         "y": [
          45111.51996592432,
          53116.46002006531,
          68589.41024494171,
          3368.7500019073486,
          108004.83026313782,
          60731.02020072937,
          112777.35008120537,
          112476.67037963867,
          11231.19005203247,
          21985.709987163544,
          62427.469811439514,
          114534.39004325867,
          46684.14021205902,
          39988.24012136459,
          45083.40012264252,
          29109.130067825317,
          56011.500104904175,
          15081.489979743958,
          26687.740047454834,
          79473.79993724823,
          80407.81002140045,
          42338.12013077736
         ],
         "yaxis": "y"
        },
        {
         "alignmentgroup": "True",
         "customdata": [
          [
           32.92780882776914
          ],
          [
           103.25218516957324
          ],
          [
           147.2535311663485
          ],
          [
           855.4916318191094
          ],
          [
           2025.8427157670865
          ],
          [
           56.227611534322364
          ],
          [
           228.17870266717074
          ],
          [
           510.99320989778096
          ],
          [
           33.77314892075127
          ],
          [
           1566.147546849292
          ],
          [
           -168.98170844777542
          ],
          [
           -49.252843182363094
          ],
          [
           3.3723761638303955
          ],
          [
           18.92580411155636
          ]
         ],
         "hovertemplate": "<b>Category:</b> %{x}<br><b>Revenue ($):</b> %{y:.2f}<br><b>Profitability ($):</b> %{customdata[0]:.2f}<extra></extra>",
         "legendgroup": "M",
         "marker": {
          "color": "#B7E0B1",
          "pattern": {
           "shape": ""
          }
         },
         "name": "M",
         "offsetgroup": "M",
         "orientation": "v",
         "showlegend": true,
         "textposition": "auto",
         "type": "bar",
         "x": [
          "Accessories",
          "Active",
          "Fashion Hoodies & Sweatshirts",
          "Jeans",
          "Outerwear & Coats",
          "Pants",
          "Shorts",
          "Sleep & Lounge",
          "Socks",
          "Suits & Sport Coats",
          "Sweaters",
          "Swim",
          "Tops & Tees",
          "Underwear"
         ],
         "xaxis": "x",
         "y": [
          60135.78001451492,
          66896.67001247406,
          95740.90996360779,
          194238.61014175415,
          205876.05974388123,
          108497.88033008575,
          76836.51026296616,
          78174.32027816772,
          31041.640029907227,
          158450.09982585907,
          131271.99011325836,
          77510.56011772156,
          77617.9502749443,
          51784.51006555557
         ],
         "yaxis": "y"
        }
       ],
       "layout": {
        "barmode": "stack",
        "height": 800,
        "legend": {
         "orientation": "h",
         "title": {
          "text": "Customer Segment"
         },
         "tracegroupgap": 0,
         "x": 0.5,
         "xanchor": "center",
         "y": -0.3,
         "yanchor": "bottom"
        },
        "paper_bgcolor": "white",
        "plot_bgcolor": "white",
        "template": {
         "layout": {
          "font": {
           "color": "#2D494C",
           "family": "Lato",
           "size": 14
          },
          "hoverlabel": {
           "bgcolor": "#E5F2F2",
           "bordercolor": "#2D494C",
           "font": {
            "color": "#2D494C",
            "size": 14
           }
          },
          "legend": {
           "font": {
            "size": 12
           },
           "title": {
            "font": {
             "color": "#2D494C",
             "size": 16
            },
            "text": "<b>Legend Title</b>"
           }
          },
          "paper_bgcolor": "#FDFDFD",
          "plot_bgcolor": "#FDFDFD",
          "title": {
           "font": {
            "size": 24
           },
           "text": "<b>Your Chart Title</b>",
           "x": 0.5
          },
          "xaxis": {
           "showgrid": false,
           "tickfont": {
            "size": 12
           },
           "title": {
            "font": {
             "size": 16
            },
            "text": "<b>X Axis Title</b>"
           }
          },
          "yaxis": {
           "showgrid": false,
           "tickfont": {
            "size": 12
           },
           "title": {
            "font": {
             "size": 16
            },
            "text": "<b>Y Axis Title</b>"
           }
          }
         }
        },
        "title": {
         "text": "Category performance by gender"
        },
        "xaxis": {
         "anchor": "y",
         "domain": [
          0,
          1
         ],
         "title": {
          "text": "Product Category"
         }
        },
        "yaxis": {
         "anchor": "x",
         "domain": [
          0,
          1
         ],
         "title": {
          "text": "Revenue ($)"
         }
        }
       }
      }
     },
     "metadata": {},
     "output_type": "display_data"
    }
   ],
   "source": [
    "category_segment_data = product_performance.groupby(['category', 'gender']).agg({\n",
    "    'revenue': 'sum',        # Total revenue\n",
    "    'profitability': 'sum'   # Total profitability\n",
    "}).reset_index()\n",
    "\n",
    "\n",
    "fig2 = px.bar(\n",
    "    category_segment_data,\n",
    "    x='category',\n",
    "    y='revenue',\n",
    "    color='gender',  \n",
    "    barmode='stack',\n",
    "    labels={'revenue': 'Revenue ($)', 'category': 'Category'},\n",
    "    title='Category performance by gender',\n",
    "    hover_data={'profitability': ':.2f'},  \n",
    "    color_discrete_sequence=custom_colors2 \n",
    ")\n",
    "\n",
    "fig2.update_traces(\n",
    "    hovertemplate='<b>Category:</b> %{x}<br>' +\n",
    "                  '<b>Revenue ($):</b> %{y:.2f}<br>' +\n",
    "                  '<b>Profitability ($):</b> %{customdata[0]:.2f}<extra></extra>'\n",
    ")\n",
    "\n",
    "fig2.update_layout(\n",
    "    xaxis_title='Product Category',\n",
    "    yaxis_title='Revenue ($)',\n",
    "    legend_title='Customer Segment',\n",
    "    height=800,\n",
    "    legend=dict(\n",
    "        orientation='h',\n",
    "        yanchor='bottom',\n",
    "        y=-0.3, \n",
    "        xanchor='center',\n",
    "        x=0.5\n",
    "    ),\n",
    "    paper_bgcolor='white',\n",
    "    plot_bgcolor='white'\n",
    ")\n",
    "\n",
    "fig2.show()"
   ]
  },
  {
   "cell_type": "markdown",
   "metadata": {},
   "source": [
    "### Category performance by age groups\n",
    "\n",
    "**What I did:**\n",
    "Segmented customer purchases by age group to see how purchasing behavior varies across different age groups.\n",
    "\n",
    "**What I got:**\n",
    "This shows that age groups **26-51+** dominate revenue in categories like `Jeans`, and `Outerwears`, making them important customer segments for these products."
   ]
  },
  {
   "cell_type": "code",
   "execution_count": 1048,
   "metadata": {},
   "outputs": [
    {
     "name": "stderr",
     "output_type": "stream",
     "text": [
      "/var/folders/wc/j84xw3lj0zb22w4z1xdhh17m0000gn/T/ipykernel_99863/3380296749.py:5: FutureWarning:\n",
      "\n",
      "The default of observed=False is deprecated and will be changed to True in a future version of pandas. Pass observed=False to retain current behavior or observed=True to adopt the future default and silence this warning.\n",
      "\n"
     ]
    },
    {
     "data": {
      "application/vnd.plotly.v1+json": {
       "config": {
        "plotlyServerURL": "https://plot.ly"
       },
       "data": [
        {
         "alignmentgroup": "True",
         "customdata": [
          [
           45.81846020504736
          ],
          [
           227.10673225156455
          ],
          [
           251.18464619928335
          ],
          [
           -7.202614066964017
          ],
          [
           -161.36587967960787
          ],
          [
           252.81993990891473
          ],
          [
           -26.68775107703962
          ],
          [
           -90.27484348980715
          ],
          [
           -6.1758032270005145
          ],
          [
           -3.771855977523103
          ],
          [
           83.58633233527286
          ],
          [
           869.081569315106
          ],
          [
           71.99709029240009
          ],
          [
           -44.93460446499299
          ],
          [
           63.43501124252667
          ],
          [
           -133.77672477285756
          ],
          [
           56.80979281909072
          ],
          [
           24.83866019708171
          ],
          [
           0
          ],
          [
           0
          ],
          [
           -48.08531242376438
          ],
          [
           -168.041183182096
          ],
          [
           -52.25977782509118
          ],
          [
           7.6305374764854434
          ],
          [
           16.559703702264102
          ],
          [
           0
          ]
         ],
         "hovertemplate": "<b>Category:</b> %{x}<br><b>Revenue ($):</b> %{y:.2f}<br><b>Profitability ($):</b> %{customdata[0]:.2f}<extra></extra>",
         "legendgroup": "12-18",
         "marker": {
          "color": "#E2F0E6",
          "pattern": {
           "shape": ""
          }
         },
         "name": "12-18",
         "offsetgroup": "12-18",
         "orientation": "v",
         "showlegend": true,
         "textposition": "auto",
         "type": "bar",
         "x": [
          "Accessories",
          "Active",
          "Blazers & Jackets",
          "Clothing Sets",
          "Dresses",
          "Fashion Hoodies & Sweatshirts",
          "Intimates",
          "Jeans",
          "Jumpsuits & Rompers",
          "Leggings",
          "Maternity",
          "Outerwear & Coats",
          "Pants",
          "Pants & Capris",
          "Plus",
          "Shorts",
          "Skirts",
          "Sleep & Lounge",
          "Socks",
          "Socks & Hosiery",
          "Suits",
          "Suits & Sport Coats",
          "Sweaters",
          "Swim",
          "Tops & Tees",
          "Underwear"
         ],
         "xaxis": "x",
         "y": [
          8306.190010905266,
          11946.220009326935,
          8979.290030479431,
          379.9799995422363,
          11209.570019721985,
          18130.960020065308,
          10541.780007123947,
          34714.12002182007,
          944.5800104141235,
          2197.219992160797,
          5928.599987983704,
          33416.0499420166,
          10406.930041313171,
          3312.9700317382812,
          3840.5599977970123,
          13225.280039310455,
          3170.6200103759766,
          13843.620037078857,
          3016.3099966049194,
          1527.7599937915802,
          2384.0800170898438,
          15027.930009841919,
          20858.51997280121,
          15335.670017242432,
          10821.570038795471,
          5220.71001625061
         ],
         "yaxis": "y"
        },
        {
         "alignmentgroup": "True",
         "customdata": [
          [
           -41.83248050066341
          ],
          [
           359.1018777152054
          ],
          [
           -154.45244535411445
          ],
          [
           -4.1136014341649485
          ],
          [
           -197.74170763393232
          ],
          [
           102.28190840628598
          ],
          [
           -20.305286572673893
          ],
          [
           -122.10186883433208
          ],
          [
           -15.21338259203847
          ],
          [
           67.03514780393138
          ],
          [
           12.015446804241932
          ],
          [
           -433.4720123624786
          ],
          [
           15.443971094753906
          ],
          [
           70.3691021163698
          ],
          [
           -91.55030634868521
          ],
          [
           81.0672473892136
          ],
          [
           15.213688358945916
          ],
          [
           -105.6624139515898
          ],
          [
           0
          ],
          [
           0
          ],
          [
           -28.302697883879247
          ],
          [
           -80.4131562637878
          ],
          [
           -221.7834074547597
          ],
          [
           175.51309586812067
          ],
          [
           -88.17210141732728
          ],
          [
           0
          ]
         ],
         "hovertemplate": "<b>Category:</b> %{x}<br><b>Revenue ($):</b> %{y:.2f}<br><b>Profitability ($):</b> %{customdata[0]:.2f}<extra></extra>",
         "legendgroup": "19-25",
         "marker": {
          "color": "#B7E0B1",
          "pattern": {
           "shape": ""
          }
         },
         "name": "19-25",
         "offsetgroup": "19-25",
         "orientation": "v",
         "showlegend": true,
         "textposition": "auto",
         "type": "bar",
         "x": [
          "Accessories",
          "Active",
          "Blazers & Jackets",
          "Clothing Sets",
          "Dresses",
          "Fashion Hoodies & Sweatshirts",
          "Intimates",
          "Jeans",
          "Jumpsuits & Rompers",
          "Leggings",
          "Maternity",
          "Outerwear & Coats",
          "Pants",
          "Pants & Capris",
          "Plus",
          "Shorts",
          "Skirts",
          "Sleep & Lounge",
          "Socks",
          "Socks & Hosiery",
          "Suits",
          "Suits & Sport Coats",
          "Sweaters",
          "Swim",
          "Tops & Tees",
          "Underwear"
         ],
         "xaxis": "x",
         "y": [
          12661.330014824867,
          12307.549961566925,
          8078.809999465942,
          434.95999908447266,
          14037.79003238678,
          16196.48000717163,
          11786.21000123024,
          35078.25004673004,
          1203.1700038909912,
          3093.409996032715,
          7477.409966945648,
          39041.11998939514,
          12014.030059814453,
          4427.540006637573,
          5255.550021767616,
          15096.930031299591,
          3438.7800149917603,
          15483.43002128601,
          3314.9000086784363,
          2072.8499965667725,
          3691.029998779297,
          18001.650051116943,
          25366.000032424927,
          20372.170022964478,
          14330.050031661987,
          6413.53001499176
         ],
         "yaxis": "y"
        },
        {
         "alignmentgroup": "True",
         "customdata": [
          [
           -40.410524449275215
          ],
          [
           256.08196405218666
          ],
          [
           210.31810911896125
          ],
          [
           30.222987636065938
          ],
          [
           -58.13080090690457
          ],
          [
           -97.28785362464822
          ],
          [
           -157.9293429152172
          ],
          [
           158.3470201235202
          ],
          [
           -31.426158783329143
          ],
          [
           -22.47590691277901
          ],
          [
           51.16981727826878
          ],
          [
           1272.3424342839262
          ],
          [
           63.66097108526009
          ],
          [
           15.08551739693074
          ],
          [
           -0.9757171505165729
          ],
          [
           -84.85005290831263
          ],
          [
           166.2126976284083
          ],
          [
           124.86790842520519
          ],
          [
           0
          ],
          [
           0
          ],
          [
           -127.94769237672412
          ],
          [
           59.33299963856852
          ],
          [
           203.54655352931917
          ],
          [
           43.489745307142286
          ],
          [
           9.661349372968743
          ],
          [
           -4.58495490100168
          ]
         ],
         "hovertemplate": "<b>Category:</b> %{x}<br><b>Revenue ($):</b> %{y:.2f}<br><b>Profitability ($):</b> %{customdata[0]:.2f}<extra></extra>",
         "legendgroup": "26-35",
         "marker": {
          "color": "#8CCB8C",
          "pattern": {
           "shape": ""
          }
         },
         "name": "26-35",
         "offsetgroup": "26-35",
         "orientation": "v",
         "showlegend": true,
         "textposition": "auto",
         "type": "bar",
         "x": [
          "Accessories",
          "Active",
          "Blazers & Jackets",
          "Clothing Sets",
          "Dresses",
          "Fashion Hoodies & Sweatshirts",
          "Intimates",
          "Jeans",
          "Jumpsuits & Rompers",
          "Leggings",
          "Maternity",
          "Outerwear & Coats",
          "Pants",
          "Pants & Capris",
          "Plus",
          "Shorts",
          "Skirts",
          "Sleep & Lounge",
          "Socks",
          "Socks & Hosiery",
          "Suits",
          "Suits & Sport Coats",
          "Sweaters",
          "Swim",
          "Tops & Tees",
          "Underwear"
         ],
         "xaxis": "x",
         "y": [
          17909.5900025554,
          21496.930028438568,
          12374.800042152405,
          532.9900016784668,
          18732.7300491333,
          28888.400053977966,
          18357.580004692078,
          50649.6201133728,
          1936.8100090026855,
          3400.7800068855286,
          11331.709976673126,
          55760.64002037048,
          19250.83007144928,
          7986.170038223267,
          6174.670025110245,
          19669.370047569275,
          5032.790005683899,
          22109.040064811707,
          4496.9700038433075,
          2281.099998474121,
          3706.630006790161,
          25585.649925231934,
          34954.61004734039,
          26424.690041542053,
          19507.320058107376,
          8348.640012741089
         ],
         "yaxis": "y"
        },
        {
         "alignmentgroup": "True",
         "customdata": [
          [
           146.855399545261
          ],
          [
           384.38337762266957
          ],
          [
           -111.32385162623223
          ],
          [
           23.442599907286834
          ],
          [
           313.0480565324958
          ],
          [
           -29.584525553615393
          ],
          [
           -72.53754044073459
          ],
          [
           434.13374227804985
          ],
          [
           155.62449984530292
          ],
          [
           -42.998294457090836
          ],
          [
           41.28869504779077
          ],
          [
           836.4128425750627
          ],
          [
           10.48317358281308
          ],
          [
           160.06828803536212
          ],
          [
           -36.95876753598621
          ],
          [
           145.44504957730368
          ],
          [
           72.66290699815306
          ],
          [
           178.50186550584215
          ],
          [
           38.33723309041443
          ],
          [
           31.297054106570357
          ],
          [
           -138.55683979666878
          ],
          [
           499.4758391954349
          ],
          [
           261.4914152198278
          ],
          [
           -114.26096848713271
          ],
          [
           -30.72548188459207
          ],
          [
           -19.741688828918114
          ]
         ],
         "hovertemplate": "<b>Category:</b> %{x}<br><b>Revenue ($):</b> %{y:.2f}<br><b>Profitability ($):</b> %{customdata[0]:.2f}<extra></extra>",
         "legendgroup": "36-50",
         "marker": {
          "color": "#4EA96B",
          "pattern": {
           "shape": ""
          }
         },
         "name": "36-50",
         "offsetgroup": "36-50",
         "orientation": "v",
         "showlegend": true,
         "textposition": "auto",
         "type": "bar",
         "x": [
          "Accessories",
          "Active",
          "Blazers & Jackets",
          "Clothing Sets",
          "Dresses",
          "Fashion Hoodies & Sweatshirts",
          "Intimates",
          "Jeans",
          "Jumpsuits & Rompers",
          "Leggings",
          "Maternity",
          "Outerwear & Coats",
          "Pants",
          "Pants & Capris",
          "Plus",
          "Shorts",
          "Skirts",
          "Sleep & Lounge",
          "Socks",
          "Socks & Hosiery",
          "Suits",
          "Suits & Sport Coats",
          "Sweaters",
          "Swim",
          "Tops & Tees",
          "Underwear"
         ],
         "xaxis": "x",
         "y": [
          27607.629983443767,
          32013.59001159668,
          15829.720070838928,
          1086.4499969482422,
          27165.620094299316,
          34339.61007022858,
          29335.95001721382,
          73869.36015510559,
          3526.9600162506104,
          5950.879997730255,
          14987.289947509766,
          78231.51991462708,
          29396.900079727173,
          12620.760056495667,
          10069.660011053085,
          32098.69014596939,
          7190.360015869141,
          33942.390135765076,
          9218.680013418198,
          3825.2499980926514,
          8027.520044326782,
          42509.7598657608,
          54397.40000915527,
          40558.020033836365,
          30470.070120811462,
          13265.910021305084
         ],
         "yaxis": "y"
        },
        {
         "alignmentgroup": "True",
         "customdata": [
          [
           18.077576414550308
          ],
          [
           87.316499320948
          ],
          [
           146.1199372961271
          ],
          [
           -8.728391225406597
          ],
          [
           177.38671914185403
          ],
          [
           32.98372990735467
          ],
          [
           -126.34360707901826
          ],
          [
           395.76931433149196
          ],
          [
           107.55214299839663
          ],
          [
           -91.28385533786881
          ],
          [
           -0.953494242971189
          ],
          [
           511.2246155357362
          ],
          [
           -125.63039449128814
          ],
          [
           -153.5972415738338
          ],
          [
           3.335130544445974
          ],
          [
           121.55677430084077
          ],
          [
           -110.45322550078832
          ],
          [
           246.47002142421667
          ],
          [
           -4.564084169663161
          ],
          [
           0
          ],
          [
           -39.213089370170565
          ],
          [
           1227.7233490837007
          ],
          [
           -94.16460447574767
          ],
          [
           167.9068988524267
          ],
          [
           31.992649195077263
          ],
          [
           48.751660942874395
          ]
         ],
         "hovertemplate": "<b>Category:</b> %{x}<br><b>Revenue ($):</b> %{y:.2f}<br><b>Profitability ($):</b> %{customdata[0]:.2f}<extra></extra>",
         "legendgroup": "51+",
         "marker": {
          "color": "#0B903F",
          "pattern": {
           "shape": ""
          }
         },
         "name": "51+",
         "offsetgroup": "51+",
         "orientation": "v",
         "showlegend": true,
         "textposition": "auto",
         "type": "bar",
         "x": [
          "Accessories",
          "Active",
          "Blazers & Jackets",
          "Clothing Sets",
          "Dresses",
          "Fashion Hoodies & Sweatshirts",
          "Intimates",
          "Jeans",
          "Jumpsuits & Rompers",
          "Leggings",
          "Maternity",
          "Outerwear & Coats",
          "Pants",
          "Pants & Capris",
          "Plus",
          "Shorts",
          "Skirts",
          "Sleep & Lounge",
          "Socks",
          "Socks & Hosiery",
          "Suits",
          "Suits & Sport Coats",
          "Sweaters",
          "Swim",
          "Tops & Tees",
          "Underwear"
         ],
         "xaxis": "x",
         "y": [
          36556.65996003151,
          39576.04001665115,
          22457.810101509094,
          879.8800048828125,
          35319.88003826141,
          55434.990025520325,
          40168.830038547516,
          106588.58017635345,
          3444.890012741089,
          6994.419996261597,
          21848.59993648529,
          108044.18992805481,
          35876.730051994324,
          17568.800084114075,
          13921.680057168007,
          39552.000118255615,
          9994.710023880005,
          46468.490120887756,
          10604.530007362366,
          5112.729994535446,
          8363.30998802185,
          54029.08999443054,
          70965.1799621582,
          53383.62001609802,
          42769.78015708923,
          17583.190001487732
         ],
         "yaxis": "y"
        }
       ],
       "layout": {
        "barmode": "group",
        "height": 700,
        "legend": {
         "orientation": "h",
         "title": {
          "text": "Age Group"
         },
         "tracegroupgap": 0,
         "x": 0.5,
         "xanchor": "center",
         "y": -0.3,
         "yanchor": "bottom"
        },
        "paper_bgcolor": "white",
        "plot_bgcolor": "white",
        "template": {
         "layout": {
          "font": {
           "color": "#2D494C",
           "family": "Lato",
           "size": 14
          },
          "hoverlabel": {
           "bgcolor": "#E5F2F2",
           "bordercolor": "#2D494C",
           "font": {
            "color": "#2D494C",
            "size": 14
           }
          },
          "legend": {
           "font": {
            "size": 12
           },
           "title": {
            "font": {
             "color": "#2D494C",
             "size": 16
            },
            "text": "<b>Legend Title</b>"
           }
          },
          "paper_bgcolor": "#FDFDFD",
          "plot_bgcolor": "#FDFDFD",
          "title": {
           "font": {
            "size": 24
           },
           "text": "<b>Your Chart Title</b>",
           "x": 0.5
          },
          "xaxis": {
           "showgrid": false,
           "tickfont": {
            "size": 12
           },
           "title": {
            "font": {
             "size": 16
            },
            "text": "<b>X Axis Title</b>"
           }
          },
          "yaxis": {
           "showgrid": false,
           "tickfont": {
            "size": 12
           },
           "title": {
            "font": {
             "size": 16
            },
            "text": "<b>Y Axis Title</b>"
           }
          }
         }
        },
        "title": {
         "text": "Category performance by age group"
        },
        "xaxis": {
         "anchor": "y",
         "domain": [
          0,
          1
         ],
         "title": {
          "text": "Product Category"
         }
        },
        "yaxis": {
         "anchor": "x",
         "domain": [
          0,
          1
         ],
         "title": {
          "text": "Revenue ($)"
         }
        }
       }
      }
     },
     "metadata": {},
     "output_type": "display_data"
    }
   ],
   "source": [
    "bins = [12, 18, 25, 35, 50, 100]\n",
    "labels = ['12-18', '19-25', '26-35', '36-50', '51+']\n",
    "product_performance['age_group'] = pd.cut(product_performance['age'], bins=bins, labels=labels)\n",
    "\n",
    "category_age_data = product_performance.groupby(['category', 'age_group']).agg({\n",
    "    'revenue': 'sum',\n",
    "    'profitability': 'sum'\n",
    "}).reset_index()\n",
    "\n",
    "# Visualization of Category performance by age group\n",
    "\n",
    "fig3 = px.bar(\n",
    "    category_age_data,\n",
    "    x='category',\n",
    "    y='revenue',\n",
    "    color='age_group',\n",
    "    barmode='group',  \n",
    "    labels={'revenue': 'Revenue ($)', 'category': 'Category'},\n",
    "    title='Category performance by age group',\n",
    "    hover_data={'profitability': ':.2f'},  \n",
    "    color_discrete_sequence=custom_colors2\n",
    ")\n",
    "\n",
    "fig3.update_traces(\n",
    "    hovertemplate='<b>Category:</b> %{x}<br>' +\n",
    "                  '<b>Revenue ($):</b> %{y:.2f}<br>' +\n",
    "                  '<b>Profitability ($):</b> %{customdata[0]:.2f}<extra></extra>'\n",
    ")\n",
    "\n",
    "fig3.update_layout(\n",
    "    xaxis_title='Product Category',\n",
    "    yaxis_title='Revenue ($)',\n",
    "    legend_title='Age Group',\n",
    "    height=700,\n",
    "    legend=dict(\n",
    "        orientation='h', \n",
    "        yanchor='bottom',\n",
    "        y=-0.3,\n",
    "        xanchor='center',\n",
    "        x=0.5\n",
    "    ),\n",
    "    paper_bgcolor='white',\n",
    "    plot_bgcolor='white'\n",
    ")\n",
    "\n",
    "fig3.show()"
   ]
  },
  {
   "cell_type": "markdown",
   "metadata": {},
   "source": [
    "### Traffic source impact on profitability\n",
    "\n",
    "**What I did:**\n",
    "I analyzed how traffic sources (e.g., `Search`, `Organic`, `Facebook`) contribute to revenue, new customer acquisition, and profitability.\n",
    "\n",
    "**What I got:**\n",
    "`Organic traffic` delivers the highest profit margins, while paid channels like Facebook help with customer acquisition but have lower profitability margins."
   ]
  },
  {
   "cell_type": "code",
   "execution_count": 1049,
   "metadata": {},
   "outputs": [
    {
     "data": {
      "application/vnd.plotly.v1+json": {
       "config": {
        "plotlyServerURL": "https://plot.ly"
       },
       "data": [
        {
         "hovertemplate": "<b>Traffic Source:</b> %{x}<br><b>Revenue ($):</b> %{y:.2f}<extra></extra>",
         "marker": {
          "color": "#2D494C"
         },
         "name": "Revenue ($)",
         "type": "bar",
         "x": [
          "Display",
          "Email",
          "Facebook",
          "Organic",
          "Search"
         ],
         "y": [
          109160.92024314404,
          126006.25016021729,
          157956.42012643814,
          388314.49053219706,
          1867855.551909566
         ]
        },
        {
         "customdata": [
          [
           1088
          ],
          [
           1319
          ],
          [
           1577
          ],
          [
           4050
          ],
          [
           18992
          ]
         ],
         "hovertemplate": "<b>Traffic Source:</b> %{x}<br><b>New Customers:</b> %{customdata[0]:.0f}<extra></extra>",
         "marker": {
          "color": "#8CCB8C"
         },
         "name": "New Customers",
         "type": "bar",
         "x": [
          "Display",
          "Email",
          "Facebook",
          "Organic",
          "Search"
         ],
         "y": [
          34816,
          42208,
          50464,
          129600,
          607744
         ],
         "yaxis": "y"
        },
        {
         "hovertemplate": "<b>Traffic Source:</b> %{x}<br><b>Profit Margin (%):</b> %{y:.2f}<extra></extra>",
         "line": {
          "color": "#B7E0B1",
          "width": 3
         },
         "marker": {
          "color": "#4EA96B",
          "size": 8
         },
         "mode": "lines+markers",
         "name": "Profit Margin (%)",
         "type": "scatter",
         "x": [
          "Display",
          "Email",
          "Facebook",
          "Organic",
          "Search"
         ],
         "y": [
          0.6196340982156839,
          0.40869311467684666,
          -0.1241100499083832,
          0.3272219158261722,
          0.3187147458493059
         ],
         "yaxis": "y2"
        }
       ],
       "layout": {
        "barmode": "stack",
        "height": 700,
        "legend": {
         "orientation": "h",
         "title": {
          "text": "Legend"
         },
         "x": 0.5,
         "xanchor": "center",
         "y": -0.3,
         "yanchor": "bottom"
        },
        "paper_bgcolor": "white",
        "plot_bgcolor": "white",
        "showlegend": true,
        "template": {
         "layout": {
          "font": {
           "color": "#2D494C",
           "family": "Lato",
           "size": 14
          },
          "hoverlabel": {
           "bgcolor": "#E5F2F2",
           "bordercolor": "#2D494C",
           "font": {
            "color": "#2D494C",
            "size": 14
           }
          },
          "legend": {
           "font": {
            "size": 12
           },
           "title": {
            "font": {
             "color": "#2D494C",
             "size": 16
            },
            "text": "<b>Legend Title</b>"
           }
          },
          "paper_bgcolor": "#FDFDFD",
          "plot_bgcolor": "#FDFDFD",
          "title": {
           "font": {
            "size": 24
           },
           "text": "<b>Your Chart Title</b>",
           "x": 0.5
          },
          "xaxis": {
           "showgrid": false,
           "tickfont": {
            "size": 12
           },
           "title": {
            "font": {
             "size": 16
            },
            "text": "<b>X Axis Title</b>"
           }
          },
          "yaxis": {
           "showgrid": false,
           "tickfont": {
            "size": 12
           },
           "title": {
            "font": {
             "size": 16
            },
            "text": "<b>Y Axis Title</b>"
           }
          }
         }
        },
        "title": {
         "text": "<b>Revenue and profit margin by traffic source</b>"
        },
        "xaxis": {
         "title": {
          "text": "<b>Traffic Source</b>"
         }
        },
        "yaxis": {
         "showgrid": false,
         "tickfont": {
          "color": "#2D494C"
         },
         "title": {
          "font": {
           "color": "#2D494C"
          },
          "text": "<b>Revenue ($)</b>"
         }
        },
        "yaxis2": {
         "overlaying": "y",
         "showgrid": false,
         "side": "right",
         "tickfont": {
          "color": "#4EA96B"
         },
         "title": {
          "font": {
           "color": "#4EA96B"
          },
          "text": "<b>Profit Margin (%)</b>"
         }
        }
       }
      }
     },
     "metadata": {},
     "output_type": "display_data"
    }
   ],
   "source": [
    "traffic_source_combined = product_performance.groupby('traffic_source').agg({\n",
    "    'revenue': 'sum',         # Total revenue from each traffic source\n",
    "    'user_id': 'nunique',     # Number of unique customers (new customer acquisitions)\n",
    "    'profitability': 'sum'    # Total profitability from each traffic source\n",
    "}).reset_index()\n",
    "\n",
    "traffic_source_combined['profit_margin'] = (traffic_source_combined['profitability'] / traffic_source_combined['revenue']) * 100\n",
    "\n",
    "# Visualization of revenue and profit margin by traffic source\n",
    "fig4 = go.Figure()\n",
    "\n",
    "fig4.add_trace(go.Bar(\n",
    "    x=traffic_source_combined['traffic_source'],\n",
    "    y=traffic_source_combined['revenue'],\n",
    "    name='Revenue ($)',\n",
    "    marker=dict(color=custom_colors[3]),\n",
    "    hovertemplate='<b>Traffic Source:</b> %{x}<br>' +\n",
    "                  '<b>Revenue ($):</b> %{y:.2f}<extra></extra>'\n",
    "))\n",
    "\n",
    "scaling_factor = 32  \n",
    "traffic_source_combined['scaled_new_customers'] = traffic_source_combined['user_id'] * scaling_factor\n",
    "\n",
    "fig4.add_trace(go.Bar(\n",
    "    x=traffic_source_combined['traffic_source'],\n",
    "    y=traffic_source_combined['scaled_new_customers'],\n",
    "    name='New Customers',\n",
    "    marker=dict(color=custom_colors2[2]),\n",
    "    hovertemplate='<b>Traffic Source:</b> %{x}<br>' +\n",
    "                  '<b>New Customers:</b> %{customdata[0]:.0f}<extra></extra>',\n",
    "    yaxis='y',\n",
    "    customdata=traffic_source_combined[['user_id']]\n",
    "))\n",
    "\n",
    "fig4.add_trace(go.Scatter(\n",
    "    x=traffic_source_combined['traffic_source'],\n",
    "    y=traffic_source_combined['profit_margin'],\n",
    "    name='Profit Margin (%)',\n",
    "    mode='lines+markers',\n",
    "    marker=dict(size=8, color='#4EA96B'),\n",
    "    line=dict(color='#B7E0B1', width=3),\n",
    "    yaxis=\"y2\",\n",
    "    hovertemplate='<b>Traffic Source:</b> %{x}<br>' +\n",
    "                  '<b>Profit Margin (%):</b> %{y:.2f}<extra></extra>'\n",
    "))\n",
    "\n",
    "fig4.update_layout(\n",
    "    title='<b>Revenue and profit margin by traffic source</b>',\n",
    "    xaxis=dict(\n",
    "        title='<b>Traffic Source</b>'\n",
    "    ),\n",
    "    yaxis=dict(\n",
    "        title='<b>Revenue ($)</b>',\n",
    "        titlefont=dict(color=custom_colors[3]),\n",
    "        tickfont=dict(color=custom_colors[3]),\n",
    "        showgrid=False\n",
    "    ),\n",
    "    yaxis2=dict(\n",
    "        title='<b>Profit Margin (%)</b>',\n",
    "        titlefont=dict(color=custom_colors2[3]),\n",
    "        tickfont=dict(color=custom_colors2[3]),\n",
    "        overlaying='y',\n",
    "        side='right',\n",
    "        showgrid=False\n",
    "    ),\n",
    "    height=700,\n",
    "    showlegend=True,\n",
    "    legend=dict(\n",
    "        title='Legend',\n",
    "        orientation='h',\n",
    "        yanchor='bottom',\n",
    "        y=-0.3,\n",
    "        xanchor='center',\n",
    "        x=0.5\n",
    "    ),\n",
    "    paper_bgcolor='white',\n",
    "    plot_bgcolor='white',\n",
    "    barmode='stack'\n",
    ")\n",
    "\n",
    "fig4.show()"
   ]
  },
  {
   "cell_type": "markdown",
   "metadata": {},
   "source": [
    "### Top 10 countries by revenue and product performance\n",
    "\n",
    "**What I did:**\n",
    "I identified the top 10 countries by revenue and analyzed their product category performance to see which products sell best in each market.\n",
    "\n",
    "**What I got:**\n",
    "`China`, the `United States`, and `Brasil` are the top markets, contributing significantly more revenue than other countries.\n",
    "\n"
   ]
  },
  {
   "cell_type": "code",
   "execution_count": 1050,
   "metadata": {},
   "outputs": [],
   "source": [
    "# Total revenue and profitability\n",
    "country_revenue = product_performance.groupby('country').agg({\n",
    "    'revenue': 'sum',  # Total revenue per country\n",
    "    'profitability': 'sum'  # Total profitability per country\n",
    "}).reset_index()\n",
    "\n",
    "# Top 10 countries by revenue\n",
    "top_10_countries = country_revenue.nlargest(10, 'revenue')"
   ]
  },
  {
   "cell_type": "code",
   "execution_count": 1051,
   "metadata": {},
   "outputs": [
    {
     "data": {
      "application/vnd.plotly.v1+json": {
       "config": {
        "plotlyServerURL": "https://plot.ly"
       },
       "data": [
        {
         "alignmentgroup": "True",
         "hovertemplate": "<b>Country:</b> %{x}<br><b>Revenue:</b> $%{y:.2f}<extra></extra>",
         "legendgroup": "China",
         "marker": {
          "color": "#4CAF50",
          "pattern": {
           "shape": ""
          }
         },
         "name": "China",
         "offsetgroup": "China",
         "orientation": "v",
         "showlegend": true,
         "textposition": "auto",
         "type": "bar",
         "x": [
          "China"
         ],
         "xaxis": "x",
         "y": [
          920638.0009458251
         ],
         "yaxis": "y"
        },
        {
         "alignmentgroup": "True",
         "hovertemplate": "<b>Country:</b> %{x}<br><b>Revenue:</b> $%{y:.2f}<extra></extra>",
         "legendgroup": "United States",
         "marker": {
          "color": "#1E88E5",
          "pattern": {
           "shape": ""
          }
         },
         "name": "United States",
         "offsetgroup": "United States",
         "orientation": "v",
         "showlegend": true,
         "textposition": "auto",
         "type": "bar",
         "x": [
          "United States"
         ],
         "xaxis": "x",
         "y": [
          590675.0207958408
         ],
         "yaxis": "y"
        },
        {
         "alignmentgroup": "True",
         "hovertemplate": "<b>Country:</b> %{x}<br><b>Revenue:</b> $%{y:.2f}<extra></extra>",
         "legendgroup": "Brasil",
         "marker": {
          "color": "#00ACC1",
          "pattern": {
           "shape": ""
          }
         },
         "name": "Brasil",
         "offsetgroup": "Brasil",
         "orientation": "v",
         "showlegend": true,
         "textposition": "auto",
         "type": "bar",
         "x": [
          "Brasil"
         ],
         "xaxis": "x",
         "y": [
          384574.4504441023
         ],
         "yaxis": "y"
        },
        {
         "alignmentgroup": "True",
         "hovertemplate": "<b>Country:</b> %{x}<br><b>Revenue:</b> $%{y:.2f}<extra></extra>",
         "legendgroup": "South Korea",
         "marker": {
          "color": "#FF7043",
          "pattern": {
           "shape": ""
          }
         },
         "name": "South Korea",
         "offsetgroup": "South Korea",
         "orientation": "v",
         "showlegend": true,
         "textposition": "auto",
         "type": "bar",
         "x": [
          "South Korea"
         ],
         "xaxis": "x",
         "y": [
          134308.17015981674
         ],
         "yaxis": "y"
        },
        {
         "alignmentgroup": "True",
         "hovertemplate": "<b>Country:</b> %{x}<br><b>Revenue:</b> $%{y:.2f}<extra></extra>",
         "legendgroup": "United Kingdom",
         "marker": {
          "color": "#E53935",
          "pattern": {
           "shape": ""
          }
         },
         "name": "United Kingdom",
         "offsetgroup": "United Kingdom",
         "orientation": "v",
         "showlegend": true,
         "textposition": "auto",
         "type": "bar",
         "x": [
          "United Kingdom"
         ],
         "xaxis": "x",
         "y": [
          128234.5001629591
         ],
         "yaxis": "y"
        },
        {
         "alignmentgroup": "True",
         "hovertemplate": "<b>Country:</b> %{x}<br><b>Revenue:</b> $%{y:.2f}<extra></extra>",
         "legendgroup": "France",
         "marker": {
          "color": "#8E24AA",
          "pattern": {
           "shape": ""
          }
         },
         "name": "France",
         "offsetgroup": "France",
         "orientation": "v",
         "showlegend": true,
         "textposition": "auto",
         "type": "bar",
         "x": [
          "France"
         ],
         "xaxis": "x",
         "y": [
          121643.32009387016
         ],
         "yaxis": "y"
        },
        {
         "alignmentgroup": "True",
         "hovertemplate": "<b>Country:</b> %{x}<br><b>Revenue:</b> $%{y:.2f}<extra></extra>",
         "legendgroup": "Germany",
         "marker": {
          "color": "#F06292",
          "pattern": {
           "shape": ""
          }
         },
         "name": "Germany",
         "offsetgroup": "Germany",
         "orientation": "v",
         "showlegend": true,
         "textposition": "auto",
         "type": "bar",
         "x": [
          "Germany"
         ],
         "xaxis": "x",
         "y": [
          112701.61018824577
         ],
         "yaxis": "y"
        },
        {
         "alignmentgroup": "True",
         "hovertemplate": "<b>Country:</b> %{x}<br><b>Revenue:</b> $%{y:.2f}<extra></extra>",
         "legendgroup": "Spain",
         "marker": {
          "color": "#BDBDBD",
          "pattern": {
           "shape": ""
          }
         },
         "name": "Spain",
         "offsetgroup": "Spain",
         "orientation": "v",
         "showlegend": true,
         "textposition": "auto",
         "type": "bar",
         "x": [
          "Spain"
         ],
         "xaxis": "x",
         "y": [
          107119.50997018814
         ],
         "yaxis": "y"
        },
        {
         "alignmentgroup": "True",
         "hovertemplate": "<b>Country:</b> %{x}<br><b>Revenue:</b> $%{y:.2f}<extra></extra>",
         "legendgroup": "Japan",
         "marker": {
          "color": "#8BC34A",
          "pattern": {
           "shape": ""
          }
         },
         "name": "Japan",
         "offsetgroup": "Japan",
         "orientation": "v",
         "showlegend": true,
         "textposition": "auto",
         "type": "bar",
         "x": [
          "Japan"
         ],
         "xaxis": "x",
         "y": [
          57040.63002324104
         ],
         "yaxis": "y"
        },
        {
         "alignmentgroup": "True",
         "hovertemplate": "<b>Country:</b> %{x}<br><b>Revenue:</b> $%{y:.2f}<extra></extra>",
         "legendgroup": "Australia",
         "marker": {
          "color": "#00BCD4",
          "pattern": {
           "shape": ""
          }
         },
         "name": "Australia",
         "offsetgroup": "Australia",
         "orientation": "v",
         "showlegend": true,
         "textposition": "auto",
         "type": "bar",
         "x": [
          "Australia"
         ],
         "xaxis": "x",
         "y": [
          54898.71010184288
         ],
         "yaxis": "y"
        }
       ],
       "layout": {
        "barmode": "relative",
        "height": 600,
        "legend": {
         "orientation": "h",
         "title": {
          "text": "Country"
         },
         "tracegroupgap": 0,
         "x": 0.5,
         "xanchor": "center",
         "y": -0.3,
         "yanchor": "bottom"
        },
        "template": {
         "layout": {
          "font": {
           "color": "#2D494C",
           "family": "Lato",
           "size": 14
          },
          "hoverlabel": {
           "bgcolor": "#E5F2F2",
           "bordercolor": "#2D494C",
           "font": {
            "color": "#2D494C",
            "size": 14
           }
          },
          "legend": {
           "font": {
            "size": 12
           },
           "title": {
            "font": {
             "color": "#2D494C",
             "size": 16
            },
            "text": "<b>Legend Title</b>"
           }
          },
          "paper_bgcolor": "#FDFDFD",
          "plot_bgcolor": "#FDFDFD",
          "title": {
           "font": {
            "size": 24
           },
           "text": "<b>Your Chart Title</b>",
           "x": 0.5
          },
          "xaxis": {
           "showgrid": false,
           "tickfont": {
            "size": 12
           },
           "title": {
            "font": {
             "size": 16
            },
            "text": "<b>X Axis Title</b>"
           }
          },
          "yaxis": {
           "showgrid": false,
           "tickfont": {
            "size": 12
           },
           "title": {
            "font": {
             "size": 16
            },
            "text": "<b>Y Axis Title</b>"
           }
          }
         }
        },
        "title": {
         "text": "Top 10 Countries by revenue"
        },
        "xaxis": {
         "anchor": "y",
         "categoryarray": [
          "China",
          "United States",
          "Brasil",
          "South Korea",
          "United Kingdom",
          "France",
          "Germany",
          "Spain",
          "Japan",
          "Australia"
         ],
         "categoryorder": "array",
         "domain": [
          0,
          1
         ],
         "title": {
          "text": "Country"
         }
        },
        "yaxis": {
         "anchor": "x",
         "domain": [
          0,
          1
         ],
         "title": {
          "text": "Revenue ($)"
         }
        }
       }
      }
     },
     "metadata": {},
     "output_type": "display_data"
    }
   ],
   "source": [
    "# Merge with product performance to analyze product performance in top 10 countries\n",
    "top_10_country_performance = pd.merge(product_performance, top_10_countries[['country']], on='country')\n",
    "\n",
    "# Analyze product performance for top 10 countries by product category\n",
    "product_performance_by_country = top_10_country_performance.groupby(['country', 'category']).agg({\n",
    "    'revenue': 'sum',\n",
    "    'profitability': 'sum',\n",
    "    'sale_price': 'mean',  # Average sale price per product\n",
    "}).reset_index()\n",
    "\n",
    "\n",
    "\n",
    "# Visualisation of Top 10 countries by revenue\n",
    "fig5 = px.bar(\n",
    "    top_10_countries,\n",
    "    x='country',\n",
    "    y='revenue',\n",
    "    title='Top 10 Countries by revenue',\n",
    "    labels={'revenue': 'Revenue ($)', 'country': 'Country'},\n",
    "    color='country',\n",
    "    color_discrete_sequence=colors_campaign,\n",
    "    hover_data={'revenue': ':.2f'}  \n",
    ")\n",
    "\n",
    "fig5.update_layout(\n",
    "    xaxis_title='Country',\n",
    "    yaxis_title='Revenue ($)',\n",
    "    legend=dict(\n",
    "        orientation='h',\n",
    "        yanchor='bottom',\n",
    "        y=-0.3,\n",
    "        xanchor='center',\n",
    "        x=0.5\n",
    "    ),\n",
    "    height=600\n",
    ")\n",
    "\n",
    "fig5.update_traces(\n",
    "    hovertemplate=(\n",
    "        '<b>Country:</b> %{x}<br>'  \n",
    "        '<b>Revenue:</b> $%{y:.2f}<extra></extra>'  \n",
    "    )\n",
    ")\n",
    "\n",
    "fig5.show()"
   ]
  },
  {
   "cell_type": "code",
   "execution_count": 1052,
   "metadata": {},
   "outputs": [
    {
     "data": {
      "application/vnd.plotly.v1+json": {
       "config": {
        "plotlyServerURL": "https://plot.ly"
       },
       "data": [
        {
         "alignmentgroup": "True",
         "hovertemplate": "<b>Country:</b> %{x}<br><b>Product Category:</b> %{fullData.name}<br><b>Revenue:</b> $%{y:.2f}<extra></extra>",
         "legendgroup": "Clothing Sets",
         "marker": {
          "color": "#9D84BF",
          "pattern": {
           "shape": ""
          }
         },
         "name": "Clothing Sets",
         "offsetgroup": "Clothing Sets",
         "orientation": "v",
         "showlegend": true,
         "textposition": "auto",
         "type": "bar",
         "x": [
          "Japan",
          "South Korea",
          "United Kingdom",
          "Australia",
          "Germany",
          "France",
          "Spain",
          "United States",
          "Brasil",
          "China"
         ],
         "xaxis": "x",
         "y": [
          19.989999771118164,
          109.98999786376952,
          138.97999954223633,
          167.9900016784668,
          169.97999572753906,
          303.9800033569336,
          337.9900016784668,
          558.9800033569336,
          761.4200019836426,
          799.4499969482422
         ],
         "yaxis": "y"
        },
        {
         "alignmentgroup": "True",
         "hovertemplate": "<b>Country:</b> %{x}<br><b>Product Category:</b> %{fullData.name}<br><b>Revenue:</b> $%{y:.2f}<extra></extra>",
         "legendgroup": "Jumpsuits & Rompers",
         "marker": {
          "color": "#C29E8C",
          "pattern": {
           "shape": ""
          }
         },
         "name": "Jumpsuits & Rompers",
         "offsetgroup": "Jumpsuits & Rompers",
         "orientation": "v",
         "showlegend": true,
         "textposition": "auto",
         "type": "bar",
         "x": [
          "Japan",
          "France",
          "Germany",
          "Australia",
          "Spain",
          "United Kingdom",
          "South Korea",
          "Brasil",
          "United States",
          "China"
         ],
         "xaxis": "x",
         "y": [
          172.79000091552734,
          302.710000038147,
          415.3600015640259,
          422.6199998855591,
          535.5000009536743,
          780.8699998855591,
          903.3200016021729,
          2069.5800037384033,
          2233.3600149154663,
          3325.9000282287598
         ],
         "yaxis": "y"
        },
        {
         "alignmentgroup": "True",
         "hovertemplate": "<b>Country:</b> %{x}<br><b>Product Category:</b> %{fullData.name}<br><b>Revenue:</b> $%{y:.2f}<extra></extra>",
         "legendgroup": "Socks & Hosiery",
         "marker": {
          "color": "#F2E74B",
          "pattern": {
           "shape": ""
          }
         },
         "name": "Socks & Hosiery",
         "offsetgroup": "Socks & Hosiery",
         "orientation": "v",
         "showlegend": true,
         "textposition": "auto",
         "type": "bar",
         "x": [
          "Australia",
          "Japan",
          "Spain",
          "United Kingdom",
          "South Korea",
          "Germany",
          "France",
          "Brasil",
          "United States",
          "China"
         ],
         "xaxis": "x",
         "y": [
          346.729998588562,
          429.72999811172485,
          451.7699990272522,
          575.7299978733063,
          716.4299986362457,
          776.7799932956696,
          812.1599986553192,
          2786.829998731613,
          3455.809998512268,
          4620.699996471405
         ],
         "yaxis": "y"
        },
        {
         "alignmentgroup": "True",
         "hovertemplate": "<b>Country:</b> %{x}<br><b>Product Category:</b> %{fullData.name}<br><b>Revenue:</b> $%{y:.2f}<extra></extra>",
         "legendgroup": "Suits",
         "marker": {
          "color": "#B2E4D4",
          "pattern": {
           "shape": ""
          }
         },
         "name": "Suits",
         "offsetgroup": "Suits",
         "orientation": "v",
         "showlegend": true,
         "textposition": "auto",
         "type": "bar",
         "x": [
          "Australia",
          "Japan",
          "France",
          "United Kingdom",
          "South Korea",
          "Spain",
          "Germany",
          "Brasil",
          "United States",
          "China"
         ],
         "xaxis": "x",
         "y": [
          355.8000030517578,
          511.1100025177002,
          542.8900012969971,
          694.450008392334,
          1123.6499977111816,
          1279.8200035095215,
          1435.0899963378906,
          4147.359994888306,
          7413.540027618408,
          8865.450008392334
         ],
         "yaxis": "y"
        },
        {
         "alignmentgroup": "True",
         "hovertemplate": "<b>Country:</b> %{x}<br><b>Product Category:</b> %{fullData.name}<br><b>Revenue:</b> $%{y:.2f}<extra></extra>",
         "legendgroup": "Leggings",
         "marker": {
          "color": "#6B3F3F",
          "pattern": {
           "shape": ""
          }
         },
         "name": "Leggings",
         "offsetgroup": "Leggings",
         "orientation": "v",
         "showlegend": true,
         "textposition": "auto",
         "type": "bar",
         "x": [
          "Australia",
          "Japan",
          "United Kingdom",
          "Germany",
          "Spain",
          "France",
          "South Korea",
          "Brasil",
          "United States",
          "China"
         ],
         "xaxis": "x",
         "y": [
          425.9899959564209,
          721.1100039482117,
          784.1199989318848,
          817.1699995994568,
          826.5999970436096,
          1080.4600005149841,
          1565.1199941635132,
          2701.0599942207336,
          4739.950011253357,
          8088.809991836548
         ],
         "yaxis": "y"
        },
        {
         "alignmentgroup": "True",
         "hovertemplate": "<b>Country:</b> %{x}<br><b>Product Category:</b> %{fullData.name}<br><b>Revenue:</b> $%{y:.2f}<extra></extra>",
         "legendgroup": "Socks",
         "marker": {
          "color": "#B2C495",
          "pattern": {
           "shape": ""
          }
         },
         "name": "Socks",
         "offsetgroup": "Socks",
         "orientation": "v",
         "showlegend": true,
         "textposition": "auto",
         "type": "bar",
         "x": [
          "Australia",
          "Japan",
          "France",
          "Germany",
          "Spain",
          "South Korea",
          "United Kingdom",
          "Brasil",
          "United States",
          "China"
         ],
         "xaxis": "x",
         "y": [
          432.83000016212463,
          702.7799997329712,
          1126.1099967956543,
          1157.7500030994415,
          1349.4700012207031,
          1369.2300019264221,
          2317.7000064849854,
          4211.049997329712,
          6596.220007419586,
          11457.790016651154
         ],
         "yaxis": "y"
        },
        {
         "alignmentgroup": "True",
         "hovertemplate": "<b>Country:</b> %{x}<br><b>Product Category:</b> %{fullData.name}<br><b>Revenue:</b> $%{y:.2f}<extra></extra>",
         "legendgroup": "Skirts",
         "marker": {
          "color": "#D0E1A5",
          "pattern": {
           "shape": ""
          }
         },
         "name": "Skirts",
         "offsetgroup": "Skirts",
         "orientation": "v",
         "showlegend": true,
         "textposition": "auto",
         "type": "bar",
         "x": [
          "France",
          "Japan",
          "Australia",
          "Spain",
          "Germany",
          "United Kingdom",
          "South Korea",
          "Brasil",
          "United States",
          "China"
         ],
         "xaxis": "x",
         "y": [
          524.9900016784668,
          556.0600051879883,
          924.3099913597107,
          1179.000005722046,
          1183.170000076294,
          1635.8699951171875,
          1826.6500024795532,
          4066.7000188827515,
          6260.590023994446,
          10077.290021419525
         ],
         "yaxis": "y"
        },
        {
         "alignmentgroup": "True",
         "hovertemplate": "<b>Country:</b> %{x}<br><b>Product Category:</b> %{fullData.name}<br><b>Revenue:</b> $%{y:.2f}<extra></extra>",
         "legendgroup": "Pants & Capris",
         "marker": {
          "color": "#DEB887",
          "pattern": {
           "shape": ""
          }
         },
         "name": "Pants & Capris",
         "offsetgroup": "Pants & Capris",
         "orientation": "v",
         "showlegend": true,
         "textposition": "auto",
         "type": "bar",
         "x": [
          "Japan",
          "Australia",
          "Germany",
          "South Korea",
          "France",
          "Spain",
          "United Kingdom",
          "Brasil",
          "United States",
          "China"
         ],
         "xaxis": "x",
         "y": [
          677.0700025558472,
          951.310004234314,
          1447.4400043487549,
          2217.2200231552124,
          2258.0700092315674,
          2996.6100034713745,
          4123.120006561279,
          6077.8700313568115,
          9122.530046463013,
          16015.84007358551
         ],
         "yaxis": "y"
        },
        {
         "alignmentgroup": "True",
         "hovertemplate": "<b>Country:</b> %{x}<br><b>Product Category:</b> %{fullData.name}<br><b>Revenue:</b> $%{y:.2f}<extra></extra>",
         "legendgroup": "Plus",
         "marker": {
          "color": "#3CB371",
          "pattern": {
           "shape": ""
          }
         },
         "name": "Plus",
         "offsetgroup": "Plus",
         "orientation": "v",
         "showlegend": true,
         "textposition": "auto",
         "type": "bar",
         "x": [
          "Australia",
          "Japan",
          "Spain",
          "Germany",
          "France",
          "United Kingdom",
          "South Korea",
          "Brasil",
          "United States",
          "China"
         ],
         "xaxis": "x",
         "y": [
          819.7100028991699,
          880.8600022792816,
          1226.829990386963,
          1585.220006942749,
          1886.46000790596,
          1924.4200159311295,
          1970.600016117096,
          5941.75000500679,
          9571.560029268265,
          13620.49003970623
         ],
         "yaxis": "y"
        },
        {
         "alignmentgroup": "True",
         "hovertemplate": "<b>Country:</b> %{x}<br><b>Product Category:</b> %{fullData.name}<br><b>Revenue:</b> $%{y:.2f}<extra></extra>",
         "legendgroup": "Underwear",
         "marker": {
          "color": "#FF6F61",
          "pattern": {
           "shape": ""
          }
         },
         "name": "Underwear",
         "offsetgroup": "Underwear",
         "orientation": "v",
         "showlegend": true,
         "textposition": "auto",
         "type": "bar",
         "x": [
          "Australia",
          "Japan",
          "Spain",
          "Germany",
          "United Kingdom",
          "South Korea",
          "France",
          "Brasil",
          "United States",
          "China"
         ],
         "xaxis": "x",
         "y": [
          987.6400012969971,
          1215.0900011062622,
          1706.7899994850159,
          1898.5200023651123,
          1970.7100009918213,
          2135.659996986389,
          2606.8300075531006,
          8129.870004653931,
          11845.570023536682,
          18716.73002719879
         ],
         "yaxis": "y"
        },
        {
         "alignmentgroup": "True",
         "hovertemplate": "<b>Country:</b> %{x}<br><b>Product Category:</b> %{fullData.name}<br><b>Revenue:</b> $%{y:.2f}<extra></extra>",
         "legendgroup": "Blazers & Jackets",
         "marker": {
          "color": "#8A7ED9",
          "pattern": {
           "shape": ""
          }
         },
         "name": "Blazers & Jackets",
         "offsetgroup": "Blazers & Jackets",
         "orientation": "v",
         "showlegend": true,
         "textposition": "auto",
         "type": "bar",
         "x": [
          "Australia",
          "Japan",
          "Germany",
          "France",
          "South Korea",
          "United Kingdom",
          "Spain",
          "Brasil",
          "United States",
          "China"
         ],
         "xaxis": "x",
         "y": [
          1005.5500078201294,
          1133.890001296997,
          2694.480001449585,
          2826.8800172805786,
          3585.5099992752075,
          3847.170024871826,
          3847.7899980545044,
          10803.060055732727,
          13814.960074424744,
          23901.100052833557
         ],
         "yaxis": "y"
        },
        {
         "alignmentgroup": "True",
         "hovertemplate": "<b>Country:</b> %{x}<br><b>Product Category:</b> %{fullData.name}<br><b>Revenue:</b> $%{y:.2f}<extra></extra>",
         "legendgroup": "Maternity",
         "marker": {
          "color": "#F2B441",
          "pattern": {
           "shape": ""
          }
         },
         "name": "Maternity",
         "offsetgroup": "Maternity",
         "orientation": "v",
         "showlegend": true,
         "textposition": "auto",
         "type": "bar",
         "x": [
          "Japan",
          "Australia",
          "Germany",
          "United Kingdom",
          "Spain",
          "South Korea",
          "France",
          "Brasil",
          "United States",
          "China"
         ],
         "xaxis": "x",
         "y": [
          1427.1799988746643,
          1602.8499908447266,
          2375.9199900627136,
          2395.319999694824,
          2487.689995765686,
          3245.18000125885,
          3836.599998474121,
          10520.07996749878,
          14125.739936351776,
          19549.30993413925
         ],
         "yaxis": "y"
        },
        {
         "alignmentgroup": "True",
         "hovertemplate": "<b>Country:</b> %{x}<br><b>Product Category:</b> %{fullData.name}<br><b>Revenue:</b> $%{y:.2f}<extra></extra>",
         "legendgroup": "Accessories",
         "marker": {
          "color": "#4946A6",
          "pattern": {
           "shape": ""
          }
         },
         "name": "Accessories",
         "offsetgroup": "Accessories",
         "orientation": "v",
         "showlegend": true,
         "textposition": "auto",
         "type": "bar",
         "x": [
          "Japan",
          "Australia",
          "Germany",
          "Spain",
          "France",
          "South Korea",
          "United Kingdom",
          "Brasil",
          "United States",
          "China"
         ],
         "xaxis": "x",
         "y": [
          1789.2599885463715,
          2709.720009803772,
          3580.220003604889,
          3695.5999941825867,
          4301.959998846054,
          5177.519984006882,
          6212.649993181229,
          16496.200009703636,
          22690.229985255748,
          37417.70000209287
         ],
         "yaxis": "y"
        },
        {
         "alignmentgroup": "True",
         "hovertemplate": "<b>Country:</b> %{x}<br><b>Product Category:</b> %{fullData.name}<br><b>Revenue:</b> $%{y:.2f}<extra></extra>",
         "legendgroup": "Dresses",
         "marker": {
          "color": "#1F4E79",
          "pattern": {
           "shape": ""
          }
         },
         "name": "Dresses",
         "offsetgroup": "Dresses",
         "orientation": "v",
         "showlegend": true,
         "textposition": "auto",
         "type": "bar",
         "x": [
          "Australia",
          "Japan",
          "France",
          "Germany",
          "Spain",
          "United Kingdom",
          "South Korea",
          "Brasil",
          "United States",
          "China"
         ],
         "xaxis": "x",
         "y": [
          1985.1800079345703,
          2538.4400062561035,
          4165.219995498657,
          4641.570025444031,
          4783.180016517639,
          5553.9400243759155,
          6061.250018119812,
          14778.120018005371,
          25182.67005252838,
          36823.670095443726
         ],
         "yaxis": "y"
        },
        {
         "alignmentgroup": "True",
         "hovertemplate": "<b>Country:</b> %{x}<br><b>Product Category:</b> %{fullData.name}<br><b>Revenue:</b> $%{y:.2f}<extra></extra>",
         "legendgroup": "Active",
         "marker": {
          "color": "#282C40",
          "pattern": {
           "shape": ""
          }
         },
         "name": "Active",
         "offsetgroup": "Active",
         "orientation": "v",
         "showlegend": true,
         "textposition": "auto",
         "type": "bar",
         "x": [
          "Australia",
          "Japan",
          "Germany",
          "South Korea",
          "France",
          "Spain",
          "United Kingdom",
          "Brasil",
          "United States",
          "China"
         ],
         "xaxis": "x",
         "y": [
          2177.5200033187866,
          2698.6900095939636,
          4239.970007896423,
          4939.109990119934,
          5184.239992141724,
          5753.209980964661,
          8326.289996147156,
          14958.310034275055,
          22938.849977970123,
          47281.12003469467
         ],
         "yaxis": "y"
        },
        {
         "alignmentgroup": "True",
         "hovertemplate": "<b>Country:</b> %{x}<br><b>Product Category:</b> %{fullData.name}<br><b>Revenue:</b> $%{y:.2f}<extra></extra>",
         "legendgroup": "Shorts",
         "marker": {
          "color": "#9D84BF",
          "pattern": {
           "shape": ""
          }
         },
         "name": "Shorts",
         "offsetgroup": "Shorts",
         "orientation": "v",
         "showlegend": true,
         "textposition": "auto",
         "type": "bar",
         "x": [
          "Japan",
          "Australia",
          "Spain",
          "Germany",
          "France",
          "South Korea",
          "United Kingdom",
          "Brasil",
          "United States",
          "China"
         ],
         "xaxis": "x",
         "y": [
          2267.4599962234497,
          2995.4900121688843,
          4175.390020370483,
          4889.190014839172,
          5696.570014476776,
          5714.2000041008,
          5913.800017356873,
          18217.800052165985,
          27891.17010450363,
          42376.04015111923
         ],
         "yaxis": "y"
        },
        {
         "alignmentgroup": "True",
         "hovertemplate": "<b>Country:</b> %{x}<br><b>Product Category:</b> %{fullData.name}<br><b>Revenue:</b> $%{y:.2f}<extra></extra>",
         "legendgroup": "Intimates",
         "marker": {
          "color": "#C29E8C",
          "pattern": {
           "shape": ""
          }
         },
         "name": "Intimates",
         "offsetgroup": "Intimates",
         "orientation": "v",
         "showlegend": true,
         "textposition": "auto",
         "type": "bar",
         "x": [
          "Australia",
          "Japan",
          "Spain",
          "France",
          "Germany",
          "United Kingdom",
          "South Korea",
          "Brasil",
          "United States",
          "China"
         ],
         "xaxis": "x",
         "y": [
          2400.1300020217896,
          2698.1000077724457,
          4399.499999046326,
          4771.720003128052,
          4792.280000925064,
          5067.990001440048,
          6152.480023384094,
          17474.849997997284,
          26329.51003217697,
          37435.65001821518
         ],
         "yaxis": "y"
        },
        {
         "alignmentgroup": "True",
         "hovertemplate": "<b>Country:</b> %{x}<br><b>Product Category:</b> %{fullData.name}<br><b>Revenue:</b> $%{y:.2f}<extra></extra>",
         "legendgroup": "Tops & Tees",
         "marker": {
          "color": "#F2E74B",
          "pattern": {
           "shape": ""
          }
         },
         "name": "Tops & Tees",
         "offsetgroup": "Tops & Tees",
         "orientation": "v",
         "showlegend": true,
         "textposition": "auto",
         "type": "bar",
         "x": [
          "Japan",
          "Australia",
          "Germany",
          "Spain",
          "United Kingdom",
          "France",
          "South Korea",
          "Brasil",
          "United States",
          "China"
         ],
         "xaxis": "x",
         "y": [
          2422.040009498596,
          2892.7700090408325,
          4857.590018749237,
          4903.430022716522,
          5024.529996871948,
          5770.400035858154,
          6222.220024108887,
          14906.880066394806,
          28240.830090761185,
          42955.05012702942
         ],
         "yaxis": "y"
        },
        {
         "alignmentgroup": "True",
         "hovertemplate": "<b>Country:</b> %{x}<br><b>Product Category:</b> %{fullData.name}<br><b>Revenue:</b> $%{y:.2f}<extra></extra>",
         "legendgroup": "Sleep & Lounge",
         "marker": {
          "color": "#B2E4D4",
          "pattern": {
           "shape": ""
          }
         },
         "name": "Sleep & Lounge",
         "offsetgroup": "Sleep & Lounge",
         "orientation": "v",
         "showlegend": true,
         "textposition": "auto",
         "type": "bar",
         "x": [
          "Australia",
          "Japan",
          "Germany",
          "Spain",
          "United Kingdom",
          "France",
          "South Korea",
          "Brasil",
          "United States",
          "China"
         ],
         "xaxis": "x",
         "y": [
          2813.5700178146362,
          3320.5699920654297,
          5128.000019073486,
          5710.940016746521,
          5945.630018234253,
          6662.830009460449,
          7113.090029716492,
          19736.490089416504,
          31316.490070343018,
          44986.270117759705
         ],
         "yaxis": "y"
        },
        {
         "alignmentgroup": "True",
         "hovertemplate": "<b>Country:</b> %{x}<br><b>Product Category:</b> %{fullData.name}<br><b>Revenue:</b> $%{y:.2f}<extra></extra>",
         "legendgroup": "Fashion Hoodies & Sweatshirts",
         "marker": {
          "color": "#6B3F3F",
          "pattern": {
           "shape": ""
          }
         },
         "name": "Fashion Hoodies & Sweatshirts",
         "offsetgroup": "Fashion Hoodies & Sweatshirts",
         "orientation": "v",
         "showlegend": true,
         "textposition": "auto",
         "type": "bar",
         "x": [
          "Australia",
          "Japan",
          "Germany",
          "Spain",
          "United Kingdom",
          "France",
          "South Korea",
          "Brasil",
          "United States",
          "China"
         ],
         "xaxis": "x",
         "y": [
          2900.0900163650513,
          4183.52000617981,
          5375.720010757446,
          5981.069993972778,
          6929.830023765564,
          7327.909991264343,
          8428.280018806458,
          23600.88996696472,
          35155.590081214905,
          54636.150042533875
         ],
         "yaxis": "y"
        },
        {
         "alignmentgroup": "True",
         "hovertemplate": "<b>Country:</b> %{x}<br><b>Product Category:</b> %{fullData.name}<br><b>Revenue:</b> $%{y:.2f}<extra></extra>",
         "legendgroup": "Swim",
         "marker": {
          "color": "#B2C495",
          "pattern": {
           "shape": ""
          }
         },
         "name": "Swim",
         "offsetgroup": "Swim",
         "orientation": "v",
         "showlegend": true,
         "textposition": "auto",
         "type": "bar",
         "x": [
          "Australia",
          "Japan",
          "Spain",
          "France",
          "Germany",
          "United Kingdom",
          "South Korea",
          "Brasil",
          "United States",
          "China"
         ],
         "xaxis": "x",
         "y": [
          2982.8800048828125,
          3402.0499954223633,
          6177.030006408691,
          6802.800024032593,
          6827.950009346008,
          6836.310010910034,
          9369.570001602173,
          23597.24001121521,
          35862.25004386902,
          53348.09005355835
         ],
         "yaxis": "y"
        },
        {
         "alignmentgroup": "True",
         "hovertemplate": "<b>Country:</b> %{x}<br><b>Product Category:</b> %{fullData.name}<br><b>Revenue:</b> $%{y:.2f}<extra></extra>",
         "legendgroup": "Suits & Sport Coats",
         "marker": {
          "color": "#D0E1A5",
          "pattern": {
           "shape": ""
          }
         },
         "name": "Suits & Sport Coats",
         "offsetgroup": "Suits & Sport Coats",
         "orientation": "v",
         "showlegend": true,
         "textposition": "auto",
         "type": "bar",
         "x": [
          "Australia",
          "Japan",
          "Spain",
          "United Kingdom",
          "South Korea",
          "Germany",
          "France",
          "Brasil",
          "United States",
          "China"
         ],
         "xaxis": "x",
         "y": [
          3160.139988899231,
          3517.6999835968018,
          6380.959964752197,
          7516.699994087219,
          7732.609972000122,
          8437.259996414185,
          8479.769961357117,
          23301.74998855591,
          33132.120013237,
          54407.209961891174
         ],
         "yaxis": "y"
        },
        {
         "alignmentgroup": "True",
         "hovertemplate": "<b>Country:</b> %{x}<br><b>Product Category:</b> %{fullData.name}<br><b>Revenue:</b> $%{y:.2f}<extra></extra>",
         "legendgroup": "Pants",
         "marker": {
          "color": "#DEB887",
          "pattern": {
           "shape": ""
          }
         },
         "name": "Pants",
         "offsetgroup": "Pants",
         "orientation": "v",
         "showlegend": true,
         "textposition": "auto",
         "type": "bar",
         "x": [
          "Australia",
          "Japan",
          "Spain",
          "United Kingdom",
          "France",
          "Germany",
          "South Korea",
          "Brasil",
          "United States",
          "China"
         ],
         "xaxis": "x",
         "y": [
          3189.13001537323,
          3422.3299980163574,
          4217.4499979019165,
          4832.3700160980225,
          5303.340019226074,
          5378.040024757385,
          5403.70001411438,
          13007.620037078857,
          23610.560059547424,
          38568.8201417923
         ],
         "yaxis": "y"
        },
        {
         "alignmentgroup": "True",
         "hovertemplate": "<b>Country:</b> %{x}<br><b>Product Category:</b> %{fullData.name}<br><b>Revenue:</b> $%{y:.2f}<extra></extra>",
         "legendgroup": "Sweaters",
         "marker": {
          "color": "#3CB371",
          "pattern": {
           "shape": ""
          }
         },
         "name": "Sweaters",
         "offsetgroup": "Sweaters",
         "orientation": "v",
         "showlegend": true,
         "textposition": "auto",
         "type": "bar",
         "x": [
          "Japan",
          "Australia",
          "Spain",
          "France",
          "Germany",
          "United Kingdom",
          "South Korea",
          "Brasil",
          "United States",
          "China"
         ],
         "xaxis": "x",
         "y": [
          4299.269997596741,
          4596.31001663208,
          7500.829997062683,
          9630.509986877441,
          9855.79001235962,
          10161.780003547668,
          12118.63001537323,
          29171.06001186371,
          47731.05001926422,
          72512.12997150421
         ],
         "yaxis": "y"
        },
        {
         "alignmentgroup": "True",
         "hovertemplate": "<b>Country:</b> %{x}<br><b>Product Category:</b> %{fullData.name}<br><b>Revenue:</b> $%{y:.2f}<extra></extra>",
         "legendgroup": "Outerwear & Coats",
         "marker": {
          "color": "#FF6F61",
          "pattern": {
           "shape": ""
          }
         },
         "name": "Outerwear & Coats",
         "offsetgroup": "Outerwear & Coats",
         "orientation": "v",
         "showlegend": true,
         "textposition": "auto",
         "type": "bar",
         "x": [
          "Australia",
          "Japan",
          "South Korea",
          "Spain",
          "Germany",
          "United Kingdom",
          "France",
          "Brasil",
          "United States",
          "China"
         ],
         "xaxis": "x",
         "y": [
          5415.829990386963,
          6362.140016555786,
          12537.309978485107,
          13344.189958572388,
          14750.400045394897,
          15176.889986038208,
          15640.1399974823,
          47612.95999908447,
          72738.77993583679,
          112508.9698677063
         ],
         "yaxis": "y"
        },
        {
         "alignmentgroup": "True",
         "hovertemplate": "<b>Country:</b> %{x}<br><b>Product Category:</b> %{fullData.name}<br><b>Revenue:</b> $%{y:.2f}<extra></extra>",
         "legendgroup": "Jeans",
         "marker": {
          "color": "#8A7ED9",
          "pattern": {
           "shape": ""
          }
         },
         "name": "Jeans",
         "offsetgroup": "Jeans",
         "orientation": "v",
         "showlegend": true,
         "textposition": "auto",
         "type": "bar",
         "x": [
          "Japan",
          "Australia",
          "Spain",
          "United Kingdom",
          "France",
          "Germany",
          "South Korea",
          "Brasil",
          "United States",
          "China"
         ],
         "xaxis": "x",
         "y": [
          5671.39999961853,
          6236.620009422302,
          11870.87000465393,
          13547.330026626587,
          13797.770021438599,
          13990.750003814697,
          16569.64005470276,
          45497.65008735657,
          68116.1101322174,
          106342.27017307281
         ],
         "yaxis": "y"
        }
       ],
       "layout": {
        "barmode": "group",
        "height": 800,
        "legend": {
         "orientation": "h",
         "title": {
          "text": "Product Category"
         },
         "tracegroupgap": 0,
         "x": 0.5,
         "xanchor": "center",
         "y": -0.3,
         "yanchor": "bottom"
        },
        "template": {
         "layout": {
          "font": {
           "color": "#2D494C",
           "family": "Lato",
           "size": 14
          },
          "hoverlabel": {
           "bgcolor": "#E5F2F2",
           "bordercolor": "#2D494C",
           "font": {
            "color": "#2D494C",
            "size": 14
           }
          },
          "legend": {
           "font": {
            "size": 12
           },
           "title": {
            "font": {
             "color": "#2D494C",
             "size": 16
            },
            "text": "<b>Legend Title</b>"
           }
          },
          "paper_bgcolor": "#FDFDFD",
          "plot_bgcolor": "#FDFDFD",
          "title": {
           "font": {
            "size": 24
           },
           "text": "<b>Your Chart Title</b>",
           "x": 0.5
          },
          "xaxis": {
           "showgrid": false,
           "tickfont": {
            "size": 12
           },
           "title": {
            "font": {
             "size": 16
            },
            "text": "<b>X Axis Title</b>"
           }
          },
          "yaxis": {
           "showgrid": false,
           "tickfont": {
            "size": 12
           },
           "title": {
            "font": {
             "size": 16
            },
            "text": "<b>Y Axis Title</b>"
           }
          }
         }
        },
        "title": {
         "text": "Top 10 countries by product performance"
        },
        "xaxis": {
         "anchor": "y",
         "domain": [
          0,
          1
         ],
         "title": {
          "text": "Country"
         }
        },
        "yaxis": {
         "anchor": "x",
         "domain": [
          0,
          1
         ],
         "title": {
          "text": "Revenue ($)"
         }
        }
       }
      }
     },
     "metadata": {},
     "output_type": "display_data"
    }
   ],
   "source": [
    "# Product performance for top 10 countries\n",
    "product_performance_by_country = product_performance_by_country.sort_values(by='revenue', ascending=True)\n",
    "\n",
    "# Visualisation of Top 10 countries by product performance\n",
    "\n",
    "fig6 = px.bar(\n",
    "    product_performance_by_country,\n",
    "    x='country',\n",
    "    y='revenue',\n",
    "    color='category',\n",
    "    title='Top 10 countries by product performance',\n",
    "    labels={'revenue': 'Revenue ($)', 'country': 'Country', 'category': 'Product Category'},\n",
    "    barmode='group',\n",
    "    color_discrete_sequence=multiple_categories,\n",
    "    hover_data={'revenue': ':.2f'}  \n",
    ")\n",
    "\n",
    "fig6.update_layout(\n",
    "    xaxis_title='Country',\n",
    "    yaxis_title='Revenue ($)',\n",
    "    legend=dict(\n",
    "        orientation='h',\n",
    "        yanchor='bottom',\n",
    "        y=-0.3,\n",
    "        xanchor='center',\n",
    "        x=0.5\n",
    "    ),\n",
    "    height=800\n",
    ")\n",
    "\n",
    "fig6.update_traces(\n",
    "    hovertemplate=(\n",
    "        '<b>Country:</b> %{x}<br>'\n",
    "        '<b>Product Category:</b> %{fullData.name}<br>' \n",
    "        '<b>Revenue:</b> $%{y:.2f}<extra></extra>'  \n",
    "    )\n",
    ")\n",
    "\n",
    "fig6.show()\n",
    "\n"
   ]
  },
  {
   "cell_type": "markdown",
   "metadata": {},
   "source": [
    "## Campaign effectiveness and Customer acquisition"
   ]
  },
  {
   "cell_type": "markdown",
   "metadata": {},
   "source": [
    "### Campaign Effectiveness Analysis\n",
    "\n",
    "I evaluated the performance of different campaign types by analyzing the total number of new customers acquired and the profit margins associated with each campaign.\n",
    "\n",
    "**Key Metrics:**\n",
    "\n",
    "`Campaign Type:` Display, Email, Facebook, Organic, Search.<br>\n",
    "`Total New Customers:` Number of customers acquired from each campaign.<br>\n",
    "`Profit Margin:` Profit generated from each campaign.<br>\n",
    "\n",
    "**Key insights:**\n",
    "\n",
    "- The `Search` campaign is the most effective both in terms of new customers acquired and profit margin.\n",
    "- `Organic` and `Search` campaigns outperform other channels in terms of profitability, making them high-return marketing investments."
   ]
  },
  {
   "cell_type": "code",
   "execution_count": 1053,
   "metadata": {},
   "outputs": [
    {
     "data": {
      "application/vnd.plotly.v1+json": {
       "config": {
        "plotlyServerURL": "https://plot.ly"
       },
       "data": [
        {
         "alignmentgroup": "True",
         "hovertemplate": "<b>Campaign Type:</b> %{x}<br><b>Metric:</b> %{fullData.name}<br><b>Total:</b> %{y:.2f}<extra></extra>",
         "legendgroup": "Total New Customers",
         "marker": {
          "color": "#E2F0E6",
          "pattern": {
           "shape": ""
          }
         },
         "name": "Total New Customers",
         "offsetgroup": "Total New Customers",
         "orientation": "v",
         "showlegend": true,
         "textposition": "auto",
         "type": "bar",
         "x": [
          "Display",
          "Email",
          "Facebook",
          "Organic",
          "Search"
         ],
         "xaxis": "x",
         "y": [
          1088,
          1319,
          1577,
          4050,
          18992
         ],
         "yaxis": "y"
        },
        {
         "alignmentgroup": "True",
         "hovertemplate": "<b>Campaign Type:</b> %{x}<br><b>Metric:</b> %{fullData.name}<br><b>Total:</b> %{y:.2f}<extra></extra>",
         "legendgroup": "Profit Margin ($)",
         "marker": {
          "color": "#B7E0B1",
          "pattern": {
           "shape": ""
          }
         },
         "name": "Profit Margin ($)",
         "offsetgroup": "Profit Margin ($)",
         "orientation": "v",
         "showlegend": true,
         "textposition": "auto",
         "type": "bar",
         "x": [
          "Display",
          "Email",
          "Facebook",
          "Organic",
          "Search"
         ],
         "xaxis": "x",
         "y": [
          676.3982837525475,
          514.9788684672911,
          -196.0397918524178,
          1270.6501153500953,
          5953.131075100723
         ],
         "yaxis": "y"
        }
       ],
       "layout": {
        "barmode": "group",
        "height": 600,
        "legend": {
         "orientation": "h",
         "title": {
          "text": "variable"
         },
         "tracegroupgap": 0,
         "x": 0.5,
         "xanchor": "center",
         "y": -0.3,
         "yanchor": "bottom"
        },
        "template": {
         "layout": {
          "font": {
           "color": "#2D494C",
           "family": "Lato",
           "size": 14
          },
          "hoverlabel": {
           "bgcolor": "#E5F2F2",
           "bordercolor": "#2D494C",
           "font": {
            "color": "#2D494C",
            "size": 14
           }
          },
          "legend": {
           "font": {
            "size": 12
           },
           "title": {
            "font": {
             "color": "#2D494C",
             "size": 16
            },
            "text": "<b>Legend Title</b>"
           }
          },
          "paper_bgcolor": "#FDFDFD",
          "plot_bgcolor": "#FDFDFD",
          "title": {
           "font": {
            "size": 24
           },
           "text": "<b>Your Chart Title</b>",
           "x": 0.5
          },
          "xaxis": {
           "showgrid": false,
           "tickfont": {
            "size": 12
           },
           "title": {
            "font": {
             "size": 16
            },
            "text": "<b>X Axis Title</b>"
           }
          },
          "yaxis": {
           "showgrid": false,
           "tickfont": {
            "size": 12
           },
           "title": {
            "font": {
             "size": 16
            },
            "text": "<b>Y Axis Title</b>"
           }
          }
         }
        },
        "title": {
         "text": "New Customers and Profit Margin by Campaign"
        },
        "xaxis": {
         "anchor": "y",
         "domain": [
          0,
          1
         ],
         "title": {
          "text": "Campaign Type"
         }
        },
        "yaxis": {
         "anchor": "x",
         "domain": [
          0,
          1
         ],
         "title": {
          "text": "Total New Customers / Profit ($)"
         }
        }
       }
      }
     },
     "metadata": {},
     "output_type": "display_data"
    }
   ],
   "source": [
    "# Campaign effectiveness\n",
    "campaign_effectiveness = product_performance.groupby('traffic_source').agg({\n",
    "    'user_id': 'nunique',  # Number of new customers acquired\n",
    "    'revenue': 'sum',      # Total revenue generated\n",
    "    'profitability': 'sum' # Total profitability\n",
    "}).reset_index()\n",
    "\n",
    "# Rename columns for clarity\n",
    "campaign_effectiveness.columns = ['Campaign Type', 'Total New Customers', 'Total Revenue ($)', 'Profit Margin ($)']\n",
    "\n",
    "# Plot the metrics\n",
    "fig7 = px.bar(\n",
    "    campaign_effectiveness,\n",
    "    x='Campaign Type',\n",
    "    y=['Total New Customers', 'Profit Margin ($)'],\n",
    "    title='New Customers and Profit Margin by Campaign',\n",
    "    labels={'value': 'Total Count/Profit ($)', 'Campaign Type': 'Campaign Type'},\n",
    "    barmode='group',\n",
    "    color_discrete_sequence=custom_colors2\n",
    ")\n",
    "\n",
    "# Customize layout for clarity\n",
    "fig7.update_layout(\n",
    "    xaxis_title='Campaign Type',\n",
    "    yaxis_title='Total New Customers / Profit ($)',\n",
    "    legend=dict(\n",
    "        orientation='h',\n",
    "        yanchor='bottom',\n",
    "        y=-0.3,\n",
    "        xanchor='center',\n",
    "        x=0.5\n",
    "    ),\n",
    "    height=600\n",
    ")\n",
    "\n",
    "fig7.update_traces(\n",
    "    hovertemplate=(\n",
    "        '<b>Campaign Type:</b> %{x}<br>'  \n",
    "        '<b>Metric:</b> %{fullData.name}<br>'  \n",
    "        '<b>Total:</b> %{y:.2f}<extra></extra>'  \n",
    "    )\n",
    ")\n",
    "\n",
    "fig7.show()\n"
   ]
  },
  {
   "cell_type": "markdown",
   "metadata": {},
   "source": [
    "### Seasonality of customer acquisition\n",
    "\n",
    "I explored how customer acquisition varies month-to-month by analyzing traffic sources and customer demographics. This helps pinpoint high-traffic periods, such as holidays or major sales events, which can inform better marketing strategies.\n",
    "\n",
    "**Key Metrics:**\n",
    "\n",
    "`New Users Acquired:` Display, Email, Facebook, Organic, Search.<br>\n",
    "`Traffic Source:` Number of customers acquired from each campaign.<br>\n",
    "`Gender:` Profit generated from each campaign.<br>\n",
    "\n",
    "**Key insights:**\n",
    "\n",
    "- Clear seasonal trends in customer acquisition can be observed.\n",
    "- Search remains the dominant traffic source for customer acquisition across the observed period.\n",
    "- There are visible peaks during holiday seasons, where customer acquisition is higher, particularly for male customers via search traffic.\n"
   ]
  },
  {
   "cell_type": "code",
   "execution_count": 1054,
   "metadata": {},
   "outputs": [
    {
     "name": "stderr",
     "output_type": "stream",
     "text": [
      "/var/folders/wc/j84xw3lj0zb22w4z1xdhh17m0000gn/T/ipykernel_99863/531740061.py:2: UserWarning:\n",
      "\n",
      "Converting to PeriodArray/Index representation will drop timezone information.\n",
      "\n"
     ]
    },
    {
     "data": {
      "application/vnd.plotly.v1+json": {
       "config": {
        "plotlyServerURL": "https://plot.ly"
       },
       "data": [
        {
         "customdata": [
          [
           "F"
          ],
          [
           "F"
          ],
          [
           "F"
          ],
          [
           "F"
          ],
          [
           "F"
          ],
          [
           "F"
          ],
          [
           "F"
          ],
          [
           "F"
          ],
          [
           "F"
          ],
          [
           "F"
          ],
          [
           "F"
          ],
          [
           "F"
          ],
          [
           "F"
          ],
          [
           "F"
          ],
          [
           "F"
          ],
          [
           "F"
          ],
          [
           "F"
          ],
          [
           "F"
          ],
          [
           "F"
          ],
          [
           "F"
          ],
          [
           "F"
          ],
          [
           "F"
          ],
          [
           "F"
          ],
          [
           "F"
          ],
          [
           "F"
          ],
          [
           "F"
          ],
          [
           "F"
          ],
          [
           "F"
          ],
          [
           "F"
          ],
          [
           "F"
          ],
          [
           "F"
          ],
          [
           "F"
          ],
          [
           "F"
          ],
          [
           "F"
          ],
          [
           "F"
          ],
          [
           "F"
          ],
          [
           "F"
          ],
          [
           "F"
          ],
          [
           "F"
          ],
          [
           "F"
          ],
          [
           "F"
          ],
          [
           "F"
          ],
          [
           "F"
          ],
          [
           "F"
          ],
          [
           "F"
          ],
          [
           "F"
          ],
          [
           "F"
          ],
          [
           "F"
          ],
          [
           "F"
          ],
          [
           "F"
          ],
          [
           "F"
          ],
          [
           "F"
          ],
          [
           "F"
          ],
          [
           "F"
          ],
          [
           "F"
          ],
          [
           "F"
          ],
          [
           "F"
          ],
          [
           "F"
          ],
          [
           "F"
          ],
          [
           "F"
          ],
          [
           "F"
          ]
         ],
         "fillpattern": {
          "shape": ""
         },
         "hovertemplate": "<b>Traffic Source:</b> %{fullData.name}<br><b>Gender:</b> %{customdata[0]}<br><b>Date:</b> %{x}<br><b>New Users:</b> %{y:.2f}<extra></extra>",
         "legendgroup": "Display",
         "line": {
          "color": "#4CAF50",
          "shape": "spline"
         },
         "marker": {
          "symbol": "circle"
         },
         "mode": "lines",
         "name": "Display",
         "orientation": "v",
         "showlegend": true,
         "stackgroup": "1",
         "type": "scatter",
         "x": [
          "2019-01-01T00:00:00",
          "2019-02-01T00:00:00",
          "2019-03-01T00:00:00",
          "2019-04-01T00:00:00",
          "2019-05-01T00:00:00",
          "2019-06-01T00:00:00",
          "2019-07-01T00:00:00",
          "2019-08-01T00:00:00",
          "2019-09-01T00:00:00",
          "2019-10-01T00:00:00",
          "2019-11-01T00:00:00",
          "2019-12-01T00:00:00",
          "2020-01-01T00:00:00",
          "2020-02-01T00:00:00",
          "2020-03-01T00:00:00",
          "2020-04-01T00:00:00",
          "2020-05-01T00:00:00",
          "2020-06-01T00:00:00",
          "2020-07-01T00:00:00",
          "2020-08-01T00:00:00",
          "2020-09-01T00:00:00",
          "2020-10-01T00:00:00",
          "2020-11-01T00:00:00",
          "2020-12-01T00:00:00",
          "2021-01-01T00:00:00",
          "2021-02-01T00:00:00",
          "2021-03-01T00:00:00",
          "2021-04-01T00:00:00",
          "2021-05-01T00:00:00",
          "2021-06-01T00:00:00",
          "2021-07-01T00:00:00",
          "2021-08-01T00:00:00",
          "2021-09-01T00:00:00",
          "2021-10-01T00:00:00",
          "2021-11-01T00:00:00",
          "2021-12-01T00:00:00",
          "2022-01-01T00:00:00",
          "2022-02-01T00:00:00",
          "2022-03-01T00:00:00",
          "2022-04-01T00:00:00",
          "2022-05-01T00:00:00",
          "2022-06-01T00:00:00",
          "2022-07-01T00:00:00",
          "2022-08-01T00:00:00",
          "2022-09-01T00:00:00",
          "2022-10-01T00:00:00",
          "2022-11-01T00:00:00",
          "2022-12-01T00:00:00",
          "2023-01-01T00:00:00",
          "2023-02-01T00:00:00",
          "2023-03-01T00:00:00",
          "2023-04-01T00:00:00",
          "2023-05-01T00:00:00",
          "2023-06-01T00:00:00",
          "2023-07-01T00:00:00",
          "2023-08-01T00:00:00",
          "2023-09-01T00:00:00",
          "2023-10-01T00:00:00",
          "2023-11-01T00:00:00",
          "2023-12-01T00:00:00",
          "2024-01-01T00:00:00"
         ],
         "xaxis": "x",
         "y": [
          7,
          5,
          7,
          9,
          7,
          13,
          8,
          11,
          9,
          11,
          12,
          4,
          16,
          10,
          10,
          6,
          12,
          6,
          6,
          6,
          7,
          10,
          10,
          8,
          11,
          13,
          13,
          10,
          11,
          8,
          8,
          9,
          10,
          11,
          5,
          8,
          6,
          9,
          12,
          1,
          7,
          6,
          9,
          12,
          12,
          8,
          9,
          10,
          8,
          6,
          9,
          7,
          6,
          5,
          9,
          11,
          10,
          10,
          15,
          10,
          5
         ],
         "yaxis": "y"
        },
        {
         "customdata": [
          [
           "M"
          ],
          [
           "M"
          ],
          [
           "M"
          ],
          [
           "M"
          ],
          [
           "M"
          ],
          [
           "M"
          ],
          [
           "M"
          ],
          [
           "M"
          ],
          [
           "M"
          ],
          [
           "M"
          ],
          [
           "M"
          ],
          [
           "M"
          ],
          [
           "M"
          ],
          [
           "M"
          ],
          [
           "M"
          ],
          [
           "M"
          ],
          [
           "M"
          ],
          [
           "M"
          ],
          [
           "M"
          ],
          [
           "M"
          ],
          [
           "M"
          ],
          [
           "M"
          ],
          [
           "M"
          ],
          [
           "M"
          ],
          [
           "M"
          ],
          [
           "M"
          ],
          [
           "M"
          ],
          [
           "M"
          ],
          [
           "M"
          ],
          [
           "M"
          ],
          [
           "M"
          ],
          [
           "M"
          ],
          [
           "M"
          ],
          [
           "M"
          ],
          [
           "M"
          ],
          [
           "M"
          ],
          [
           "M"
          ],
          [
           "M"
          ],
          [
           "M"
          ],
          [
           "M"
          ],
          [
           "M"
          ],
          [
           "M"
          ],
          [
           "M"
          ],
          [
           "M"
          ],
          [
           "M"
          ],
          [
           "M"
          ],
          [
           "M"
          ],
          [
           "M"
          ],
          [
           "M"
          ],
          [
           "M"
          ],
          [
           "M"
          ],
          [
           "M"
          ],
          [
           "M"
          ],
          [
           "M"
          ],
          [
           "M"
          ],
          [
           "M"
          ],
          [
           "M"
          ],
          [
           "M"
          ],
          [
           "M"
          ],
          [
           "M"
          ],
          [
           "M"
          ]
         ],
         "fillpattern": {
          "shape": ""
         },
         "hovertemplate": "<b>Traffic Source:</b> %{fullData.name}<br><b>Gender:</b> %{customdata[0]}<br><b>Date:</b> %{x}<br><b>New Users:</b> %{y:.2f}<extra></extra>",
         "legendgroup": "Display",
         "line": {
          "color": "#4CAF50",
          "shape": "spline"
         },
         "marker": {
          "symbol": "circle"
         },
         "mode": "lines",
         "name": "Display",
         "orientation": "v",
         "showlegend": false,
         "stackgroup": "1",
         "type": "scatter",
         "x": [
          "2019-01-01T00:00:00",
          "2019-02-01T00:00:00",
          "2019-03-01T00:00:00",
          "2019-04-01T00:00:00",
          "2019-05-01T00:00:00",
          "2019-06-01T00:00:00",
          "2019-07-01T00:00:00",
          "2019-08-01T00:00:00",
          "2019-09-01T00:00:00",
          "2019-10-01T00:00:00",
          "2019-11-01T00:00:00",
          "2019-12-01T00:00:00",
          "2020-01-01T00:00:00",
          "2020-02-01T00:00:00",
          "2020-03-01T00:00:00",
          "2020-04-01T00:00:00",
          "2020-05-01T00:00:00",
          "2020-06-01T00:00:00",
          "2020-07-01T00:00:00",
          "2020-08-01T00:00:00",
          "2020-09-01T00:00:00",
          "2020-10-01T00:00:00",
          "2020-11-01T00:00:00",
          "2020-12-01T00:00:00",
          "2021-01-01T00:00:00",
          "2021-02-01T00:00:00",
          "2021-03-01T00:00:00",
          "2021-04-01T00:00:00",
          "2021-05-01T00:00:00",
          "2021-06-01T00:00:00",
          "2021-07-01T00:00:00",
          "2021-08-01T00:00:00",
          "2021-09-01T00:00:00",
          "2021-10-01T00:00:00",
          "2021-11-01T00:00:00",
          "2021-12-01T00:00:00",
          "2022-01-01T00:00:00",
          "2022-02-01T00:00:00",
          "2022-03-01T00:00:00",
          "2022-04-01T00:00:00",
          "2022-05-01T00:00:00",
          "2022-06-01T00:00:00",
          "2022-07-01T00:00:00",
          "2022-08-01T00:00:00",
          "2022-09-01T00:00:00",
          "2022-10-01T00:00:00",
          "2022-11-01T00:00:00",
          "2022-12-01T00:00:00",
          "2023-01-01T00:00:00",
          "2023-02-01T00:00:00",
          "2023-03-01T00:00:00",
          "2023-04-01T00:00:00",
          "2023-05-01T00:00:00",
          "2023-06-01T00:00:00",
          "2023-07-01T00:00:00",
          "2023-08-01T00:00:00",
          "2023-09-01T00:00:00",
          "2023-10-01T00:00:00",
          "2023-11-01T00:00:00",
          "2023-12-01T00:00:00",
          "2024-01-01T00:00:00"
         ],
         "xaxis": "x",
         "y": [
          15,
          10,
          6,
          5,
          4,
          8,
          7,
          6,
          14,
          13,
          7,
          12,
          4,
          11,
          4,
          7,
          10,
          10,
          10,
          10,
          9,
          13,
          10,
          10,
          7,
          5,
          7,
          5,
          8,
          9,
          12,
          13,
          8,
          10,
          6,
          9,
          10,
          5,
          10,
          5,
          6,
          6,
          13,
          12,
          12,
          9,
          8,
          13,
          15,
          9,
          8,
          8,
          7,
          10,
          12,
          13,
          5,
          13,
          13,
          11,
          2
         ],
         "yaxis": "y"
        },
        {
         "customdata": [
          [
           "F"
          ],
          [
           "F"
          ],
          [
           "F"
          ],
          [
           "F"
          ],
          [
           "F"
          ],
          [
           "F"
          ],
          [
           "F"
          ],
          [
           "F"
          ],
          [
           "F"
          ],
          [
           "F"
          ],
          [
           "F"
          ],
          [
           "F"
          ],
          [
           "F"
          ],
          [
           "F"
          ],
          [
           "F"
          ],
          [
           "F"
          ],
          [
           "F"
          ],
          [
           "F"
          ],
          [
           "F"
          ],
          [
           "F"
          ],
          [
           "F"
          ],
          [
           "F"
          ],
          [
           "F"
          ],
          [
           "F"
          ],
          [
           "F"
          ],
          [
           "F"
          ],
          [
           "F"
          ],
          [
           "F"
          ],
          [
           "F"
          ],
          [
           "F"
          ],
          [
           "F"
          ],
          [
           "F"
          ],
          [
           "F"
          ],
          [
           "F"
          ],
          [
           "F"
          ],
          [
           "F"
          ],
          [
           "F"
          ],
          [
           "F"
          ],
          [
           "F"
          ],
          [
           "F"
          ],
          [
           "F"
          ],
          [
           "F"
          ],
          [
           "F"
          ],
          [
           "F"
          ],
          [
           "F"
          ],
          [
           "F"
          ],
          [
           "F"
          ],
          [
           "F"
          ],
          [
           "F"
          ],
          [
           "F"
          ],
          [
           "F"
          ],
          [
           "F"
          ],
          [
           "F"
          ],
          [
           "F"
          ],
          [
           "F"
          ],
          [
           "F"
          ],
          [
           "F"
          ],
          [
           "F"
          ],
          [
           "F"
          ],
          [
           "F"
          ],
          [
           "F"
          ]
         ],
         "fillpattern": {
          "shape": ""
         },
         "hovertemplate": "<b>Traffic Source:</b> %{fullData.name}<br><b>Gender:</b> %{customdata[0]}<br><b>Date:</b> %{x}<br><b>New Users:</b> %{y:.2f}<extra></extra>",
         "legendgroup": "Email",
         "line": {
          "color": "#1E88E5",
          "shape": "spline"
         },
         "marker": {
          "symbol": "circle"
         },
         "mode": "lines",
         "name": "Email",
         "orientation": "v",
         "showlegend": true,
         "stackgroup": "1",
         "type": "scatter",
         "x": [
          "2019-01-01T00:00:00",
          "2019-02-01T00:00:00",
          "2019-03-01T00:00:00",
          "2019-04-01T00:00:00",
          "2019-05-01T00:00:00",
          "2019-06-01T00:00:00",
          "2019-07-01T00:00:00",
          "2019-08-01T00:00:00",
          "2019-09-01T00:00:00",
          "2019-10-01T00:00:00",
          "2019-11-01T00:00:00",
          "2019-12-01T00:00:00",
          "2020-01-01T00:00:00",
          "2020-02-01T00:00:00",
          "2020-03-01T00:00:00",
          "2020-04-01T00:00:00",
          "2020-05-01T00:00:00",
          "2020-06-01T00:00:00",
          "2020-07-01T00:00:00",
          "2020-08-01T00:00:00",
          "2020-09-01T00:00:00",
          "2020-10-01T00:00:00",
          "2020-11-01T00:00:00",
          "2020-12-01T00:00:00",
          "2021-01-01T00:00:00",
          "2021-02-01T00:00:00",
          "2021-03-01T00:00:00",
          "2021-04-01T00:00:00",
          "2021-05-01T00:00:00",
          "2021-06-01T00:00:00",
          "2021-07-01T00:00:00",
          "2021-08-01T00:00:00",
          "2021-09-01T00:00:00",
          "2021-10-01T00:00:00",
          "2021-11-01T00:00:00",
          "2021-12-01T00:00:00",
          "2022-01-01T00:00:00",
          "2022-02-01T00:00:00",
          "2022-03-01T00:00:00",
          "2022-04-01T00:00:00",
          "2022-05-01T00:00:00",
          "2022-06-01T00:00:00",
          "2022-07-01T00:00:00",
          "2022-08-01T00:00:00",
          "2022-09-01T00:00:00",
          "2022-10-01T00:00:00",
          "2022-11-01T00:00:00",
          "2022-12-01T00:00:00",
          "2023-01-01T00:00:00",
          "2023-02-01T00:00:00",
          "2023-03-01T00:00:00",
          "2023-04-01T00:00:00",
          "2023-05-01T00:00:00",
          "2023-06-01T00:00:00",
          "2023-07-01T00:00:00",
          "2023-08-01T00:00:00",
          "2023-09-01T00:00:00",
          "2023-10-01T00:00:00",
          "2023-11-01T00:00:00",
          "2023-12-01T00:00:00",
          "2024-01-01T00:00:00"
         ],
         "xaxis": "x",
         "y": [
          9,
          8,
          8,
          14,
          16,
          12,
          7,
          8,
          14,
          12,
          10,
          8,
          6,
          10,
          10,
          12,
          7,
          12,
          7,
          13,
          10,
          8,
          7,
          11,
          13,
          9,
          14,
          6,
          11,
          13,
          17,
          9,
          9,
          9,
          5,
          14,
          10,
          10,
          9,
          10,
          16,
          11,
          16,
          9,
          9,
          9,
          18,
          8,
          18,
          12,
          13,
          9,
          8,
          12,
          10,
          15,
          11,
          8,
          16,
          17,
          7
         ],
         "yaxis": "y"
        },
        {
         "customdata": [
          [
           "M"
          ],
          [
           "M"
          ],
          [
           "M"
          ],
          [
           "M"
          ],
          [
           "M"
          ],
          [
           "M"
          ],
          [
           "M"
          ],
          [
           "M"
          ],
          [
           "M"
          ],
          [
           "M"
          ],
          [
           "M"
          ],
          [
           "M"
          ],
          [
           "M"
          ],
          [
           "M"
          ],
          [
           "M"
          ],
          [
           "M"
          ],
          [
           "M"
          ],
          [
           "M"
          ],
          [
           "M"
          ],
          [
           "M"
          ],
          [
           "M"
          ],
          [
           "M"
          ],
          [
           "M"
          ],
          [
           "M"
          ],
          [
           "M"
          ],
          [
           "M"
          ],
          [
           "M"
          ],
          [
           "M"
          ],
          [
           "M"
          ],
          [
           "M"
          ],
          [
           "M"
          ],
          [
           "M"
          ],
          [
           "M"
          ],
          [
           "M"
          ],
          [
           "M"
          ],
          [
           "M"
          ],
          [
           "M"
          ],
          [
           "M"
          ],
          [
           "M"
          ],
          [
           "M"
          ],
          [
           "M"
          ],
          [
           "M"
          ],
          [
           "M"
          ],
          [
           "M"
          ],
          [
           "M"
          ],
          [
           "M"
          ],
          [
           "M"
          ],
          [
           "M"
          ],
          [
           "M"
          ],
          [
           "M"
          ],
          [
           "M"
          ],
          [
           "M"
          ],
          [
           "M"
          ],
          [
           "M"
          ],
          [
           "M"
          ],
          [
           "M"
          ],
          [
           "M"
          ],
          [
           "M"
          ],
          [
           "M"
          ],
          [
           "M"
          ],
          [
           "M"
          ]
         ],
         "fillpattern": {
          "shape": ""
         },
         "hovertemplate": "<b>Traffic Source:</b> %{fullData.name}<br><b>Gender:</b> %{customdata[0]}<br><b>Date:</b> %{x}<br><b>New Users:</b> %{y:.2f}<extra></extra>",
         "legendgroup": "Email",
         "line": {
          "color": "#1E88E5",
          "shape": "spline"
         },
         "marker": {
          "symbol": "circle"
         },
         "mode": "lines",
         "name": "Email",
         "orientation": "v",
         "showlegend": false,
         "stackgroup": "1",
         "type": "scatter",
         "x": [
          "2019-01-01T00:00:00",
          "2019-02-01T00:00:00",
          "2019-03-01T00:00:00",
          "2019-04-01T00:00:00",
          "2019-05-01T00:00:00",
          "2019-06-01T00:00:00",
          "2019-07-01T00:00:00",
          "2019-08-01T00:00:00",
          "2019-09-01T00:00:00",
          "2019-10-01T00:00:00",
          "2019-11-01T00:00:00",
          "2019-12-01T00:00:00",
          "2020-01-01T00:00:00",
          "2020-02-01T00:00:00",
          "2020-03-01T00:00:00",
          "2020-04-01T00:00:00",
          "2020-05-01T00:00:00",
          "2020-06-01T00:00:00",
          "2020-07-01T00:00:00",
          "2020-08-01T00:00:00",
          "2020-09-01T00:00:00",
          "2020-10-01T00:00:00",
          "2020-11-01T00:00:00",
          "2020-12-01T00:00:00",
          "2021-01-01T00:00:00",
          "2021-02-01T00:00:00",
          "2021-03-01T00:00:00",
          "2021-04-01T00:00:00",
          "2021-05-01T00:00:00",
          "2021-06-01T00:00:00",
          "2021-07-01T00:00:00",
          "2021-08-01T00:00:00",
          "2021-09-01T00:00:00",
          "2021-10-01T00:00:00",
          "2021-11-01T00:00:00",
          "2021-12-01T00:00:00",
          "2022-01-01T00:00:00",
          "2022-02-01T00:00:00",
          "2022-03-01T00:00:00",
          "2022-04-01T00:00:00",
          "2022-05-01T00:00:00",
          "2022-06-01T00:00:00",
          "2022-07-01T00:00:00",
          "2022-08-01T00:00:00",
          "2022-09-01T00:00:00",
          "2022-10-01T00:00:00",
          "2022-11-01T00:00:00",
          "2022-12-01T00:00:00",
          "2023-01-01T00:00:00",
          "2023-02-01T00:00:00",
          "2023-03-01T00:00:00",
          "2023-04-01T00:00:00",
          "2023-05-01T00:00:00",
          "2023-06-01T00:00:00",
          "2023-07-01T00:00:00",
          "2023-08-01T00:00:00",
          "2023-09-01T00:00:00",
          "2023-10-01T00:00:00",
          "2023-11-01T00:00:00",
          "2023-12-01T00:00:00",
          "2024-01-01T00:00:00"
         ],
         "xaxis": "x",
         "y": [
          5,
          8,
          13,
          13,
          9,
          9,
          5,
          10,
          12,
          12,
          8,
          10,
          14,
          17,
          14,
          12,
          10,
          13,
          13,
          15,
          7,
          9,
          16,
          10,
          15,
          12,
          11,
          14,
          9,
          11,
          10,
          11,
          16,
          8,
          17,
          12,
          12,
          6,
          9,
          11,
          11,
          8,
          11,
          10,
          9,
          15,
          5,
          11,
          10,
          9,
          11,
          9,
          11,
          10,
          9,
          12,
          16,
          6,
          11,
          16,
          2
         ],
         "yaxis": "y"
        },
        {
         "customdata": [
          [
           "F"
          ],
          [
           "F"
          ],
          [
           "F"
          ],
          [
           "F"
          ],
          [
           "F"
          ],
          [
           "F"
          ],
          [
           "F"
          ],
          [
           "F"
          ],
          [
           "F"
          ],
          [
           "F"
          ],
          [
           "F"
          ],
          [
           "F"
          ],
          [
           "F"
          ],
          [
           "F"
          ],
          [
           "F"
          ],
          [
           "F"
          ],
          [
           "F"
          ],
          [
           "F"
          ],
          [
           "F"
          ],
          [
           "F"
          ],
          [
           "F"
          ],
          [
           "F"
          ],
          [
           "F"
          ],
          [
           "F"
          ],
          [
           "F"
          ],
          [
           "F"
          ],
          [
           "F"
          ],
          [
           "F"
          ],
          [
           "F"
          ],
          [
           "F"
          ],
          [
           "F"
          ],
          [
           "F"
          ],
          [
           "F"
          ],
          [
           "F"
          ],
          [
           "F"
          ],
          [
           "F"
          ],
          [
           "F"
          ],
          [
           "F"
          ],
          [
           "F"
          ],
          [
           "F"
          ],
          [
           "F"
          ],
          [
           "F"
          ],
          [
           "F"
          ],
          [
           "F"
          ],
          [
           "F"
          ],
          [
           "F"
          ],
          [
           "F"
          ],
          [
           "F"
          ],
          [
           "F"
          ],
          [
           "F"
          ],
          [
           "F"
          ],
          [
           "F"
          ],
          [
           "F"
          ],
          [
           "F"
          ],
          [
           "F"
          ],
          [
           "F"
          ],
          [
           "F"
          ],
          [
           "F"
          ],
          [
           "F"
          ],
          [
           "F"
          ],
          [
           "F"
          ]
         ],
         "fillpattern": {
          "shape": ""
         },
         "hovertemplate": "<b>Traffic Source:</b> %{fullData.name}<br><b>Gender:</b> %{customdata[0]}<br><b>Date:</b> %{x}<br><b>New Users:</b> %{y:.2f}<extra></extra>",
         "legendgroup": "Facebook",
         "line": {
          "color": "#00ACC1",
          "shape": "spline"
         },
         "marker": {
          "symbol": "circle"
         },
         "mode": "lines",
         "name": "Facebook",
         "orientation": "v",
         "showlegend": true,
         "stackgroup": "1",
         "type": "scatter",
         "x": [
          "2019-01-01T00:00:00",
          "2019-02-01T00:00:00",
          "2019-03-01T00:00:00",
          "2019-04-01T00:00:00",
          "2019-05-01T00:00:00",
          "2019-06-01T00:00:00",
          "2019-07-01T00:00:00",
          "2019-08-01T00:00:00",
          "2019-09-01T00:00:00",
          "2019-10-01T00:00:00",
          "2019-11-01T00:00:00",
          "2019-12-01T00:00:00",
          "2020-01-01T00:00:00",
          "2020-02-01T00:00:00",
          "2020-03-01T00:00:00",
          "2020-04-01T00:00:00",
          "2020-05-01T00:00:00",
          "2020-06-01T00:00:00",
          "2020-07-01T00:00:00",
          "2020-08-01T00:00:00",
          "2020-09-01T00:00:00",
          "2020-10-01T00:00:00",
          "2020-11-01T00:00:00",
          "2020-12-01T00:00:00",
          "2021-01-01T00:00:00",
          "2021-02-01T00:00:00",
          "2021-03-01T00:00:00",
          "2021-04-01T00:00:00",
          "2021-05-01T00:00:00",
          "2021-06-01T00:00:00",
          "2021-07-01T00:00:00",
          "2021-08-01T00:00:00",
          "2021-09-01T00:00:00",
          "2021-10-01T00:00:00",
          "2021-11-01T00:00:00",
          "2021-12-01T00:00:00",
          "2022-01-01T00:00:00",
          "2022-02-01T00:00:00",
          "2022-03-01T00:00:00",
          "2022-04-01T00:00:00",
          "2022-05-01T00:00:00",
          "2022-06-01T00:00:00",
          "2022-07-01T00:00:00",
          "2022-08-01T00:00:00",
          "2022-09-01T00:00:00",
          "2022-10-01T00:00:00",
          "2022-11-01T00:00:00",
          "2022-12-01T00:00:00",
          "2023-01-01T00:00:00",
          "2023-02-01T00:00:00",
          "2023-03-01T00:00:00",
          "2023-04-01T00:00:00",
          "2023-05-01T00:00:00",
          "2023-06-01T00:00:00",
          "2023-07-01T00:00:00",
          "2023-08-01T00:00:00",
          "2023-09-01T00:00:00",
          "2023-10-01T00:00:00",
          "2023-11-01T00:00:00",
          "2023-12-01T00:00:00",
          "2024-01-01T00:00:00"
         ],
         "xaxis": "x",
         "y": [
          13,
          12,
          8,
          14,
          15,
          16,
          6,
          17,
          16,
          15,
          14,
          13,
          13,
          17,
          6,
          15,
          11,
          8,
          12,
          19,
          12,
          11,
          10,
          12,
          10,
          11,
          12,
          14,
          10,
          10,
          10,
          11,
          7,
          16,
          9,
          12,
          12,
          11,
          16,
          13,
          15,
          6,
          13,
          7,
          14,
          9,
          11,
          14,
          18,
          18,
          18,
          16,
          14,
          19,
          12,
          13,
          11,
          13,
          13,
          13,
          6
         ],
         "yaxis": "y"
        },
        {
         "customdata": [
          [
           "M"
          ],
          [
           "M"
          ],
          [
           "M"
          ],
          [
           "M"
          ],
          [
           "M"
          ],
          [
           "M"
          ],
          [
           "M"
          ],
          [
           "M"
          ],
          [
           "M"
          ],
          [
           "M"
          ],
          [
           "M"
          ],
          [
           "M"
          ],
          [
           "M"
          ],
          [
           "M"
          ],
          [
           "M"
          ],
          [
           "M"
          ],
          [
           "M"
          ],
          [
           "M"
          ],
          [
           "M"
          ],
          [
           "M"
          ],
          [
           "M"
          ],
          [
           "M"
          ],
          [
           "M"
          ],
          [
           "M"
          ],
          [
           "M"
          ],
          [
           "M"
          ],
          [
           "M"
          ],
          [
           "M"
          ],
          [
           "M"
          ],
          [
           "M"
          ],
          [
           "M"
          ],
          [
           "M"
          ],
          [
           "M"
          ],
          [
           "M"
          ],
          [
           "M"
          ],
          [
           "M"
          ],
          [
           "M"
          ],
          [
           "M"
          ],
          [
           "M"
          ],
          [
           "M"
          ],
          [
           "M"
          ],
          [
           "M"
          ],
          [
           "M"
          ],
          [
           "M"
          ],
          [
           "M"
          ],
          [
           "M"
          ],
          [
           "M"
          ],
          [
           "M"
          ],
          [
           "M"
          ],
          [
           "M"
          ],
          [
           "M"
          ],
          [
           "M"
          ],
          [
           "M"
          ],
          [
           "M"
          ],
          [
           "M"
          ],
          [
           "M"
          ],
          [
           "M"
          ],
          [
           "M"
          ],
          [
           "M"
          ],
          [
           "M"
          ],
          [
           "M"
          ]
         ],
         "fillpattern": {
          "shape": ""
         },
         "hovertemplate": "<b>Traffic Source:</b> %{fullData.name}<br><b>Gender:</b> %{customdata[0]}<br><b>Date:</b> %{x}<br><b>New Users:</b> %{y:.2f}<extra></extra>",
         "legendgroup": "Facebook",
         "line": {
          "color": "#00ACC1",
          "shape": "spline"
         },
         "marker": {
          "symbol": "circle"
         },
         "mode": "lines",
         "name": "Facebook",
         "orientation": "v",
         "showlegend": false,
         "stackgroup": "1",
         "type": "scatter",
         "x": [
          "2019-01-01T00:00:00",
          "2019-02-01T00:00:00",
          "2019-03-01T00:00:00",
          "2019-04-01T00:00:00",
          "2019-05-01T00:00:00",
          "2019-06-01T00:00:00",
          "2019-07-01T00:00:00",
          "2019-08-01T00:00:00",
          "2019-09-01T00:00:00",
          "2019-10-01T00:00:00",
          "2019-11-01T00:00:00",
          "2019-12-01T00:00:00",
          "2020-01-01T00:00:00",
          "2020-02-01T00:00:00",
          "2020-03-01T00:00:00",
          "2020-04-01T00:00:00",
          "2020-05-01T00:00:00",
          "2020-06-01T00:00:00",
          "2020-07-01T00:00:00",
          "2020-08-01T00:00:00",
          "2020-09-01T00:00:00",
          "2020-10-01T00:00:00",
          "2020-11-01T00:00:00",
          "2020-12-01T00:00:00",
          "2021-01-01T00:00:00",
          "2021-02-01T00:00:00",
          "2021-03-01T00:00:00",
          "2021-04-01T00:00:00",
          "2021-05-01T00:00:00",
          "2021-06-01T00:00:00",
          "2021-07-01T00:00:00",
          "2021-08-01T00:00:00",
          "2021-09-01T00:00:00",
          "2021-10-01T00:00:00",
          "2021-11-01T00:00:00",
          "2021-12-01T00:00:00",
          "2022-01-01T00:00:00",
          "2022-02-01T00:00:00",
          "2022-03-01T00:00:00",
          "2022-04-01T00:00:00",
          "2022-05-01T00:00:00",
          "2022-06-01T00:00:00",
          "2022-07-01T00:00:00",
          "2022-08-01T00:00:00",
          "2022-09-01T00:00:00",
          "2022-10-01T00:00:00",
          "2022-11-01T00:00:00",
          "2022-12-01T00:00:00",
          "2023-01-01T00:00:00",
          "2023-02-01T00:00:00",
          "2023-03-01T00:00:00",
          "2023-04-01T00:00:00",
          "2023-05-01T00:00:00",
          "2023-06-01T00:00:00",
          "2023-07-01T00:00:00",
          "2023-08-01T00:00:00",
          "2023-09-01T00:00:00",
          "2023-10-01T00:00:00",
          "2023-11-01T00:00:00",
          "2023-12-01T00:00:00",
          "2024-01-01T00:00:00"
         ],
         "xaxis": "x",
         "y": [
          9,
          13,
          13,
          13,
          11,
          16,
          14,
          14,
          19,
          17,
          20,
          16,
          10,
          15,
          14,
          15,
          17,
          15,
          15,
          14,
          17,
          13,
          9,
          11,
          13,
          13,
          13,
          13,
          13,
          9,
          11,
          13,
          11,
          11,
          11,
          15,
          11,
          8,
          12,
          8,
          16,
          17,
          17,
          19,
          13,
          9,
          15,
          10,
          13,
          16,
          13,
          16,
          11,
          8,
          11,
          10,
          12,
          15,
          20,
          18,
          11
         ],
         "yaxis": "y"
        },
        {
         "customdata": [
          [
           "F"
          ],
          [
           "F"
          ],
          [
           "F"
          ],
          [
           "F"
          ],
          [
           "F"
          ],
          [
           "F"
          ],
          [
           "F"
          ],
          [
           "F"
          ],
          [
           "F"
          ],
          [
           "F"
          ],
          [
           "F"
          ],
          [
           "F"
          ],
          [
           "F"
          ],
          [
           "F"
          ],
          [
           "F"
          ],
          [
           "F"
          ],
          [
           "F"
          ],
          [
           "F"
          ],
          [
           "F"
          ],
          [
           "F"
          ],
          [
           "F"
          ],
          [
           "F"
          ],
          [
           "F"
          ],
          [
           "F"
          ],
          [
           "F"
          ],
          [
           "F"
          ],
          [
           "F"
          ],
          [
           "F"
          ],
          [
           "F"
          ],
          [
           "F"
          ],
          [
           "F"
          ],
          [
           "F"
          ],
          [
           "F"
          ],
          [
           "F"
          ],
          [
           "F"
          ],
          [
           "F"
          ],
          [
           "F"
          ],
          [
           "F"
          ],
          [
           "F"
          ],
          [
           "F"
          ],
          [
           "F"
          ],
          [
           "F"
          ],
          [
           "F"
          ],
          [
           "F"
          ],
          [
           "F"
          ],
          [
           "F"
          ],
          [
           "F"
          ],
          [
           "F"
          ],
          [
           "F"
          ],
          [
           "F"
          ],
          [
           "F"
          ],
          [
           "F"
          ],
          [
           "F"
          ],
          [
           "F"
          ],
          [
           "F"
          ],
          [
           "F"
          ],
          [
           "F"
          ],
          [
           "F"
          ],
          [
           "F"
          ],
          [
           "F"
          ],
          [
           "F"
          ]
         ],
         "fillpattern": {
          "shape": ""
         },
         "hovertemplate": "<b>Traffic Source:</b> %{fullData.name}<br><b>Gender:</b> %{customdata[0]}<br><b>Date:</b> %{x}<br><b>New Users:</b> %{y:.2f}<extra></extra>",
         "legendgroup": "Organic",
         "line": {
          "color": "#FF7043",
          "shape": "spline"
         },
         "marker": {
          "symbol": "circle"
         },
         "mode": "lines",
         "name": "Organic",
         "orientation": "v",
         "showlegend": true,
         "stackgroup": "1",
         "type": "scatter",
         "x": [
          "2019-01-01T00:00:00",
          "2019-02-01T00:00:00",
          "2019-03-01T00:00:00",
          "2019-04-01T00:00:00",
          "2019-05-01T00:00:00",
          "2019-06-01T00:00:00",
          "2019-07-01T00:00:00",
          "2019-08-01T00:00:00",
          "2019-09-01T00:00:00",
          "2019-10-01T00:00:00",
          "2019-11-01T00:00:00",
          "2019-12-01T00:00:00",
          "2020-01-01T00:00:00",
          "2020-02-01T00:00:00",
          "2020-03-01T00:00:00",
          "2020-04-01T00:00:00",
          "2020-05-01T00:00:00",
          "2020-06-01T00:00:00",
          "2020-07-01T00:00:00",
          "2020-08-01T00:00:00",
          "2020-09-01T00:00:00",
          "2020-10-01T00:00:00",
          "2020-11-01T00:00:00",
          "2020-12-01T00:00:00",
          "2021-01-01T00:00:00",
          "2021-02-01T00:00:00",
          "2021-03-01T00:00:00",
          "2021-04-01T00:00:00",
          "2021-05-01T00:00:00",
          "2021-06-01T00:00:00",
          "2021-07-01T00:00:00",
          "2021-08-01T00:00:00",
          "2021-09-01T00:00:00",
          "2021-10-01T00:00:00",
          "2021-11-01T00:00:00",
          "2021-12-01T00:00:00",
          "2022-01-01T00:00:00",
          "2022-02-01T00:00:00",
          "2022-03-01T00:00:00",
          "2022-04-01T00:00:00",
          "2022-05-01T00:00:00",
          "2022-06-01T00:00:00",
          "2022-07-01T00:00:00",
          "2022-08-01T00:00:00",
          "2022-09-01T00:00:00",
          "2022-10-01T00:00:00",
          "2022-11-01T00:00:00",
          "2022-12-01T00:00:00",
          "2023-01-01T00:00:00",
          "2023-02-01T00:00:00",
          "2023-03-01T00:00:00",
          "2023-04-01T00:00:00",
          "2023-05-01T00:00:00",
          "2023-06-01T00:00:00",
          "2023-07-01T00:00:00",
          "2023-08-01T00:00:00",
          "2023-09-01T00:00:00",
          "2023-10-01T00:00:00",
          "2023-11-01T00:00:00",
          "2023-12-01T00:00:00",
          "2024-01-01T00:00:00"
         ],
         "xaxis": "x",
         "y": [
          33,
          25,
          33,
          45,
          35,
          37,
          32,
          35,
          35,
          32,
          43,
          51,
          41,
          37,
          38,
          37,
          39,
          23,
          23,
          30,
          44,
          38,
          38,
          27,
          34,
          39,
          29,
          36,
          31,
          27,
          32,
          35,
          32,
          31,
          29,
          38,
          27,
          35,
          31,
          26,
          32,
          27,
          36,
          24,
          40,
          41,
          34,
          30,
          38,
          31,
          35,
          24,
          41,
          25,
          34,
          36,
          26,
          28,
          42,
          28,
          17
         ],
         "yaxis": "y"
        },
        {
         "customdata": [
          [
           "M"
          ],
          [
           "M"
          ],
          [
           "M"
          ],
          [
           "M"
          ],
          [
           "M"
          ],
          [
           "M"
          ],
          [
           "M"
          ],
          [
           "M"
          ],
          [
           "M"
          ],
          [
           "M"
          ],
          [
           "M"
          ],
          [
           "M"
          ],
          [
           "M"
          ],
          [
           "M"
          ],
          [
           "M"
          ],
          [
           "M"
          ],
          [
           "M"
          ],
          [
           "M"
          ],
          [
           "M"
          ],
          [
           "M"
          ],
          [
           "M"
          ],
          [
           "M"
          ],
          [
           "M"
          ],
          [
           "M"
          ],
          [
           "M"
          ],
          [
           "M"
          ],
          [
           "M"
          ],
          [
           "M"
          ],
          [
           "M"
          ],
          [
           "M"
          ],
          [
           "M"
          ],
          [
           "M"
          ],
          [
           "M"
          ],
          [
           "M"
          ],
          [
           "M"
          ],
          [
           "M"
          ],
          [
           "M"
          ],
          [
           "M"
          ],
          [
           "M"
          ],
          [
           "M"
          ],
          [
           "M"
          ],
          [
           "M"
          ],
          [
           "M"
          ],
          [
           "M"
          ],
          [
           "M"
          ],
          [
           "M"
          ],
          [
           "M"
          ],
          [
           "M"
          ],
          [
           "M"
          ],
          [
           "M"
          ],
          [
           "M"
          ],
          [
           "M"
          ],
          [
           "M"
          ],
          [
           "M"
          ],
          [
           "M"
          ],
          [
           "M"
          ],
          [
           "M"
          ],
          [
           "M"
          ],
          [
           "M"
          ],
          [
           "M"
          ],
          [
           "M"
          ]
         ],
         "fillpattern": {
          "shape": ""
         },
         "hovertemplate": "<b>Traffic Source:</b> %{fullData.name}<br><b>Gender:</b> %{customdata[0]}<br><b>Date:</b> %{x}<br><b>New Users:</b> %{y:.2f}<extra></extra>",
         "legendgroup": "Organic",
         "line": {
          "color": "#FF7043",
          "shape": "spline"
         },
         "marker": {
          "symbol": "circle"
         },
         "mode": "lines",
         "name": "Organic",
         "orientation": "v",
         "showlegend": false,
         "stackgroup": "1",
         "type": "scatter",
         "x": [
          "2019-01-01T00:00:00",
          "2019-02-01T00:00:00",
          "2019-03-01T00:00:00",
          "2019-04-01T00:00:00",
          "2019-05-01T00:00:00",
          "2019-06-01T00:00:00",
          "2019-07-01T00:00:00",
          "2019-08-01T00:00:00",
          "2019-09-01T00:00:00",
          "2019-10-01T00:00:00",
          "2019-11-01T00:00:00",
          "2019-12-01T00:00:00",
          "2020-01-01T00:00:00",
          "2020-02-01T00:00:00",
          "2020-03-01T00:00:00",
          "2020-04-01T00:00:00",
          "2020-05-01T00:00:00",
          "2020-06-01T00:00:00",
          "2020-07-01T00:00:00",
          "2020-08-01T00:00:00",
          "2020-09-01T00:00:00",
          "2020-10-01T00:00:00",
          "2020-11-01T00:00:00",
          "2020-12-01T00:00:00",
          "2021-01-01T00:00:00",
          "2021-02-01T00:00:00",
          "2021-03-01T00:00:00",
          "2021-04-01T00:00:00",
          "2021-05-01T00:00:00",
          "2021-06-01T00:00:00",
          "2021-07-01T00:00:00",
          "2021-08-01T00:00:00",
          "2021-09-01T00:00:00",
          "2021-10-01T00:00:00",
          "2021-11-01T00:00:00",
          "2021-12-01T00:00:00",
          "2022-01-01T00:00:00",
          "2022-02-01T00:00:00",
          "2022-03-01T00:00:00",
          "2022-04-01T00:00:00",
          "2022-05-01T00:00:00",
          "2022-06-01T00:00:00",
          "2022-07-01T00:00:00",
          "2022-08-01T00:00:00",
          "2022-09-01T00:00:00",
          "2022-10-01T00:00:00",
          "2022-11-01T00:00:00",
          "2022-12-01T00:00:00",
          "2023-01-01T00:00:00",
          "2023-02-01T00:00:00",
          "2023-03-01T00:00:00",
          "2023-04-01T00:00:00",
          "2023-05-01T00:00:00",
          "2023-06-01T00:00:00",
          "2023-07-01T00:00:00",
          "2023-08-01T00:00:00",
          "2023-09-01T00:00:00",
          "2023-10-01T00:00:00",
          "2023-11-01T00:00:00",
          "2023-12-01T00:00:00",
          "2024-01-01T00:00:00"
         ],
         "xaxis": "x",
         "y": [
          41,
          26,
          31,
          31,
          43,
          19,
          39,
          30,
          25,
          38,
          29,
          42,
          36,
          24,
          36,
          38,
          35,
          38,
          36,
          36,
          34,
          41,
          28,
          39,
          42,
          22,
          42,
          31,
          41,
          18,
          37,
          33,
          27,
          29,
          35,
          37,
          32,
          33,
          25,
          37,
          36,
          40,
          28,
          26,
          44,
          33,
          33,
          36,
          35,
          31,
          27,
          43,
          34,
          29,
          35,
          42,
          26,
          24,
          36,
          29,
          15
         ],
         "yaxis": "y"
        },
        {
         "customdata": [
          [
           "F"
          ],
          [
           "F"
          ],
          [
           "F"
          ],
          [
           "F"
          ],
          [
           "F"
          ],
          [
           "F"
          ],
          [
           "F"
          ],
          [
           "F"
          ],
          [
           "F"
          ],
          [
           "F"
          ],
          [
           "F"
          ],
          [
           "F"
          ],
          [
           "F"
          ],
          [
           "F"
          ],
          [
           "F"
          ],
          [
           "F"
          ],
          [
           "F"
          ],
          [
           "F"
          ],
          [
           "F"
          ],
          [
           "F"
          ],
          [
           "F"
          ],
          [
           "F"
          ],
          [
           "F"
          ],
          [
           "F"
          ],
          [
           "F"
          ],
          [
           "F"
          ],
          [
           "F"
          ],
          [
           "F"
          ],
          [
           "F"
          ],
          [
           "F"
          ],
          [
           "F"
          ],
          [
           "F"
          ],
          [
           "F"
          ],
          [
           "F"
          ],
          [
           "F"
          ],
          [
           "F"
          ],
          [
           "F"
          ],
          [
           "F"
          ],
          [
           "F"
          ],
          [
           "F"
          ],
          [
           "F"
          ],
          [
           "F"
          ],
          [
           "F"
          ],
          [
           "F"
          ],
          [
           "F"
          ],
          [
           "F"
          ],
          [
           "F"
          ],
          [
           "F"
          ],
          [
           "F"
          ],
          [
           "F"
          ],
          [
           "F"
          ],
          [
           "F"
          ],
          [
           "F"
          ],
          [
           "F"
          ],
          [
           "F"
          ],
          [
           "F"
          ],
          [
           "F"
          ],
          [
           "F"
          ],
          [
           "F"
          ],
          [
           "F"
          ],
          [
           "F"
          ]
         ],
         "fillpattern": {
          "shape": ""
         },
         "hovertemplate": "<b>Traffic Source:</b> %{fullData.name}<br><b>Gender:</b> %{customdata[0]}<br><b>Date:</b> %{x}<br><b>New Users:</b> %{y:.2f}<extra></extra>",
         "legendgroup": "Search",
         "line": {
          "color": "#E53935",
          "shape": "spline"
         },
         "marker": {
          "symbol": "circle"
         },
         "mode": "lines",
         "name": "Search",
         "orientation": "v",
         "showlegend": true,
         "stackgroup": "1",
         "type": "scatter",
         "x": [
          "2019-01-01T00:00:00",
          "2019-02-01T00:00:00",
          "2019-03-01T00:00:00",
          "2019-04-01T00:00:00",
          "2019-05-01T00:00:00",
          "2019-06-01T00:00:00",
          "2019-07-01T00:00:00",
          "2019-08-01T00:00:00",
          "2019-09-01T00:00:00",
          "2019-10-01T00:00:00",
          "2019-11-01T00:00:00",
          "2019-12-01T00:00:00",
          "2020-01-01T00:00:00",
          "2020-02-01T00:00:00",
          "2020-03-01T00:00:00",
          "2020-04-01T00:00:00",
          "2020-05-01T00:00:00",
          "2020-06-01T00:00:00",
          "2020-07-01T00:00:00",
          "2020-08-01T00:00:00",
          "2020-09-01T00:00:00",
          "2020-10-01T00:00:00",
          "2020-11-01T00:00:00",
          "2020-12-01T00:00:00",
          "2021-01-01T00:00:00",
          "2021-02-01T00:00:00",
          "2021-03-01T00:00:00",
          "2021-04-01T00:00:00",
          "2021-05-01T00:00:00",
          "2021-06-01T00:00:00",
          "2021-07-01T00:00:00",
          "2021-08-01T00:00:00",
          "2021-09-01T00:00:00",
          "2021-10-01T00:00:00",
          "2021-11-01T00:00:00",
          "2021-12-01T00:00:00",
          "2022-01-01T00:00:00",
          "2022-02-01T00:00:00",
          "2022-03-01T00:00:00",
          "2022-04-01T00:00:00",
          "2022-05-01T00:00:00",
          "2022-06-01T00:00:00",
          "2022-07-01T00:00:00",
          "2022-08-01T00:00:00",
          "2022-09-01T00:00:00",
          "2022-10-01T00:00:00",
          "2022-11-01T00:00:00",
          "2022-12-01T00:00:00",
          "2023-01-01T00:00:00",
          "2023-02-01T00:00:00",
          "2023-03-01T00:00:00",
          "2023-04-01T00:00:00",
          "2023-05-01T00:00:00",
          "2023-06-01T00:00:00",
          "2023-07-01T00:00:00",
          "2023-08-01T00:00:00",
          "2023-09-01T00:00:00",
          "2023-10-01T00:00:00",
          "2023-11-01T00:00:00",
          "2023-12-01T00:00:00",
          "2024-01-01T00:00:00"
         ],
         "xaxis": "x",
         "y": [
          144,
          140,
          141,
          150,
          165,
          156,
          169,
          170,
          154,
          164,
          146,
          137,
          174,
          157,
          154,
          146,
          170,
          160,
          145,
          171,
          156,
          173,
          140,
          193,
          150,
          137,
          174,
          137,
          154,
          177,
          154,
          142,
          165,
          159,
          171,
          157,
          161,
          142,
          160,
          139,
          159,
          170,
          183,
          184,
          151,
          155,
          150,
          149,
          176,
          165,
          147,
          147,
          169,
          141,
          157,
          154,
          158,
          160,
          132,
          144,
          82
         ],
         "yaxis": "y"
        },
        {
         "customdata": [
          [
           "M"
          ],
          [
           "M"
          ],
          [
           "M"
          ],
          [
           "M"
          ],
          [
           "M"
          ],
          [
           "M"
          ],
          [
           "M"
          ],
          [
           "M"
          ],
          [
           "M"
          ],
          [
           "M"
          ],
          [
           "M"
          ],
          [
           "M"
          ],
          [
           "M"
          ],
          [
           "M"
          ],
          [
           "M"
          ],
          [
           "M"
          ],
          [
           "M"
          ],
          [
           "M"
          ],
          [
           "M"
          ],
          [
           "M"
          ],
          [
           "M"
          ],
          [
           "M"
          ],
          [
           "M"
          ],
          [
           "M"
          ],
          [
           "M"
          ],
          [
           "M"
          ],
          [
           "M"
          ],
          [
           "M"
          ],
          [
           "M"
          ],
          [
           "M"
          ],
          [
           "M"
          ],
          [
           "M"
          ],
          [
           "M"
          ],
          [
           "M"
          ],
          [
           "M"
          ],
          [
           "M"
          ],
          [
           "M"
          ],
          [
           "M"
          ],
          [
           "M"
          ],
          [
           "M"
          ],
          [
           "M"
          ],
          [
           "M"
          ],
          [
           "M"
          ],
          [
           "M"
          ],
          [
           "M"
          ],
          [
           "M"
          ],
          [
           "M"
          ],
          [
           "M"
          ],
          [
           "M"
          ],
          [
           "M"
          ],
          [
           "M"
          ],
          [
           "M"
          ],
          [
           "M"
          ],
          [
           "M"
          ],
          [
           "M"
          ],
          [
           "M"
          ],
          [
           "M"
          ],
          [
           "M"
          ],
          [
           "M"
          ],
          [
           "M"
          ],
          [
           "M"
          ]
         ],
         "fillpattern": {
          "shape": ""
         },
         "hovertemplate": "<b>Traffic Source:</b> %{fullData.name}<br><b>Gender:</b> %{customdata[0]}<br><b>Date:</b> %{x}<br><b>New Users:</b> %{y:.2f}<extra></extra>",
         "legendgroup": "Search",
         "line": {
          "color": "#E53935",
          "shape": "spline"
         },
         "marker": {
          "symbol": "circle"
         },
         "mode": "lines",
         "name": "Search",
         "orientation": "v",
         "showlegend": false,
         "stackgroup": "1",
         "type": "scatter",
         "x": [
          "2019-01-01T00:00:00",
          "2019-02-01T00:00:00",
          "2019-03-01T00:00:00",
          "2019-04-01T00:00:00",
          "2019-05-01T00:00:00",
          "2019-06-01T00:00:00",
          "2019-07-01T00:00:00",
          "2019-08-01T00:00:00",
          "2019-09-01T00:00:00",
          "2019-10-01T00:00:00",
          "2019-11-01T00:00:00",
          "2019-12-01T00:00:00",
          "2020-01-01T00:00:00",
          "2020-02-01T00:00:00",
          "2020-03-01T00:00:00",
          "2020-04-01T00:00:00",
          "2020-05-01T00:00:00",
          "2020-06-01T00:00:00",
          "2020-07-01T00:00:00",
          "2020-08-01T00:00:00",
          "2020-09-01T00:00:00",
          "2020-10-01T00:00:00",
          "2020-11-01T00:00:00",
          "2020-12-01T00:00:00",
          "2021-01-01T00:00:00",
          "2021-02-01T00:00:00",
          "2021-03-01T00:00:00",
          "2021-04-01T00:00:00",
          "2021-05-01T00:00:00",
          "2021-06-01T00:00:00",
          "2021-07-01T00:00:00",
          "2021-08-01T00:00:00",
          "2021-09-01T00:00:00",
          "2021-10-01T00:00:00",
          "2021-11-01T00:00:00",
          "2021-12-01T00:00:00",
          "2022-01-01T00:00:00",
          "2022-02-01T00:00:00",
          "2022-03-01T00:00:00",
          "2022-04-01T00:00:00",
          "2022-05-01T00:00:00",
          "2022-06-01T00:00:00",
          "2022-07-01T00:00:00",
          "2022-08-01T00:00:00",
          "2022-09-01T00:00:00",
          "2022-10-01T00:00:00",
          "2022-11-01T00:00:00",
          "2022-12-01T00:00:00",
          "2023-01-01T00:00:00",
          "2023-02-01T00:00:00",
          "2023-03-01T00:00:00",
          "2023-04-01T00:00:00",
          "2023-05-01T00:00:00",
          "2023-06-01T00:00:00",
          "2023-07-01T00:00:00",
          "2023-08-01T00:00:00",
          "2023-09-01T00:00:00",
          "2023-10-01T00:00:00",
          "2023-11-01T00:00:00",
          "2023-12-01T00:00:00",
          "2024-01-01T00:00:00"
         ],
         "xaxis": "x",
         "y": [
          147,
          157,
          130,
          152,
          170,
          145,
          136,
          150,
          137,
          150,
          163,
          168,
          171,
          172,
          168,
          167,
          159,
          137,
          150,
          154,
          167,
          167,
          175,
          160,
          173,
          157,
          169,
          150,
          175,
          156,
          160,
          189,
          163,
          176,
          167,
          161,
          160,
          138,
          148,
          149,
          175,
          155,
          129,
          153,
          146,
          183,
          158,
          152,
          167,
          141,
          150,
          160,
          148,
          145,
          141,
          169,
          158,
          158,
          139,
          161,
          74
         ],
         "yaxis": "y"
        }
       ],
       "layout": {
        "height": 700,
        "legend": {
         "orientation": "h",
         "title": {
          "text": "traffic_source"
         },
         "tracegroupgap": 0,
         "x": 0.5,
         "xanchor": "center",
         "y": -0.3,
         "yanchor": "bottom"
        },
        "template": {
         "layout": {
          "font": {
           "color": "#2D494C",
           "family": "Lato",
           "size": 14
          },
          "hoverlabel": {
           "bgcolor": "#E5F2F2",
           "bordercolor": "#2D494C",
           "font": {
            "color": "#2D494C",
            "size": 14
           }
          },
          "legend": {
           "font": {
            "size": 12
           },
           "title": {
            "font": {
             "color": "#2D494C",
             "size": 16
            },
            "text": "<b>Legend Title</b>"
           }
          },
          "paper_bgcolor": "#FDFDFD",
          "plot_bgcolor": "#FDFDFD",
          "title": {
           "font": {
            "size": 24
           },
           "text": "<b>Your Chart Title</b>",
           "x": 0.5
          },
          "xaxis": {
           "showgrid": false,
           "tickfont": {
            "size": 12
           },
           "title": {
            "font": {
             "size": 16
            },
            "text": "<b>X Axis Title</b>"
           }
          },
          "yaxis": {
           "showgrid": false,
           "tickfont": {
            "size": 12
           },
           "title": {
            "font": {
             "size": 16
            },
            "text": "<b>Y Axis Title</b>"
           }
          }
         }
        },
        "title": {
         "text": "Seasonality of customer acquisition by traffic and gender"
        },
        "xaxis": {
         "anchor": "y",
         "domain": [
          0,
          1
         ],
         "title": {
          "text": "Date"
         }
        },
        "yaxis": {
         "anchor": "x",
         "domain": [
          0,
          1
         ],
         "title": {
          "text": "New Customers Acquired"
         }
        }
       }
      }
     },
     "metadata": {},
     "output_type": "display_data"
    }
   ],
   "source": [
    "# Aggregate new customer acquisition by month, traffic source, and gender\n",
    "seasonality_data = product_performance.groupby([product_performance['created_at_y'].dt.to_period('M'), 'traffic_source', 'gender']).agg({\n",
    "    'user_id': 'nunique'  # Number of unique users acquired\n",
    "}).reset_index()\n",
    "\n",
    "seasonality_data['created_at_y'] = seasonality_data['created_at_y'].dt.to_timestamp()\n",
    "\n",
    "seasonality_data.columns = ['date', 'traffic_source', 'gender', 'new_users_acquired']\n",
    "\n",
    "# Plot the seasonality of customer acquisition\n",
    "fig8 = px.area(\n",
    "    seasonality_data,\n",
    "    x='date',  \n",
    "    y='new_users_acquired',  \n",
    "    color='traffic_source',  \n",
    "    line_group='gender',\n",
    "    title='Seasonality of customer acquisition by traffic and gender',\n",
    "    labels={'new_users_acquired': 'New Customers Acquired', 'date': 'Date', 'gender': 'Gender'},\n",
    "    color_discrete_sequence=colors_campaign, \n",
    "    custom_data=['gender'] \n",
    ")\n",
    "\n",
    "# Customize layout for clarity\n",
    "fig8.update_layout(\n",
    "    xaxis_title='Date',\n",
    "    yaxis_title='New Customers Acquired',\n",
    "    legend=dict(\n",
    "        orientation='h',\n",
    "        yanchor='bottom',\n",
    "        y=-0.3,\n",
    "        xanchor='center',\n",
    "        x=0.5\n",
    "    ),\n",
    "    height=700\n",
    ")\n",
    "\n",
    "fig8.update_traces(\n",
    "    mode='lines', \n",
    "    line_shape='spline',\n",
    "    hovertemplate=(\n",
    "        '<b>Traffic Source:</b> %{fullData.name}<br>'\n",
    "        '<b>Gender:</b> %{customdata[0]}<br>'\n",
    "        '<b>Date:</b> %{x}<br>'\n",
    "        '<b>New Users:</b> %{y:.2f}<extra></extra>'\n",
    "    )\n",
    ")\n",
    "\n",
    "fig8.show()\n"
   ]
  },
  {
   "cell_type": "markdown",
   "metadata": {},
   "source": [
    "## Time Series Forecasting: Sales predictions\n",
    "\n",
    "Predicted future revenue using time series forecasting with two distinct scenarios: **Best-Case** Scenario and **Worst-Case** Scenario, both utilizing the `Prophet` model for future sales predictions.\n",
    "\n",
    "\n",
    "\n",
    "**Insights**\n",
    "\n",
    "1. **Best-Case Scenario**\n",
    "    In the best-case scenario, the model assumes continuous revenue growth based on historical trends with no external disruptions. The forecast shows steady increases in revenue over time, indicating a favorable market outlook.\n",
    "\n",
    "    The best-case scenario projects significant revenue growth, with revenues expected to surpass $500,000 by 2028.\n",
    "\n",
    "    <br>\n",
    "\n",
    "2. **Worst-Case Scenario**\n",
    "    For the worst-case scenario, I introduced real-world variables, including a temporary dip in revenue starting in January 2024 to simulate the effects of an economic downturn. A slow recovery was modeled, with random fluctuations added to account for market volatility.\n",
    "\n",
    "    Here revenues drop by 30% starting in 2024 due to an economic downturn, but recover slowly. By 2028, revenues are projected to return to previous levels but grow more slowly.\n",
    "\n",
    "\n"
   ]
  },
  {
   "cell_type": "markdown",
   "metadata": {},
   "source": [
    "### Best-Case Scenario Forecast"
   ]
  },
  {
   "cell_type": "code",
   "execution_count": 1055,
   "metadata": {},
   "outputs": [],
   "source": [
    "# Ensure 'created_at_x' is in datetime format without timezone\n",
    "product_performance['created_at_x'] = pd.to_datetime(product_performance['created_at_x']).dt.tz_localize(None)\n",
    "\n",
    "# Group by month and sum revenue\n",
    "sales_data = product_performance.groupby(product_performance['created_at_x'].dt.to_period('M')).agg({\n",
    "    'revenue': 'sum'\n",
    "}).reset_index()\n",
    "\n",
    "# Convert back to timestamp for Prophet compatibility\n",
    "sales_data['created_at_x'] = sales_data['created_at_x'].dt.to_timestamp()\n",
    "\n",
    "# Rename columns to be compatible with Prophet\n",
    "sales_data.columns = ['ds', 'y']  # Prophet requires 'ds' for date and 'y' for the value\n"
   ]
  },
  {
   "cell_type": "code",
   "execution_count": 1056,
   "metadata": {},
   "outputs": [
    {
     "name": "stderr",
     "output_type": "stream",
     "text": [
      "INFO:prophet:Disabling weekly seasonality. Run prophet with weekly_seasonality=True to override this.\n",
      "INFO:cmdstanpy:start chain 1\n",
      "INFO:cmdstanpy:finish chain 1\n"
     ]
    },
    {
     "name": "stdout",
     "output_type": "stream",
     "text": [
      "                     yhat\n",
      "ds                       \n",
      "2019-01-01   -1496.012356\n",
      "2019-02-01   -3340.782346\n",
      "2019-03-01     466.366858\n",
      "2019-04-01   -2177.972102\n",
      "2019-05-01    3335.279269\n",
      "...                   ...\n",
      "2026-12-01  379386.147344\n",
      "2027-01-01  377315.188915\n",
      "2027-02-01  380949.031270\n",
      "2027-03-01  389704.604527\n",
      "2027-04-01  392538.877879\n",
      "\n",
      "[100 rows x 1 columns]\n"
     ]
    }
   ],
   "source": [
    "# Initialize and fit the Prophet model\n",
    "prophet_model = Prophet(yearly_seasonality=True, daily_seasonality=False)\n",
    "prophet_model.fit(sales_data)\n",
    "\n",
    "# Forecast for the next 60 months (5 years)\n",
    "future = prophet_model.make_future_dataframe(periods=60, freq='MS')\n",
    "prophet_forecast = prophet_model.predict(future)\n",
    "\n",
    "# Extract forecasted revenue\n",
    "prophet_forecast_df = prophet_forecast[['ds', 'yhat']].set_index('ds')\n",
    "\n",
    "# Preview the forecast\n",
    "print(prophet_forecast_df.head(100))"
   ]
  },
  {
   "cell_type": "code",
   "execution_count": 1057,
   "metadata": {},
   "outputs": [],
   "source": [
    "# Save data\n",
    "best_case = pd.concat([sales_data.set_index('ds'), prophet_forecast_df[['yhat']]], axis=1)\n",
    "\n",
    "# Rename columns to match your project\n",
    "best_case.columns = ['actual_revenue', 'forecasted_revenue']\n",
    "\n",
    "# Reset index to get 'ds' (date) as a column\n",
    "best_case.reset_index(inplace=True)\n",
    "\n",
    "# Save the combined data to CSV for Power BI\n",
    "best_case.to_csv(os.path.join(outdir, 'best_case.csv'), index=False)\n"
   ]
  },
  {
   "cell_type": "code",
   "execution_count": 1058,
   "metadata": {},
   "outputs": [
    {
     "data": {
      "application/vnd.plotly.v1+json": {
       "config": {
        "plotlyServerURL": "https://plot.ly"
       },
       "data": [
        {
         "fill": "tozeroy",
         "fillcolor": "#8CCB8C",
         "hovertemplate": "<b>Date:</b> %{x}<br><b>Revenue:</b> $%{y:.2f}<extra></extra>",
         "line": {
          "shape": "spline"
         },
         "mode": "lines",
         "name": "Actual Revenue ($)",
         "opacity": 0.6,
         "type": "scatter",
         "x": [
          "2019-01-01T00:00:00",
          "2019-02-01T00:00:00",
          "2019-03-01T00:00:00",
          "2019-04-01T00:00:00",
          "2019-05-01T00:00:00",
          "2019-06-01T00:00:00",
          "2019-07-01T00:00:00",
          "2019-08-01T00:00:00",
          "2019-09-01T00:00:00",
          "2019-10-01T00:00:00",
          "2019-11-01T00:00:00",
          "2019-12-01T00:00:00",
          "2020-01-01T00:00:00",
          "2020-02-01T00:00:00",
          "2020-03-01T00:00:00",
          "2020-04-01T00:00:00",
          "2020-05-01T00:00:00",
          "2020-06-01T00:00:00",
          "2020-07-01T00:00:00",
          "2020-08-01T00:00:00",
          "2020-09-01T00:00:00",
          "2020-10-01T00:00:00",
          "2020-11-01T00:00:00",
          "2020-12-01T00:00:00",
          "2021-01-01T00:00:00",
          "2021-02-01T00:00:00",
          "2021-03-01T00:00:00",
          "2021-04-01T00:00:00",
          "2021-05-01T00:00:00",
          "2021-06-01T00:00:00",
          "2021-07-01T00:00:00",
          "2021-08-01T00:00:00",
          "2021-09-01T00:00:00",
          "2021-10-01T00:00:00",
          "2021-11-01T00:00:00",
          "2021-12-01T00:00:00",
          "2022-01-01T00:00:00",
          "2022-02-01T00:00:00",
          "2022-03-01T00:00:00",
          "2022-04-01T00:00:00",
          "2022-05-01T00:00:00",
          "2022-06-01T00:00:00",
          "2022-07-01T00:00:00",
          "2022-08-01T00:00:00",
          "2022-09-01T00:00:00",
          "2022-10-01T00:00:00",
          "2022-11-01T00:00:00",
          "2022-12-01T00:00:00",
          "2023-01-01T00:00:00",
          "2023-02-01T00:00:00",
          "2023-03-01T00:00:00",
          "2023-04-01T00:00:00",
          "2023-05-01T00:00:00",
          "2023-06-01T00:00:00",
          "2023-07-01T00:00:00",
          "2023-08-01T00:00:00",
          "2023-09-01T00:00:00",
          "2023-10-01T00:00:00",
          "2023-11-01T00:00:00",
          "2023-12-01T00:00:00",
          "2024-01-01T00:00:00"
         ],
         "y": [
          511.51000213623047,
          463.1200017929077,
          1173.6000022888184,
          1861.3700065612793,
          3314.3499891757965,
          3952.0099906921387,
          4770.089999437332,
          4592.579999923706,
          8164.479997634888,
          8379.66000199318,
          5784.050022602081,
          10248.740019083023,
          10273.010002613068,
          10552.139996051788,
          14202.430023670197,
          14881.319977283478,
          15955.010010004044,
          15198.730029582977,
          15976.160036802292,
          15797.160032749176,
          18273.47000026703,
          18924.740015029907,
          18672.719992160797,
          19050.120033979416,
          27627.780010700226,
          23648.640009880066,
          26113.280064582825,
          24624.400020599365,
          30176.230063199997,
          28840.02005815506,
          27251.770005702972,
          29983.17000055313,
          30882.190045118332,
          35330.030009031296,
          37733.41996097565,
          38651.48005390167,
          41432.36010813713,
          32364.93000769615,
          40945.88006591797,
          43342.71005153656,
          53808.68007564545,
          53857.66008758545,
          51857.6800236702,
          55463.780044555664,
          51208.71013402939,
          72386.13998031616,
          66137.72016692162,
          66447.24012327194,
          72943.29009747505,
          71368.64007759094,
          81091.82999517396,
          77404.38005316257,
          88508.12016558647,
          97194.22011387348,
          108744.1701669693,
          111661.90014863014,
          115824.84018015862,
          132233.71016085148,
          145595.12021243572,
          175997.6001570411,
          139637.3400874138
         ]
        },
        {
         "fill": "tozeroy",
         "fillcolor": "rgba(0, 255, 0, 0.3)",
         "hovertemplate": "<b>Date:</b> %{x}<br><b>Revenue:</b> $%{y:.2f}<extra></extra>",
         "line": {
          "color": "#B7E0B1",
          "dash": "dash",
          "shape": "spline"
         },
         "mode": "lines",
         "name": "Forecasted Revenue ($)",
         "opacity": 0.6,
         "type": "scatter",
         "x": [
          "2019-01-01T00:00:00",
          "2019-02-01T00:00:00",
          "2019-03-01T00:00:00",
          "2019-04-01T00:00:00",
          "2019-05-01T00:00:00",
          "2019-06-01T00:00:00",
          "2019-07-01T00:00:00",
          "2019-08-01T00:00:00",
          "2019-09-01T00:00:00",
          "2019-10-01T00:00:00",
          "2019-11-01T00:00:00",
          "2019-12-01T00:00:00",
          "2020-01-01T00:00:00",
          "2020-02-01T00:00:00",
          "2020-03-01T00:00:00",
          "2020-04-01T00:00:00",
          "2020-05-01T00:00:00",
          "2020-06-01T00:00:00",
          "2020-07-01T00:00:00",
          "2020-08-01T00:00:00",
          "2020-09-01T00:00:00",
          "2020-10-01T00:00:00",
          "2020-11-01T00:00:00",
          "2020-12-01T00:00:00",
          "2021-01-01T00:00:00",
          "2021-02-01T00:00:00",
          "2021-03-01T00:00:00",
          "2021-04-01T00:00:00",
          "2021-05-01T00:00:00",
          "2021-06-01T00:00:00",
          "2021-07-01T00:00:00",
          "2021-08-01T00:00:00",
          "2021-09-01T00:00:00",
          "2021-10-01T00:00:00",
          "2021-11-01T00:00:00",
          "2021-12-01T00:00:00",
          "2022-01-01T00:00:00",
          "2022-02-01T00:00:00",
          "2022-03-01T00:00:00",
          "2022-04-01T00:00:00",
          "2022-05-01T00:00:00",
          "2022-06-01T00:00:00",
          "2022-07-01T00:00:00",
          "2022-08-01T00:00:00",
          "2022-09-01T00:00:00",
          "2022-10-01T00:00:00",
          "2022-11-01T00:00:00",
          "2022-12-01T00:00:00",
          "2023-01-01T00:00:00",
          "2023-02-01T00:00:00",
          "2023-03-01T00:00:00",
          "2023-04-01T00:00:00",
          "2023-05-01T00:00:00",
          "2023-06-01T00:00:00",
          "2023-07-01T00:00:00",
          "2023-08-01T00:00:00",
          "2023-09-01T00:00:00",
          "2023-10-01T00:00:00",
          "2023-11-01T00:00:00",
          "2023-12-01T00:00:00",
          "2024-01-01T00:00:00",
          "2024-02-01T00:00:00",
          "2024-03-01T00:00:00",
          "2024-04-01T00:00:00",
          "2024-05-01T00:00:00",
          "2024-06-01T00:00:00",
          "2024-07-01T00:00:00",
          "2024-08-01T00:00:00",
          "2024-09-01T00:00:00",
          "2024-10-01T00:00:00",
          "2024-11-01T00:00:00",
          "2024-12-01T00:00:00",
          "2025-01-01T00:00:00",
          "2025-02-01T00:00:00",
          "2025-03-01T00:00:00",
          "2025-04-01T00:00:00",
          "2025-05-01T00:00:00",
          "2025-06-01T00:00:00",
          "2025-07-01T00:00:00",
          "2025-08-01T00:00:00",
          "2025-09-01T00:00:00",
          "2025-10-01T00:00:00",
          "2025-11-01T00:00:00",
          "2025-12-01T00:00:00",
          "2026-01-01T00:00:00",
          "2026-02-01T00:00:00",
          "2026-03-01T00:00:00",
          "2026-04-01T00:00:00",
          "2026-05-01T00:00:00",
          "2026-06-01T00:00:00",
          "2026-07-01T00:00:00",
          "2026-08-01T00:00:00",
          "2026-09-01T00:00:00",
          "2026-10-01T00:00:00",
          "2026-11-01T00:00:00",
          "2026-12-01T00:00:00",
          "2027-01-01T00:00:00",
          "2027-02-01T00:00:00",
          "2027-03-01T00:00:00",
          "2027-04-01T00:00:00",
          "2027-05-01T00:00:00",
          "2027-06-01T00:00:00",
          "2027-07-01T00:00:00",
          "2027-08-01T00:00:00",
          "2027-09-01T00:00:00",
          "2027-10-01T00:00:00",
          "2027-11-01T00:00:00",
          "2027-12-01T00:00:00",
          "2028-01-01T00:00:00",
          "2028-02-01T00:00:00",
          "2028-03-01T00:00:00",
          "2028-04-01T00:00:00",
          "2028-05-01T00:00:00",
          "2028-06-01T00:00:00",
          "2028-07-01T00:00:00",
          "2028-08-01T00:00:00",
          "2028-09-01T00:00:00",
          "2028-10-01T00:00:00",
          "2028-11-01T00:00:00",
          "2028-12-01T00:00:00",
          "2029-01-01T00:00:00"
         ],
         "y": [
          -1496.0123561042462,
          -3340.7823455838598,
          466.3668579873338,
          -2177.9721019969843,
          3335.279268868718,
          4169.699096474002,
          5249.564343234552,
          3733.2369744557686,
          2042.9095913139354,
          10775.520714729788,
          10988.191837639644,
          23131.13839113818,
          6565.44384059812,
          9106.80399723487,
          12128.065986976744,
          11923.922341290512,
          15148.448893813253,
          14047.944135095418,
          13804.961765495798,
          17024.599794904458,
          19546.58076047506,
          24561.668624100825,
          24119.880377267957,
          20028.02743151801,
          30466.898613200774,
          20270.933195101985,
          24592.47644913456,
          23690.108775318942,
          27784.210704520923,
          27468.16278271112,
          27834.13661479702,
          29626.150603076898,
          30827.319716123693,
          37158.9171310173,
          37029.32483599358,
          39782.815338105545,
          42590.91498635399,
          37814.69786176139,
          43064.3750237473,
          42578.338223925864,
          48627.28359098035,
          50185.769008446245,
          52183.17457343036,
          53625.90996958372,
          54654.44068088567,
          63417.41997126791,
          64740.30981853452,
          72915.63907259841,
          70844.68064372508,
          74478.52299887197,
          83234.09625564689,
          86068.3696081808,
          96883.5038621501,
          103196.53598375131,
          109578.28409566083,
          113540.56904114953,
          117328.85397227209,
          131363.34798193906,
          137054.6314139736,
          154499.4608472776,
          143411.91025689105,
          151431.41437357393,
          159577.2600220271,
          164851.11959773029,
          173376.93674051843,
          177754.43225841346,
          182812.517014365,
          191509.92440685548,
          199507.93795246785,
          209822.41218381267,
          214855.81809419996,
          216062.5401392817,
          231976.04262749068,
          227133.19973417808,
          236289.82139768326,
          240738.59845469886,
          250011.22754276532,
          255044.21652697722,
          260586.67768743853,
          267727.7200981247,
          274277.91763354227,
          285785.4462890243,
          291004.3162759606,
          297748.7122495756,
          304680.7475517539,
          304026.3333041063,
          312998.9291937205,
          316634.2751556259,
          326670.34096535423,
          332348.8508401916,
          338332.58943588234,
          343894.53563042026,
          349040.90271299885,
          361788.884943334,
          367227.6820410035,
          379386.14734386,
          377315.1889149742,
          380949.0312701039,
          389704.60452688177,
          392538.8778794217,
          403354.0121333737,
          409667.04425498366,
          416048.7923668785,
          420011.07731235406,
          423799.3622434844,
          437833.85625317064,
          443525.1396852205,
          460969.9691185352,
          449882.41852809367,
          457901.9226447925,
          466047.7682932503,
          471321.62786896393,
          479847.44501175516,
          484224.9405296335,
          489283.0252855934,
          497980.4326780833,
          505978.4462236819,
          516292.9204550505,
          521326.3263654359,
          522533.04841051885,
          538446.5508987058
         ]
        }
       ],
       "layout": {
        "height": 600,
        "legend": {
         "orientation": "h",
         "x": 0.5,
         "xanchor": "center",
         "y": -0.3,
         "yanchor": "bottom"
        },
        "plot_bgcolor": "white",
        "template": {
         "layout": {
          "font": {
           "color": "#2D494C",
           "family": "Lato",
           "size": 14
          },
          "hoverlabel": {
           "bgcolor": "#E5F2F2",
           "bordercolor": "#2D494C",
           "font": {
            "color": "#2D494C",
            "size": 14
           }
          },
          "legend": {
           "font": {
            "size": 12
           },
           "title": {
            "font": {
             "color": "#2D494C",
             "size": 16
            },
            "text": "<b>Legend Title</b>"
           }
          },
          "paper_bgcolor": "#FDFDFD",
          "plot_bgcolor": "#FDFDFD",
          "title": {
           "font": {
            "size": 24
           },
           "text": "<b>Your Chart Title</b>",
           "x": 0.5
          },
          "xaxis": {
           "showgrid": false,
           "tickfont": {
            "size": 12
           },
           "title": {
            "font": {
             "size": 16
            },
            "text": "<b>X Axis Title</b>"
           }
          },
          "yaxis": {
           "showgrid": false,
           "tickfont": {
            "size": 12
           },
           "title": {
            "font": {
             "size": 16
            },
            "text": "<b>Y Axis Title</b>"
           }
          }
         }
        },
        "title": {
         "text": "Best-Case Revenue Forecast"
        },
        "xaxis": {
         "title": {
          "text": "Date"
         }
        },
        "yaxis": {
         "title": {
          "text": "Revenue ($)"
         }
        }
       }
      }
     },
     "metadata": {},
     "output_type": "display_data"
    }
   ],
   "source": [
    "fig9 = go.Figure()\n",
    "\n",
    "fig9.add_trace(go.Scatter(\n",
    "    x=sales_data['ds'], \n",
    "    y=sales_data['y'], \n",
    "    mode='lines', \n",
    "    name='Actual Revenue ($)',\n",
    "    line_shape='spline',  \n",
    "    fill='tozeroy',  \n",
    "    fillcolor='#8CCB8C',  \n",
    "    opacity=0.6 \n",
    "))\n",
    "\n",
    "fig9.add_trace(go.Scatter(\n",
    "    x=prophet_forecast_df.index, \n",
    "    y=prophet_forecast_df['yhat'], \n",
    "    mode='lines', \n",
    "    name='Forecasted Revenue ($)',\n",
    "    line_shape='spline',  \n",
    "    fill='tozeroy',  \n",
    "    fillcolor='rgba(0, 255, 0, 0.3)', \n",
    "    line=dict(dash='dash', color='#B7E0B1'),  \n",
    "    opacity=0.6  \n",
    "))\n",
    "\n",
    "fig9.update_layout(\n",
    "    title='Best-Case Revenue Forecast',\n",
    "    xaxis_title='Date',\n",
    "    yaxis_title='Revenue ($)',\n",
    "    legend=dict(orientation='h', yanchor='bottom', y=-0.3, xanchor='center', x=0.5),\n",
    "    height=600,\n",
    "    plot_bgcolor='white'\n",
    ")\n",
    "\n",
    "fig9.update_traces(\n",
    "    hovertemplate='<b>Date:</b> %{x}<br><b>Revenue:</b> $%{y:.2f}<extra></extra>'\n",
    ")\n",
    "\n",
    "fig9.show()\n"
   ]
  },
  {
   "cell_type": "markdown",
   "metadata": {},
   "source": [
    "### Worst-Case Scenario Forecast"
   ]
  },
  {
   "cell_type": "code",
   "execution_count": 1068,
   "metadata": {},
   "outputs": [],
   "source": [
    "worst_case_forecast = prophet_forecast_df.copy()\n",
    "\n",
    "# Apply dips and recoveries starting from January 1st, 2024\n",
    "dip_start = '2024-01-01'\n",
    "recovery_start = '2024-08-01'  # Setting recovery starts in August 2024\n",
    "\n",
    "# Introducing a realistic dip in revenue starting from January 2024\n",
    "worst_case_forecast.loc[dip_start:recovery_start, 'yhat'] *= 0.7  # 70% dip in revenue\n",
    "worst_case_forecast.loc[recovery_start:, 'yhat'] *= 0.9  # Then a slow recovery after the dip (10% reduced)\n",
    "\n",
    "# Adding fluctuations to better mimic real world scenario\n",
    "np.random.seed(24)  # \n",
    "fluctuations = np.random.uniform(0.95, 1.05, size=len(worst_case_forecast))  # Add random fluctuations\n",
    "worst_case_forecast['yhat'] *= fluctuations\n"
   ]
  },
  {
   "cell_type": "code",
   "execution_count": 1067,
   "metadata": {},
   "outputs": [
    {
     "data": {
      "application/vnd.plotly.v1+json": {
       "config": {
        "plotlyServerURL": "https://plot.ly"
       },
       "data": [
        {
         "fill": "tozeroy",
         "fillcolor": "#8CCB8C",
         "hovertemplate": "<b>Date:</b> %{x}<br><b>Revenue:</b> $%{y:.2f}<extra></extra>",
         "line": {
          "shape": "spline"
         },
         "mode": "lines",
         "name": "Actual Revenue ($)",
         "type": "scatter",
         "x": [
          "2019-01-01T00:00:00",
          "2019-02-01T00:00:00",
          "2019-03-01T00:00:00",
          "2019-04-01T00:00:00",
          "2019-05-01T00:00:00",
          "2019-06-01T00:00:00",
          "2019-07-01T00:00:00",
          "2019-08-01T00:00:00",
          "2019-09-01T00:00:00",
          "2019-10-01T00:00:00",
          "2019-11-01T00:00:00",
          "2019-12-01T00:00:00",
          "2020-01-01T00:00:00",
          "2020-02-01T00:00:00",
          "2020-03-01T00:00:00",
          "2020-04-01T00:00:00",
          "2020-05-01T00:00:00",
          "2020-06-01T00:00:00",
          "2020-07-01T00:00:00",
          "2020-08-01T00:00:00",
          "2020-09-01T00:00:00",
          "2020-10-01T00:00:00",
          "2020-11-01T00:00:00",
          "2020-12-01T00:00:00",
          "2021-01-01T00:00:00",
          "2021-02-01T00:00:00",
          "2021-03-01T00:00:00",
          "2021-04-01T00:00:00",
          "2021-05-01T00:00:00",
          "2021-06-01T00:00:00",
          "2021-07-01T00:00:00",
          "2021-08-01T00:00:00",
          "2021-09-01T00:00:00",
          "2021-10-01T00:00:00",
          "2021-11-01T00:00:00",
          "2021-12-01T00:00:00",
          "2022-01-01T00:00:00",
          "2022-02-01T00:00:00",
          "2022-03-01T00:00:00",
          "2022-04-01T00:00:00",
          "2022-05-01T00:00:00",
          "2022-06-01T00:00:00",
          "2022-07-01T00:00:00",
          "2022-08-01T00:00:00",
          "2022-09-01T00:00:00",
          "2022-10-01T00:00:00",
          "2022-11-01T00:00:00",
          "2022-12-01T00:00:00",
          "2023-01-01T00:00:00",
          "2023-02-01T00:00:00",
          "2023-03-01T00:00:00",
          "2023-04-01T00:00:00",
          "2023-05-01T00:00:00",
          "2023-06-01T00:00:00",
          "2023-07-01T00:00:00",
          "2023-08-01T00:00:00",
          "2023-09-01T00:00:00",
          "2023-10-01T00:00:00",
          "2023-11-01T00:00:00",
          "2023-12-01T00:00:00",
          "2024-01-01T00:00:00"
         ],
         "y": [
          511.51000213623047,
          463.1200017929077,
          1173.6000022888184,
          1861.3700065612793,
          3314.3499891757965,
          3952.0099906921387,
          4770.089999437332,
          4592.579999923706,
          8164.479997634888,
          8379.66000199318,
          5784.050022602081,
          10248.740019083023,
          10273.010002613068,
          10552.139996051788,
          14202.430023670197,
          14881.319977283478,
          15955.010010004044,
          15198.730029582977,
          15976.160036802292,
          15797.160032749176,
          18273.47000026703,
          18924.740015029907,
          18672.719992160797,
          19050.120033979416,
          27627.780010700226,
          23648.640009880066,
          26113.280064582825,
          24624.400020599365,
          30176.230063199997,
          28840.02005815506,
          27251.770005702972,
          29983.17000055313,
          30882.190045118332,
          35330.030009031296,
          37733.41996097565,
          38651.48005390167,
          41432.36010813713,
          32364.93000769615,
          40945.88006591797,
          43342.71005153656,
          53808.68007564545,
          53857.66008758545,
          51857.6800236702,
          55463.780044555664,
          51208.71013402939,
          72386.13998031616,
          66137.72016692162,
          66447.24012327194,
          72943.29009747505,
          71368.64007759094,
          81091.82999517396,
          77404.38005316257,
          88508.12016558647,
          97194.22011387348,
          108744.1701669693,
          111661.90014863014,
          115824.84018015862,
          132233.71016085148,
          145595.12021243572,
          175997.6001570411,
          139637.3400874138
         ]
        },
        {
         "fill": "tozeroy",
         "fillcolor": "rgba(255, 0, 0, 0.3)",
         "hovertemplate": "<b>Date:</b> %{x}<br><b>Revenue:</b> $%{y:.2f}<extra></extra>",
         "line": {
          "color": "#FF9999",
          "dash": "dash",
          "shape": "spline"
         },
         "mode": "lines",
         "name": "Worst-Case Scenario ($)",
         "opacity": 0.3,
         "type": "scatter",
         "x": [
          "2019-01-01T00:00:00",
          "2019-02-01T00:00:00",
          "2019-03-01T00:00:00",
          "2019-04-01T00:00:00",
          "2019-05-01T00:00:00",
          "2019-06-01T00:00:00",
          "2019-07-01T00:00:00",
          "2019-08-01T00:00:00",
          "2019-09-01T00:00:00",
          "2019-10-01T00:00:00",
          "2019-11-01T00:00:00",
          "2019-12-01T00:00:00",
          "2020-01-01T00:00:00",
          "2020-02-01T00:00:00",
          "2020-03-01T00:00:00",
          "2020-04-01T00:00:00",
          "2020-05-01T00:00:00",
          "2020-06-01T00:00:00",
          "2020-07-01T00:00:00",
          "2020-08-01T00:00:00",
          "2020-09-01T00:00:00",
          "2020-10-01T00:00:00",
          "2020-11-01T00:00:00",
          "2020-12-01T00:00:00",
          "2021-01-01T00:00:00",
          "2021-02-01T00:00:00",
          "2021-03-01T00:00:00",
          "2021-04-01T00:00:00",
          "2021-05-01T00:00:00",
          "2021-06-01T00:00:00",
          "2021-07-01T00:00:00",
          "2021-08-01T00:00:00",
          "2021-09-01T00:00:00",
          "2021-10-01T00:00:00",
          "2021-11-01T00:00:00",
          "2021-12-01T00:00:00",
          "2022-01-01T00:00:00",
          "2022-02-01T00:00:00",
          "2022-03-01T00:00:00",
          "2022-04-01T00:00:00",
          "2022-05-01T00:00:00",
          "2022-06-01T00:00:00",
          "2022-07-01T00:00:00",
          "2022-08-01T00:00:00",
          "2022-09-01T00:00:00",
          "2022-10-01T00:00:00",
          "2022-11-01T00:00:00",
          "2022-12-01T00:00:00",
          "2023-01-01T00:00:00",
          "2023-02-01T00:00:00",
          "2023-03-01T00:00:00",
          "2023-04-01T00:00:00",
          "2023-05-01T00:00:00",
          "2023-06-01T00:00:00",
          "2023-07-01T00:00:00",
          "2023-08-01T00:00:00",
          "2023-09-01T00:00:00",
          "2023-10-01T00:00:00",
          "2023-11-01T00:00:00",
          "2023-12-01T00:00:00",
          "2024-01-01T00:00:00",
          "2024-02-01T00:00:00",
          "2024-03-01T00:00:00",
          "2024-04-01T00:00:00",
          "2024-05-01T00:00:00",
          "2024-06-01T00:00:00",
          "2024-07-01T00:00:00",
          "2024-08-01T00:00:00",
          "2024-09-01T00:00:00",
          "2024-10-01T00:00:00",
          "2024-11-01T00:00:00",
          "2024-12-01T00:00:00",
          "2025-01-01T00:00:00",
          "2025-02-01T00:00:00",
          "2025-03-01T00:00:00",
          "2025-04-01T00:00:00",
          "2025-05-01T00:00:00",
          "2025-06-01T00:00:00",
          "2025-07-01T00:00:00",
          "2025-08-01T00:00:00",
          "2025-09-01T00:00:00",
          "2025-10-01T00:00:00",
          "2025-11-01T00:00:00",
          "2025-12-01T00:00:00",
          "2026-01-01T00:00:00",
          "2026-02-01T00:00:00",
          "2026-03-01T00:00:00",
          "2026-04-01T00:00:00",
          "2026-05-01T00:00:00",
          "2026-06-01T00:00:00",
          "2026-07-01T00:00:00",
          "2026-08-01T00:00:00",
          "2026-09-01T00:00:00",
          "2026-10-01T00:00:00",
          "2026-11-01T00:00:00",
          "2026-12-01T00:00:00",
          "2027-01-01T00:00:00",
          "2027-02-01T00:00:00",
          "2027-03-01T00:00:00",
          "2027-04-01T00:00:00",
          "2027-05-01T00:00:00",
          "2027-06-01T00:00:00",
          "2027-07-01T00:00:00",
          "2027-08-01T00:00:00",
          "2027-09-01T00:00:00",
          "2027-10-01T00:00:00",
          "2027-11-01T00:00:00",
          "2027-12-01T00:00:00",
          "2028-01-01T00:00:00",
          "2028-02-01T00:00:00",
          "2028-03-01T00:00:00",
          "2028-04-01T00:00:00",
          "2028-05-01T00:00:00",
          "2028-06-01T00:00:00",
          "2028-07-01T00:00:00",
          "2028-08-01T00:00:00",
          "2028-09-01T00:00:00",
          "2028-10-01T00:00:00",
          "2028-11-01T00:00:00",
          "2028-12-01T00:00:00",
          "2029-01-01T00:00:00"
         ],
         "y": [
          -1564.831513085475,
          -3407.434979004139,
          489.67901185449716,
          -2117.0035408460208,
          3288.937682652247,
          4269.7055724913735,
          5510.18197047679,
          3664.674949157504,
          1968.6589349245794,
          10650.50313433637,
          10790.97498330538,
          22822.14050779422,
          6703.089396624719,
          9471.205865810223,
          12169.44141675321,
          11622.59738905314,
          15408.709187095308,
          14134.660840199846,
          13863.715512567698,
          17694.428594221445,
          20216.597575336298,
          24085.203175810333,
          24436.260311401173,
          20389.010315642125,
          31900.145491942738,
          21068.730539539218,
          25680.511206734864,
          24027.042487397954,
          28102.750106065247,
          26720.158713045665,
          27795.257528052683,
          30536.323126262185,
          31888.4581886604,
          37287.78747444438,
          37983.933609008156,
          39781.52990005913,
          44082.993552476415,
          38267.32760127309,
          44621.64388579916,
          41435.949473175235,
          48151.7983025647,
          50809.95482244296,
          50320.42678411365,
          51603.13251366199,
          54199.8792100202,
          63778.157167468635,
          67598.07123631355,
          72253.99543617349,
          72521.93872607243,
          78168.5664434313,
          86702.16431049911,
          81782.36510511611,
          101449.93045428347,
          107211.37840036157,
          111764.24601247146,
          108970.84122534015,
          118190.38847073023,
          135567.46268989975,
          137889.17146423776,
          152193.74891159098,
          100825.02399802272,
          110025.70997421401,
          107393.38311866405,
          109988.78509182451,
          126859.33320185653,
          121799.4777165687,
          127225.89263708593,
          117743.81698348049,
          181296.89925011207,
          191772.5953125215,
          189032.85410731222,
          201417.28559595408,
          216894.16038841035,
          200026.09094773262,
          216054.0645219236,
          226893.91986801242,
          231690.07230601812,
          222182.22731390077,
          241204.38861685665,
          252282.91218697515,
          243463.63266080973,
          246607.0468187203,
          257813.82135061224,
          269879.39351359254,
          265040.6066606671,
          277225.02399014565,
          269461.05927128065,
          296736.5584637023,
          281909.59783135244,
          290122.2313863414,
          303645.292022687,
          307678.9148088676,
          322478.7603136303,
          309744.4388217522,
          336475.91357758635,
          333785.5401172553,
          343114.65495458915,
          344430.32615287346,
          340555.48183438554,
          340429.75315541483,
          372789.71474294504,
          367763.26035861095,
          375159.5941000154,
          394800.90955419303,
          386893.76213498175,
          391617.2236594423,
          397727.13013287476,
          404452.66807919974,
          395045.50519374287,
          392453.75624103704,
          437579.91978625976,
          419619.2056350324,
          438266.67905377387,
          429559.11996094265,
          423200.28171335603,
          445876.85855507955,
          453965.4533965718,
          444132.27417019656,
          484048.539793486,
          460372.8894738738,
          491923.81120671326
         ]
        }
       ],
       "layout": {
        "height": 600,
        "legend": {
         "orientation": "h",
         "x": 0.5,
         "xanchor": "center",
         "y": -0.3,
         "yanchor": "bottom"
        },
        "plot_bgcolor": "white",
        "template": {
         "layout": {
          "font": {
           "color": "#2D494C",
           "family": "Lato",
           "size": 14
          },
          "hoverlabel": {
           "bgcolor": "#E5F2F2",
           "bordercolor": "#2D494C",
           "font": {
            "color": "#2D494C",
            "size": 14
           }
          },
          "legend": {
           "font": {
            "size": 12
           },
           "title": {
            "font": {
             "color": "#2D494C",
             "size": 16
            },
            "text": "<b>Legend Title</b>"
           }
          },
          "paper_bgcolor": "#FDFDFD",
          "plot_bgcolor": "#FDFDFD",
          "title": {
           "font": {
            "size": 24
           },
           "text": "<b>Your Chart Title</b>",
           "x": 0.5
          },
          "xaxis": {
           "showgrid": false,
           "tickfont": {
            "size": 12
           },
           "title": {
            "font": {
             "size": 16
            },
            "text": "<b>X Axis Title</b>"
           }
          },
          "yaxis": {
           "showgrid": false,
           "tickfont": {
            "size": 12
           },
           "title": {
            "font": {
             "size": 16
            },
            "text": "<b>Y Axis Title</b>"
           }
          }
         }
        },
        "title": {
         "text": "Worst-Case Revenue Forecast"
        },
        "xaxis": {
         "title": {
          "text": "Date"
         }
        },
        "yaxis": {
         "title": {
          "text": "Revenue ($)"
         }
        }
       }
      }
     },
     "metadata": {},
     "output_type": "display_data"
    }
   ],
   "source": [
    "fig10 = go.Figure()\n",
    "\n",
    "fig10.add_trace(go.Scatter(\n",
    "    x=sales_data['ds'], \n",
    "    y=sales_data['y'], \n",
    "    mode='lines', \n",
    "    name='Actual Revenue ($)',\n",
    "    line_shape='spline',  \n",
    "    fill='tozeroy',  \n",
    "    fillcolor='#8CCB8C',  \n",
    "))\n",
    "\n",
    "# Worst-case forecasted sales data\n",
    "fig10.add_trace(go.Scatter(\n",
    "    x=worst_case_forecast.index, \n",
    "    y=worst_case_forecast['yhat'], \n",
    "    mode='lines', \n",
    "    name='Worst-Case Scenario ($)',\n",
    "    line_shape='spline',  \n",
    "    fill='tozeroy',  \n",
    "    fillcolor='rgba(255, 0, 0, 0.3)',\n",
    "    line=dict(dash='dash', color='#FF9999'),  \n",
    "    opacity=0.3  \n",
    "))\n",
    "\n",
    "fig10.update_layout(\n",
    "    title='Worst-Case Revenue Forecast',\n",
    "    xaxis_title='Date',\n",
    "    yaxis_title='Revenue ($)',\n",
    "    legend=dict(orientation='h', yanchor='bottom', y=-0.3, xanchor='center', x=0.5),\n",
    "    height=600,\n",
    "    plot_bgcolor='white'\n",
    ")\n",
    "\n",
    "fig10.update_traces(\n",
    "    hovertemplate='<b>Date:</b> %{x}<br><b>Revenue:</b> $%{y:.2f}<extra></extra>'\n",
    ")\n",
    "\n",
    "fig10.show()"
   ]
  },
  {
   "cell_type": "code",
   "execution_count": 1061,
   "metadata": {},
   "outputs": [],
   "source": [
    "# Combine actual revenue and worst-case forecast data\n",
    "worst_case = pd.concat([sales_data.set_index('ds'), worst_case_forecast[['yhat']]], axis=1)\n",
    "\n",
    "# Rename columns to be more descriptive\n",
    "worst_case.columns = ['actual_revenue', 'worst_case_revenue']\n",
    "\n",
    "# Reset index to have 'ds' (date) as a column\n",
    "worst_case.reset_index(inplace=True)\n",
    "\n",
    "# Save the worst-case forecast data to a CSV file for Power BI\n",
    "worst_case.to_csv(os.path.join(outdir, 'worst_case.csv'), index=False)"
   ]
  },
  {
   "cell_type": "markdown",
   "metadata": {},
   "source": [
    "## Sales Analysis\n",
    "\n",
    "This analysis provides insights into sales seasonality, daily sales patterns, and country-specific weekday vs. weekend sales behavior. It leverages advanced time series forecasting with Prophet to predict future trends and understand the cyclical nature of sales. Insights gained here will help optimize marketing strategies, inventory management, and customer targeting efforts.\n"
   ]
  },
  {
   "cell_type": "markdown",
   "metadata": {},
   "source": []
  },
  {
   "cell_type": "markdown",
   "metadata": {},
   "source": [
    "### Yearly Sales Seasonality\n",
    "\n",
    "Uncovered patterns of seasonality in yearly sales that can inform future marketing strategies and inventory planning.<br>\n",
    "<br>\n",
    "\n",
    "**Insight:**\n",
    "\n",
    "Yearly sales exhibit a `cyclical trend` with significant spikes during the holiday season in **Q4**. These trends can be leveraged to focus marketing campaigns around high-revenue periods."
   ]
  },
  {
   "cell_type": "code",
   "execution_count": 1062,
   "metadata": {},
   "outputs": [
    {
     "name": "stderr",
     "output_type": "stream",
     "text": [
      "INFO:prophet:Disabling weekly seasonality. Run prophet with weekly_seasonality=True to override this.\n",
      "INFO:prophet:Disabling daily seasonality. Run prophet with daily_seasonality=True to override this.\n",
      "INFO:cmdstanpy:start chain 1\n",
      "INFO:cmdstanpy:finish chain 1\n",
      "/Users/bartob/Library/Python/3.9/lib/python/site-packages/prophet/plot.py:228: FutureWarning:\n",
      "\n",
      "The behavior of DatetimeProperties.to_pydatetime is deprecated, in a future version this will return a Series containing python datetime objects instead of an ndarray. To retain the old behavior, call `np.array` on the result\n",
      "\n",
      "/Users/bartob/Library/Python/3.9/lib/python/site-packages/prophet/plot.py:351: FutureWarning:\n",
      "\n",
      "The behavior of DatetimeProperties.to_pydatetime is deprecated, in a future version this will return a Series containing python datetime objects instead of an ndarray. To retain the old behavior, call `np.array` on the result\n",
      "\n",
      "/Users/bartob/Library/Python/3.9/lib/python/site-packages/prophet/plot.py:354: FutureWarning:\n",
      "\n",
      "The behavior of DatetimeProperties.to_pydatetime is deprecated, in a future version this will return a Series containing python datetime objects instead of an ndarray. To retain the old behavior, call `np.array` on the result\n",
      "\n"
     ]
    },
    {
     "data": {
      "image/png": "[encoded data removed]",
      "text/plain": [
       "<Figure size 900x600 with 2 Axes>"
      ]
     },
     "execution_count": 1062,
     "metadata": {},
     "output_type": "execute_result"
    },
    {
     "data": {
      "image/png": "[encoded data removed]",
      "text/plain": [
       "<Figure size 900x600 with 2 Axes>"
      ]
     },
     "metadata": {},
     "output_type": "display_data"
    }
   ],
   "source": [
    "# Prepare data for Prophet forecasting\n",
    "seasonality_data = sales_data.copy()\n",
    "seasonality_data.columns = ['ds', 'y']  # Rename columns for Prophet compatibility\n",
    "\n",
    "# Fit Prophet model with yearly seasonality\n",
    "prophet_model = Prophet(yearly_seasonality=True)\n",
    "prophet_model.fit(seasonality_data)\n",
    "\n",
    "# Generate future predictions\n",
    "future = prophet_model.make_future_dataframe(periods=60, freq='MS')\n",
    "forecast = prophet_model.predict(future)\n",
    "\n",
    "# Visualize the seasonality and trend components\n",
    "prophet_model.plot_components(forecast)"
   ]
  },
  {
   "cell_type": "code",
   "execution_count": 1063,
   "metadata": {},
   "outputs": [
    {
     "data": {
      "application/vnd.plotly.v1+json": {
       "config": {
        "plotlyServerURL": "https://plot.ly"
       },
       "data": [
        {
         "fill": "tozeroy",
         "fillcolor": "#B7E0B1",
         "hovertemplate": "<b>Date:</b> %{x}<br> <b>Revenue:</b> $%{y:.2f}<extra></extra>",
         "line": {
          "shape": "spline"
         },
         "mode": "lines",
         "name": "Yearly Seasonality",
         "opacity": 0.1,
         "type": "scatter",
         "x": [
          "2019-01-01T00:00:00",
          "2019-02-01T00:00:00",
          "2019-03-01T00:00:00",
          "2019-04-01T00:00:00",
          "2019-05-01T00:00:00",
          "2019-06-01T00:00:00",
          "2019-07-01T00:00:00",
          "2019-08-01T00:00:00",
          "2019-09-01T00:00:00",
          "2019-10-01T00:00:00",
          "2019-11-01T00:00:00",
          "2019-12-01T00:00:00",
          "2020-01-01T00:00:00",
          "2020-02-01T00:00:00",
          "2020-03-01T00:00:00",
          "2020-04-01T00:00:00",
          "2020-05-01T00:00:00",
          "2020-06-01T00:00:00",
          "2020-07-01T00:00:00",
          "2020-08-01T00:00:00",
          "2020-09-01T00:00:00",
          "2020-10-01T00:00:00",
          "2020-11-01T00:00:00",
          "2020-12-01T00:00:00",
          "2021-01-01T00:00:00",
          "2021-02-01T00:00:00",
          "2021-03-01T00:00:00",
          "2021-04-01T00:00:00",
          "2021-05-01T00:00:00",
          "2021-06-01T00:00:00",
          "2021-07-01T00:00:00",
          "2021-08-01T00:00:00",
          "2021-09-01T00:00:00",
          "2021-10-01T00:00:00",
          "2021-11-01T00:00:00",
          "2021-12-01T00:00:00",
          "2022-01-01T00:00:00",
          "2022-02-01T00:00:00",
          "2022-03-01T00:00:00",
          "2022-04-01T00:00:00",
          "2022-05-01T00:00:00",
          "2022-06-01T00:00:00",
          "2022-07-01T00:00:00",
          "2022-08-01T00:00:00",
          "2022-09-01T00:00:00",
          "2022-10-01T00:00:00",
          "2022-11-01T00:00:00",
          "2022-12-01T00:00:00",
          "2023-01-01T00:00:00",
          "2023-02-01T00:00:00",
          "2023-03-01T00:00:00",
          "2023-04-01T00:00:00",
          "2023-05-01T00:00:00",
          "2023-06-01T00:00:00",
          "2023-07-01T00:00:00",
          "2023-08-01T00:00:00",
          "2023-09-01T00:00:00",
          "2023-10-01T00:00:00",
          "2023-11-01T00:00:00",
          "2023-12-01T00:00:00",
          "2024-01-01T00:00:00",
          "2024-02-01T00:00:00",
          "2024-03-01T00:00:00",
          "2024-04-01T00:00:00",
          "2024-05-01T00:00:00",
          "2024-06-01T00:00:00",
          "2024-07-01T00:00:00",
          "2024-08-01T00:00:00",
          "2024-09-01T00:00:00",
          "2024-10-01T00:00:00",
          "2024-11-01T00:00:00",
          "2024-12-01T00:00:00",
          "2025-01-01T00:00:00",
          "2025-02-01T00:00:00",
          "2025-03-01T00:00:00",
          "2025-04-01T00:00:00",
          "2025-05-01T00:00:00",
          "2025-06-01T00:00:00",
          "2025-07-01T00:00:00",
          "2025-08-01T00:00:00",
          "2025-09-01T00:00:00",
          "2025-10-01T00:00:00",
          "2025-11-01T00:00:00",
          "2025-12-01T00:00:00",
          "2026-01-01T00:00:00",
          "2026-02-01T00:00:00",
          "2026-03-01T00:00:00",
          "2026-04-01T00:00:00",
          "2026-05-01T00:00:00",
          "2026-06-01T00:00:00",
          "2026-07-01T00:00:00",
          "2026-08-01T00:00:00",
          "2026-09-01T00:00:00",
          "2026-10-01T00:00:00",
          "2026-11-01T00:00:00",
          "2026-12-01T00:00:00",
          "2027-01-01T00:00:00",
          "2027-02-01T00:00:00",
          "2027-03-01T00:00:00",
          "2027-04-01T00:00:00",
          "2027-05-01T00:00:00",
          "2027-06-01T00:00:00",
          "2027-07-01T00:00:00",
          "2027-08-01T00:00:00",
          "2027-09-01T00:00:00",
          "2027-10-01T00:00:00",
          "2027-11-01T00:00:00",
          "2027-12-01T00:00:00",
          "2028-01-01T00:00:00",
          "2028-02-01T00:00:00",
          "2028-03-01T00:00:00",
          "2028-04-01T00:00:00",
          "2028-05-01T00:00:00",
          "2028-06-01T00:00:00",
          "2028-07-01T00:00:00",
          "2028-08-01T00:00:00",
          "2028-09-01T00:00:00",
          "2028-10-01T00:00:00",
          "2028-11-01T00:00:00",
          "2028-12-01T00:00:00",
          "2029-01-01T00:00:00"
         ],
         "y": [
          692.6937994487168,
          -2176.2603932808024,
          705.8192073549928,
          -2962.703987945791,
          1559.4013487426855,
          1369.6369224924108,
          1458.3561171346794,
          -1082.1554852297627,
          -3796.6671019572523,
          3944.7979904254385,
          3133.284874643345,
          14285.085390698061,
          -3305.2617476175783,
          -1788.5541787564068,
          274.0301830122674,
          -954.9067891280673,
          1277.8814363875915,
          -847.4195935708944,
          -2082.363754889542,
          112.24708974278657,
          1607.4640874722481,
          5628.909401574332,
          4159.518764115903,
          -926.7881080458782,
          8483.917832276526,
          -2861.7216088847354,
          421.4063985107656,
          -1632.613092314467,
          1346.9870784911177,
          -122.82048517708266,
          -873.3882419864107,
          -235.14237917069514,
          -187.7413915880731,
          5026.758346638719,
          3742.831785725956,
          4194.198842065514,
          4623.43759634915,
          -2533.773199102347,
          565.3290343658488,
          -2302.121551549811,
          1440.9153408617053,
          616.6286678632091,
          307.33834629062125,
          -633.5120069979406,
          -1989.9414722761935,
          4465.011840770334,
          3401.0123905808464,
          9266.448776138797,
          692.6937994160221,
          -2176.2603932864736,
          705.8192073664162,
          -2962.7039879490762,
          1559.4013487466361,
          1369.6369224984144,
          1458.3561171343324,
          -1082.1554852263237,
          -3796.667101953239,
          3944.7979904401323,
          3133.2848746253294,
          14285.085390655651,
          -3305.2617475802476,
          -1788.5541787467016,
          274.0301830086135,
          -954.9067891376467,
          1277.8814363769338,
          -847.4195935774134,
          -2082.3637548995234,
          112.24708974158976,
          1607.4640875045252,
          5628.909401575749,
          4159.518764113606,
          -926.7881080782603,
          8483.917832281308,
          -2861.7216088806617,
          421.40639850242945,
          -1632.6130923313174,
          1346.9870784614784,
          -122.82048517597867,
          -873.3882419882718,
          -235.1423791515414,
          -187.74139158332616,
          5026.75834662509,
          3742.8317857120046,
          4194.198842053316,
          4623.437596382236,
          -2533.773199114762,
          565.3290343774504,
          -2302.121551566664,
          1440.9153408881302,
          616.6286678760735,
          307.3383462931834,
          -633.5120070183108,
          -1989.9414722890397,
          4465.011840772493,
          3401.0123905925702,
          9266.448776175586,
          692.6937994402172,
          -2176.260393279452,
          705.8192073763814,
          -2962.7039879330514,
          1559.401348745316,
          1369.636922505871,
          1458.3561171270906,
          -1082.155485246684,
          -3796.6671019658083,
          3944.7979904469025,
          3133.28487464738,
          14285.085390688428,
          -3305.2617476025034,
          -1788.5541787530874,
          274.03018300691843,
          -954.9067891288587,
          1277.8814363886197,
          -847.4195935824082,
          -2082.363754896045,
          112.24708974450606,
          1607.4640874935806,
          5628.909401588714,
          4159.5187641245975,
          -926.788108066004,
          8483.917832271698
         ]
        }
       ],
       "layout": {
        "height": 600,
        "legend": {
         "orientation": "h",
         "x": 0.5,
         "xanchor": "center",
         "y": -0.3,
         "yanchor": "bottom"
        },
        "plot_bgcolor": "white",
        "template": {
         "layout": {
          "font": {
           "color": "#2D494C",
           "family": "Lato",
           "size": 14
          },
          "hoverlabel": {
           "bgcolor": "#E5F2F2",
           "bordercolor": "#2D494C",
           "font": {
            "color": "#2D494C",
            "size": 14
           }
          },
          "legend": {
           "font": {
            "size": 12
           },
           "title": {
            "font": {
             "color": "#2D494C",
             "size": 16
            },
            "text": "<b>Legend Title</b>"
           }
          },
          "paper_bgcolor": "#FDFDFD",
          "plot_bgcolor": "#FDFDFD",
          "title": {
           "font": {
            "size": 24
           },
           "text": "<b>Your Chart Title</b>",
           "x": 0.5
          },
          "xaxis": {
           "showgrid": false,
           "tickfont": {
            "size": 12
           },
           "title": {
            "font": {
             "size": 16
            },
            "text": "<b>X Axis Title</b>"
           }
          },
          "yaxis": {
           "showgrid": false,
           "tickfont": {
            "size": 12
           },
           "title": {
            "font": {
             "size": 16
            },
            "text": "<b>Y Axis Title</b>"
           }
          }
         }
        },
        "title": {
         "text": " Yearly sales seasonality"
        },
        "xaxis": {
         "title": {
          "text": "Date"
         }
        },
        "yaxis": {
         "title": {
          "text": "Seasonal Effect"
         }
        }
       }
      }
     },
     "metadata": {},
     "output_type": "display_data"
    }
   ],
   "source": [
    "# Extract the yearly seasonality from the forecast\n",
    "yearly_seasonality = forecast[['ds', 'yearly']]\n",
    "\n",
    "# Yearly sales seasonality\n",
    "fig11 = go.Figure()\n",
    "\n",
    "fig11.add_trace(go.Scatter(\n",
    "    x=yearly_seasonality['ds'], \n",
    "    y=yearly_seasonality['yearly'], \n",
    "    mode='lines', \n",
    "    name='Yearly Seasonality',\n",
    "    line_shape='spline',  \n",
    "    fill='tozeroy',  \n",
    "    fillcolor='#B7E0B1', \n",
    "    opacity=0.1 \n",
    "))\n",
    "\n",
    "fig11.update_layout(\n",
    "    title=' Yearly sales seasonality',\n",
    "    xaxis_title='Date',\n",
    "    yaxis_title='Seasonal Effect',\n",
    "    legend=dict(orientation='h', yanchor='bottom', y=-0.3, xanchor='center', x=0.5),\n",
    "    height=600,\n",
    "    plot_bgcolor='white'\n",
    ")\n",
    "\n",
    "fig11.update_traces(\n",
    "    hovertemplate='<b>Date:</b> %{x}<br> <b>Revenue:</b> $%{y:.2f}<extra></extra>'\n",
    ")\n",
    "\n",
    "fig11.show()"
   ]
  },
  {
   "cell_type": "markdown",
   "metadata": {},
   "source": [
    "### Weekday vs. Weekend sales pattern\n",
    "\n",
    "Compared the performance of sales on `weekdays` vs `weekends` and provide actionable insights for improving weekend sales.<br>\n",
    "<br>\n",
    "\n",
    "**Insight:**\n",
    "\n",
    "Weekdays consistently outperform weekends in terms of sales, likely due to work-related browsing and purchasing behavior. Marketing efforts could focus on boosting weekend sales to balance the difference or simply improve it."
   ]
  },
  {
   "cell_type": "code",
   "execution_count": 1064,
   "metadata": {},
   "outputs": [
    {
     "data": {
      "application/vnd.plotly.v1+json": {
       "config": {
        "plotlyServerURL": "https://plot.ly"
       },
       "data": [
        {
         "alignmentgroup": "True",
         "hovertemplate": "<b>Day Type:</b> %{x}<br><b>Revenue:</b> $%{y:.2f}<extra></extra>",
         "legendgroup": "Weekday",
         "marker": {
          "color": "#607D77",
          "pattern": {
           "shape": ""
          }
         },
         "name": "Weekday",
         "offsetgroup": "Weekday",
         "orientation": "v",
         "showlegend": true,
         "textposition": "auto",
         "type": "bar",
         "x": [
          "Weekday"
         ],
         "xaxis": "x",
         "y": [
          1892851.7320417538
         ],
         "yaxis": "y"
        },
        {
         "alignmentgroup": "True",
         "hovertemplate": "<b>Day Type:</b> %{x}<br><b>Revenue:</b> $%{y:.2f}<extra></extra>",
         "legendgroup": "Weekend",
         "marker": {
          "color": "#B7E0B1",
          "pattern": {
           "shape": ""
          }
         },
         "name": "Weekend",
         "offsetgroup": "Weekend",
         "orientation": "v",
         "showlegend": true,
         "textposition": "auto",
         "type": "bar",
         "x": [
          "Weekend"
         ],
         "xaxis": "x",
         "y": [
          756441.9009298086
         ],
         "yaxis": "y"
        }
       ],
       "layout": {
        "barmode": "relative",
        "height": 600,
        "legend": {
         "title": {
          "text": "Day Type"
         },
         "tracegroupgap": 0
        },
        "showlegend": false,
        "template": {
         "layout": {
          "font": {
           "color": "#2D494C",
           "family": "Lato",
           "size": 14
          },
          "hoverlabel": {
           "bgcolor": "#E5F2F2",
           "bordercolor": "#2D494C",
           "font": {
            "color": "#2D494C",
            "size": 14
           }
          },
          "legend": {
           "font": {
            "size": 12
           },
           "title": {
            "font": {
             "color": "#2D494C",
             "size": 16
            },
            "text": "<b>Legend Title</b>"
           }
          },
          "paper_bgcolor": "#FDFDFD",
          "plot_bgcolor": "#FDFDFD",
          "title": {
           "font": {
            "size": 24
           },
           "text": "<b>Your Chart Title</b>",
           "x": 0.5
          },
          "xaxis": {
           "showgrid": false,
           "tickfont": {
            "size": 12
           },
           "title": {
            "font": {
             "size": 16
            },
            "text": "<b>X Axis Title</b>"
           }
          },
          "yaxis": {
           "showgrid": false,
           "tickfont": {
            "size": 12
           },
           "title": {
            "font": {
             "size": 16
            },
            "text": "<b>Y Axis Title</b>"
           }
          }
         }
        },
        "title": {
         "text": "Weekday vs Weekend Sales"
        },
        "xaxis": {
         "anchor": "y",
         "categoryarray": [
          "Weekday",
          "Weekend"
         ],
         "categoryorder": "array",
         "domain": [
          0,
          1
         ],
         "title": {
          "text": "Day Type"
         }
        },
        "yaxis": {
         "anchor": "x",
         "domain": [
          0,
          1
         ],
         "title": {
          "text": "Revenue ($)"
         }
        }
       }
      }
     },
     "metadata": {},
     "output_type": "display_data"
    }
   ],
   "source": [
    "# Classify dates as weekday or weekend\n",
    "product_performance['day_of_week'] = product_performance['created_at_x'].dt.dayofweek\n",
    "product_performance['weekday_weekend'] = product_performance['day_of_week'].apply(lambda x: 'Weekend' if x >= 5 else 'Weekday')\n",
    "\n",
    "# Group sales by weekday vs weekend\n",
    "weekday_vs_weekend_sales = product_performance.groupby('weekday_weekend').agg({'revenue': 'sum'}).reset_index()\n",
    "\n",
    "# Plot weekday vs weekend sales\n",
    "\n",
    "fig12 = px.bar(\n",
    "    weekday_vs_weekend_sales, \n",
    "    x='weekday_weekend', \n",
    "    y='revenue', \n",
    "    title='Weekday vs Weekend Sales',\n",
    "    labels={'revenue': 'Revenue ($)', 'weekday_weekend': 'Day Type'},\n",
    "    color='weekday_weekend',\n",
    "    color_discrete_sequence=['#607D77', '#B7E0B1']\n",
    ")\n",
    "\n",
    "\n",
    "fig12.update_layout(\n",
    "    xaxis_title='Day Type',\n",
    "    yaxis_title='Revenue ($)',\n",
    "    showlegend=False, \n",
    "    height=600\n",
    ")\n",
    "\n",
    "fig12.update_traces(\n",
    "    hovertemplate='<b>Day Type:</b> %{x}<br><b>Revenue:</b> $%{y:.2f}<extra></extra>'\n",
    ")\n",
    "\n",
    "fig12.show()\n"
   ]
  },
  {
   "cell_type": "markdown",
   "metadata": {},
   "source": [
    "### Country-Specific Weekday vs Weekend Sales\n",
    "\n",
    "I wanted to examine the variation in sales performance across different countries between weekdays and weekends..<br>\n",
    "<br>\n",
    "\n",
    "**Insight:**\n",
    "\n",
    "- Countries like the **U.S**. and **China** contribute significantly more during weekdays, while some countries show a relatively balanced performance between weekdays and weekends. \n",
    "- Region-specific marketing strategies can be designed based on these behaviors."
   ]
  },
  {
   "cell_type": "code",
   "execution_count": 1065,
   "metadata": {},
   "outputs": [
    {
     "data": {
      "application/vnd.plotly.v1+json": {
       "config": {
        "plotlyServerURL": "https://plot.ly"
       },
       "data": [
        {
         "alignmentgroup": "True",
         "hovertemplate": "<b>Country:</b> %{x}<br><b>Revenue:</b> $%{y:.2f}<extra></extra>",
         "legendgroup": "Weekday",
         "marker": {
          "color": "#607D77",
          "line": {
           "color": "black",
           "width": 1.5
          },
          "pattern": {
           "shape": ""
          }
         },
         "name": "Weekday",
         "offsetgroup": "Weekday",
         "orientation": "v",
         "showlegend": true,
         "text": [
          39277.29010486603,
          22402.520045280457,
          281462.96030652523,
          658788.9606532045,
          336.96999740600586,
          149.99000549316406,
          29.989999771118164,
          85069.99010038376,
          79967.24012112617,
          40257.58001208305,
          3667.630002975464,
          94784.64007806778,
          76450.63995051384,
          93869.4301198721,
          416335.9005441852
         ],
         "textposition": "outside",
         "texttemplate": "%{text:.2s}",
         "type": "bar",
         "x": [
          "Australia",
          "Belgium",
          "Brasil",
          "China",
          "Colombia",
          "Deutschland",
          "España",
          "France",
          "Germany",
          "Japan",
          "Poland",
          "South Korea",
          "Spain",
          "United Kingdom",
          "United States"
         ],
         "xaxis": "x",
         "y": [
          39277.29010486603,
          22402.520045280457,
          281462.96030652523,
          658788.9606532045,
          336.96999740600586,
          149.99000549316406,
          29.989999771118164,
          85069.99010038376,
          79967.24012112617,
          40257.58001208305,
          3667.630002975464,
          94784.64007806778,
          76450.63995051384,
          93869.4301198721,
          416335.9005441852
         ],
         "yaxis": "y"
        },
        {
         "alignmentgroup": "True",
         "hovertemplate": "<b>Country:</b> %{x}<br><b>Revenue:</b> $%{y:.2f}<extra></extra>",
         "legendgroup": "Weekend",
         "marker": {
          "color": "#B7E0B1",
          "line": {
           "color": "black",
           "width": 1.5
          },
          "pattern": {
           "shape": ""
          }
         },
         "name": "Weekend",
         "offsetgroup": "Weekend",
         "orientation": "v",
         "showlegend": true,
         "text": [
          15621.419996976852,
          9.989999771118164,
          8844.340037107468,
          103111.49013757706,
          261849.04029262066,
          60,
          36573.329993486404,
          32734.3700671196,
          16783.05001115799,
          1958.2799978256226,
          39523.53008174896,
          30668.8700196743,
          34365.070043087006,
          174339.12025165558
         ],
         "textposition": "outside",
         "texttemplate": "%{text:.2s}",
         "type": "bar",
         "x": [
          "Australia",
          "Austria",
          "Belgium",
          "Brasil",
          "China",
          "Colombia",
          "France",
          "Germany",
          "Japan",
          "Poland",
          "South Korea",
          "Spain",
          "United Kingdom",
          "United States"
         ],
         "xaxis": "x",
         "y": [
          15621.419996976852,
          9.989999771118164,
          8844.340037107468,
          103111.49013757706,
          261849.04029262066,
          60,
          36573.329993486404,
          32734.3700671196,
          16783.05001115799,
          1958.2799978256226,
          39523.53008174896,
          30668.8700196743,
          34365.070043087006,
          174339.12025165558
         ],
         "yaxis": "y"
        }
       ],
       "layout": {
        "bargap": 0.15,
        "barmode": "group",
        "height": 700,
        "legend": {
         "orientation": "h",
         "title": {
          "text": "Day Type"
         },
         "tracegroupgap": 0,
         "x": 0.5,
         "xanchor": "center",
         "y": -0.3,
         "yanchor": "bottom"
        },
        "template": {
         "layout": {
          "font": {
           "color": "#2D494C",
           "family": "Lato",
           "size": 14
          },
          "hoverlabel": {
           "bgcolor": "#E5F2F2",
           "bordercolor": "#2D494C",
           "font": {
            "color": "#2D494C",
            "size": 14
           }
          },
          "legend": {
           "font": {
            "size": 12
           },
           "title": {
            "font": {
             "color": "#2D494C",
             "size": 16
            },
            "text": "<b>Legend Title</b>"
           }
          },
          "paper_bgcolor": "#FDFDFD",
          "plot_bgcolor": "#FDFDFD",
          "title": {
           "font": {
            "size": 24
           },
           "text": "<b>Your Chart Title</b>",
           "x": 0.5
          },
          "xaxis": {
           "showgrid": false,
           "tickfont": {
            "size": 12
           },
           "title": {
            "font": {
             "size": 16
            },
            "text": "<b>X Axis Title</b>"
           }
          },
          "yaxis": {
           "showgrid": false,
           "tickfont": {
            "size": 12
           },
           "title": {
            "font": {
             "size": 16
            },
            "text": "<b>Y Axis Title</b>"
           }
          }
         }
        },
        "title": {
         "text": "Country-specific weekday vs weekend sales"
        },
        "xaxis": {
         "anchor": "y",
         "domain": [
          0,
          1
         ],
         "title": {
          "text": "Country"
         }
        },
        "yaxis": {
         "anchor": "x",
         "domain": [
          0,
          1
         ],
         "range": [
          0,
          790546.7527838453
         ],
         "title": {
          "text": "Revenue ($)"
         }
        }
       }
      }
     },
     "metadata": {},
     "output_type": "display_data"
    }
   ],
   "source": [
    "# Create a new column for 'weekday' or 'weekend'\n",
    "product_performance['day_of_week'] = product_performance['created_at_x'].dt.dayofweek\n",
    "product_performance['weekday_weekend'] = product_performance['day_of_week'].apply(lambda x: 'Weekend' if x >= 5 else 'Weekday')\n",
    "\n",
    "# Group by country and weekday/weekend and sum the revenue\n",
    "country_sales_by_day_type = product_performance.groupby(['country', 'weekday_weekend']).agg({\n",
    "    'revenue': 'sum'\n",
    "}).reset_index()\n",
    "\n",
    "# Plot country-specific weekday vs weekend sales\n",
    "fig13 = px.bar(\n",
    "    country_sales_by_day_type, \n",
    "    x='country', \n",
    "    y='revenue', \n",
    "    color='weekday_weekend',\n",
    "    title='Country-specific weekday vs weekend sales',\n",
    "    labels={'revenue': 'Revenue ($)', 'country': 'Country', 'weekday_weekend': 'Day Type'},\n",
    "    barmode='group', \n",
    "    color_discrete_sequence=['#607D77', '#B7E0B1'],  \n",
    "    text='revenue' \n",
    ")\n",
    "\n",
    "\n",
    "fig13.update_layout(\n",
    "    xaxis_title='Country',\n",
    "    yaxis_title='Revenue ($)',\n",
    "    yaxis=dict(range=[0, country_sales_by_day_type['revenue'].max() * 1.2]),\n",
    "    bargap=0.15,\n",
    "    legend=dict(\n",
    "        orientation='h',\n",
    "        yanchor='bottom',\n",
    "        y=-0.3,\n",
    "        xanchor='center',\n",
    "        x=0.5\n",
    "    ),\n",
    "    height=700\n",
    ")\n",
    "\n",
    "fig13.update_traces(\n",
    "    texttemplate='%{text:.2s}', \n",
    "    textposition='outside',  \n",
    "    marker_line_width=1.5,  \n",
    "    hovertemplate='<b>Country:</b> %{x}<br><b>Revenue:</b> $%{y:.2f}<extra></extra>',  \n",
    "    marker_line_color='black'  # Bar border color for better contrast\n",
    ")\n",
    "\n",
    "fig13.show()\n"
   ]
  }
 ],
 "metadata": {
  "kernelspec": {
   "display_name": "Python 3",
   "language": "python",
   "name": "python3"
  },
  "language_info": {
   "codemirror_mode": {
    "name": "ipython",
    "version": 3
   },
   "file_extension": ".py",
   "mimetype": "text/x-python",
   "name": "python",
   "nbconvert_exporter": "python",
   "pygments_lexer": "ipython3",
   "version": "3.9.6"
  }
 },
 "nbformat": 4,
 "nbformat_minor": 2
}
